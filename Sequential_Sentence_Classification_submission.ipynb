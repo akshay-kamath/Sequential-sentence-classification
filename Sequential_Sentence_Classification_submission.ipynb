{
  "nbformat": 4,
  "nbformat_minor": 0,
  "metadata": {
    "colab": {
      "provenance": []
    },
    "kernelspec": {
      "display_name": "Python 3",
      "name": "python3"
    },
    "language_info": {
      "name": "python"
    }
  },
  "cells": [
    {
      "cell_type": "markdown",
      "metadata": {
        "id": "g3sED57COkjW"
      },
      "source": [
        "# Objective:\n",
        "1. *Build Deep learning Model for Sequential Sentence Classification, for Converting “Harder to Read” text into “Easier to Read ” text.*\n",
        "2. *Approach:Create many to one model*\n",
        "3. Use following models\n",
        "    1. Naïve Bayes with TF-IDF encoder (baseline)\n",
        "    2. Conv1D with token embedding\n",
        "    3. Pertained Feature Extractor\n",
        "    4. Conv1D with character embedding\n",
        "\n",
        "\n",
        "\n",
        "# Dataset details :\n",
        "\n",
        "[*Original Paper: PubMed 200k RCT : a Dataset for Sequential Sentence Classification in Medical Abstracts*](https://arxiv.org/abs/1710.06071)\n",
        "\n",
        "PubMed 20k RCT is dataset based on PubMed for sequential sentence classification. The dataset consists of approximately 20,000 abstracts of randomized controlled trials. Each sentence of each abstract is labelled with their role in the abstract using one of the following classes: background, objective, method, result, or conclusion. The purpose of releasing this dataset is twofold.\n",
        "First, the majority of datasets for sequential short-text classification i.e., classification of short texts that appear in sequences.\n",
        "Second, from an application perspective, researchers need better tools to efficiently skim through the literature. Automatically classifying each sentence in an abstract would help researchers read abstracts more efficiently, especially in fields where abstracts may be long, such as the medical field."
      ]
    },
    {
      "cell_type": "code",
      "metadata": {
        "id": "es1rHu7wGgj8",
        "colab": {
          "base_uri": "https://localhost:8080/"
        },
        "outputId": "fed3ffc6-5375-4644-b861-c42f973ecaa2"
      },
      "source": [
        "# Downloading the pubmed_20k_RCT from github repository\n",
        "!git clone https://github.com/Franck-Dernoncourt/pubmed-rct.git"
      ],
      "execution_count": 1,
      "outputs": [
        {
          "output_type": "stream",
          "name": "stdout",
          "text": [
            "Cloning into 'pubmed-rct'...\n",
            "remote: Enumerating objects: 39, done.\u001b[K\n",
            "remote: Counting objects: 100% (14/14), done.\u001b[K\n",
            "remote: Compressing objects: 100% (9/9), done.\u001b[K\n",
            "remote: Total 39 (delta 8), reused 5 (delta 5), pack-reused 25\u001b[K\n",
            "Receiving objects: 100% (39/39), 177.08 MiB | 29.90 MiB/s, done.\n",
            "Resolving deltas: 100% (15/15), done.\n",
            "Updating files: 100% (13/13), done.\n"
          ]
        }
      ]
    },
    {
      "cell_type": "code",
      "metadata": {
        "id": "W9UuvgpdnGxN",
        "colab": {
          "base_uri": "https://localhost:8080/"
        },
        "outputId": "e62519c1-0631-4ef8-f0e1-55d902313abd"
      },
      "source": [
        "!ls pubmed-rct/PubMed_20k_RCT_numbers_replaced_with_at_sign"
      ],
      "execution_count": 2,
      "outputs": [
        {
          "output_type": "stream",
          "name": "stdout",
          "text": [
            "dev.txt  test.txt  train.txt\n"
          ]
        }
      ]
    },
    {
      "cell_type": "markdown",
      "metadata": {
        "id": "_jQWzeonnZ_C"
      },
      "source": [
        "* train.txt -This contains list of training set.\n",
        "* dev.txt - This contains the development set (i.e validation set)\n",
        "* test.txt - This file contains the test set"
      ]
    },
    {
      "cell_type": "code",
      "metadata": {
        "id": "4wCCvBa2nNv7"
      },
      "source": [
        "#storing the PubMed_20k_RCT dataset in reference variable for future use\n",
        "datafile_directory = \"pubmed-rct/PubMed_20k_RCT_numbers_replaced_with_at_sign/\""
      ],
      "execution_count": 3,
      "outputs": []
    },
    {
      "cell_type": "code",
      "source": [
        "#Importing required libraries\n",
        "import pandas as pd\n",
        "import matplotlib.pyplot as plt\n",
        "import seaborn as sns\n",
        "import numpy as np\n",
        "import tensorflow as tf\n",
        "from tensorflow.keras import layers\n",
        "from tensorflow.keras.layers.experimental.preprocessing import TextVectorization\n",
        "import random"
      ],
      "metadata": {
        "id": "LvMqX7qr1fme"
      },
      "execution_count": 4,
      "outputs": []
    },
    {
      "cell_type": "markdown",
      "metadata": {
        "id": "B7tK-Gj-sOdQ"
      },
      "source": [
        "### Explore & Preprocess Data"
      ]
    },
    {
      "cell_type": "code",
      "metadata": {
        "id": "RS3JMTIlol9l"
      },
      "source": [
        "def get_raw_data(filepath):\n",
        "    with open(filepath) as f:\n",
        "        return f.readlines()"
      ],
      "execution_count": 5,
      "outputs": []
    },
    {
      "cell_type": "code",
      "metadata": {
        "id": "TN4r2abWsz6j",
        "colab": {
          "base_uri": "https://localhost:8080/"
        },
        "outputId": "c5d9e2e7-7bd0-4d5e-9e29-551b741c820b"
      },
      "source": [
        "#Loading the data\n",
        "train_data = get_raw_data(datafile_directory + 'train.txt')\n",
        "#Viewing first 15 records from training dataset file\n",
        "train_data[:15]"
      ],
      "execution_count": 6,
      "outputs": [
        {
          "output_type": "execute_result",
          "data": {
            "text/plain": [
              "['###24293578\\n',\n",
              " 'OBJECTIVE\\tTo investigate the efficacy of @ weeks of daily low-dose oral prednisolone in improving pain , mobility , and systemic low-grade inflammation in the short term and whether the effect would be sustained at @ weeks in older adults with moderate to severe knee osteoarthritis ( OA ) .\\n',\n",
              " 'METHODS\\tA total of @ patients with primary knee OA were randomized @:@ ; @ received @ mg/day of prednisolone and @ received placebo for @ weeks .\\n',\n",
              " 'METHODS\\tOutcome measures included pain reduction and improvement in function scores and systemic inflammation markers .\\n',\n",
              " 'METHODS\\tPain was assessed using the visual analog pain scale ( @-@ mm ) .\\n',\n",
              " 'METHODS\\tSecondary outcome measures included the Western Ontario and McMaster Universities Osteoarthritis Index scores , patient global assessment ( PGA ) of the severity of knee OA , and @-min walk distance ( @MWD ) .\\n',\n",
              " 'METHODS\\tSerum levels of interleukin @ ( IL-@ ) , IL-@ , tumor necrosis factor ( TNF ) - , and high-sensitivity C-reactive protein ( hsCRP ) were measured .\\n',\n",
              " 'RESULTS\\tThere was a clinically relevant reduction in the intervention group compared to the placebo group for knee pain , physical function , PGA , and @MWD at @ weeks .\\n',\n",
              " 'RESULTS\\tThe mean difference between treatment arms ( @ % CI ) was @ ( @-@ @ ) , p < @ ; @ ( @-@ @ ) , p < @ ; @ ( @-@ @ ) , p < @ ; and @ ( @-@ @ ) , p < @ , respectively .\\n',\n",
              " 'RESULTS\\tFurther , there was a clinically relevant reduction in the serum levels of IL-@ , IL-@ , TNF - , and hsCRP at @ weeks in the intervention group when compared to the placebo group .\\n',\n",
              " 'RESULTS\\tThese differences remained significant at @ weeks .\\n',\n",
              " 'RESULTS\\tThe Outcome Measures in Rheumatology Clinical Trials-Osteoarthritis Research Society International responder rate was @ % in the intervention group and @ % in the placebo group ( p < @ ) .\\n',\n",
              " 'CONCLUSIONS\\tLow-dose oral prednisolone had both a short-term and a longer sustained effect resulting in less knee pain , better physical function , and attenuation of systemic inflammation in older patients with knee OA ( ClinicalTrials.gov identifier NCT@ ) .\\n',\n",
              " '\\n',\n",
              " '###24854809\\n']"
            ]
          },
          "metadata": {},
          "execution_count": 6
        }
      ]
    },
    {
      "cell_type": "markdown",
      "source": [
        " In the dataset, each abstract in the dataset is delineated by a newline character ('\\n'). Additionally, each abstract commences with '###', followed by the abstract ID and another newline. Within each abstract, individual lines begin with the target value we aim to predict, followed by the corresponding text of the abstract line. In the below function preprocessing is performed on the raw data and abstract ids and newlines are omitted from the returned preprocessed data.\n",
        "\n",
        "\n",
        "\n",
        "\n",
        "\n",
        "\n"
      ],
      "metadata": {
        "id": "wrBQ3GQysAvY"
      }
    },
    {
      "cell_type": "code",
      "metadata": {
        "id": "rt2_TsSjtVJb"
      },
      "source": [
        "def preprocess_raw_data(filepath):\n",
        "    raw_data = get_raw_data(filepath)\n",
        "    abstract_data = ''\n",
        "    abstract_samples = []\n",
        "    abstract_id = 0\n",
        "\n",
        "    for line in raw_data:\n",
        "        if line.startswith('###'):\n",
        "            abstract_id = int(line.replace('###', '').replace('\\n', ''))\n",
        "            abstract_data = ''\n",
        "\n",
        "        elif line.isspace(): # check if current line is an abstract end\n",
        "            abstract_data_split = abstract_data.splitlines()\n",
        "\n",
        "            for abstract_line_number, abstract_line in enumerate(abstract_data_split):\n",
        "                line_data = {}\n",
        "                target_text_split = abstract_line.split(\"\\t\")\n",
        "\n",
        "\n",
        "                line_data[\"abstract_text\"] = target_text_split[1] # get target text and lower it\n",
        "                line_data[\"line_number\"] = abstract_line_number # get line number in the abstract\n",
        "                line_data[\"total_lines\"] = len(abstract_data_split) # get total count for abstract lines\n",
        "                line_data[\"target\"] = target_text_split[0] # get target label\n",
        "\n",
        "                abstract_samples.append(line_data)\n",
        "\n",
        "        else:\n",
        "            abstract_data += line\n",
        "\n",
        "    return abstract_samples"
      ],
      "execution_count": 7,
      "outputs": []
    },
    {
      "cell_type": "code",
      "metadata": {
        "id": "7mv3XiwhtApD"
      },
      "source": [
        "#Preprocessing data in train,test and validation sets\n",
        "train_set_samples = preprocess_raw_data(datafile_directory + \"train.txt\")\n",
        "validation_set_samples = preprocess_raw_data(datafile_directory + \"dev.txt\")\n",
        "test_set_samples = preprocess_raw_data(datafile_directory + \"test.txt\")\n"
      ],
      "execution_count": 8,
      "outputs": []
    },
    {
      "cell_type": "code",
      "source": [
        "train_count = len(train_set_samples)\n",
        "val_count = len(validation_set_samples)\n",
        "test_count = len(test_set_samples)\n",
        "print(f'train set samples count:\\t{train_count}')\n",
        "print(f'validation set samples count:\\t{val_count}')\n",
        "print(f'test set samples count:\\t\\t{test_count}')\n"
      ],
      "metadata": {
        "id": "h4JB2BBNytbs",
        "colab": {
          "base_uri": "https://localhost:8080/"
        },
        "outputId": "c2bc772c-aa59-4e78-fb8a-55f804893cc6"
      },
      "execution_count": 9,
      "outputs": [
        {
          "output_type": "stream",
          "name": "stdout",
          "text": [
            "train set samples count:\t180040\n",
            "validation set samples count:\t30212\n",
            "test set samples count:\t\t30135\n"
          ]
        }
      ]
    },
    {
      "cell_type": "code",
      "metadata": {
        "id": "e4Eg_9FI5_cI",
        "colab": {
          "base_uri": "https://localhost:8080/"
        },
        "outputId": "2e0a2ef9-3e1a-426a-a992-7d2c4ae485e4"
      },
      "source": [
        "train_set_samples[:20]"
      ],
      "execution_count": 10,
      "outputs": [
        {
          "output_type": "execute_result",
          "data": {
            "text/plain": [
              "[{'abstract_text': 'To investigate the efficacy of @ weeks of daily low-dose oral prednisolone in improving pain , mobility , and systemic low-grade inflammation in the short term and whether the effect would be sustained at @ weeks in older adults with moderate to severe knee osteoarthritis ( OA ) .',\n",
              "  'line_number': 0,\n",
              "  'total_lines': 12,\n",
              "  'target': 'OBJECTIVE'},\n",
              " {'abstract_text': 'A total of @ patients with primary knee OA were randomized @:@ ; @ received @ mg/day of prednisolone and @ received placebo for @ weeks .',\n",
              "  'line_number': 1,\n",
              "  'total_lines': 12,\n",
              "  'target': 'METHODS'},\n",
              " {'abstract_text': 'Outcome measures included pain reduction and improvement in function scores and systemic inflammation markers .',\n",
              "  'line_number': 2,\n",
              "  'total_lines': 12,\n",
              "  'target': 'METHODS'},\n",
              " {'abstract_text': 'Pain was assessed using the visual analog pain scale ( @-@ mm ) .',\n",
              "  'line_number': 3,\n",
              "  'total_lines': 12,\n",
              "  'target': 'METHODS'},\n",
              " {'abstract_text': 'Secondary outcome measures included the Western Ontario and McMaster Universities Osteoarthritis Index scores , patient global assessment ( PGA ) of the severity of knee OA , and @-min walk distance ( @MWD ) .',\n",
              "  'line_number': 4,\n",
              "  'total_lines': 12,\n",
              "  'target': 'METHODS'},\n",
              " {'abstract_text': 'Serum levels of interleukin @ ( IL-@ ) , IL-@ , tumor necrosis factor ( TNF ) - , and high-sensitivity C-reactive protein ( hsCRP ) were measured .',\n",
              "  'line_number': 5,\n",
              "  'total_lines': 12,\n",
              "  'target': 'METHODS'},\n",
              " {'abstract_text': 'There was a clinically relevant reduction in the intervention group compared to the placebo group for knee pain , physical function , PGA , and @MWD at @ weeks .',\n",
              "  'line_number': 6,\n",
              "  'total_lines': 12,\n",
              "  'target': 'RESULTS'},\n",
              " {'abstract_text': 'The mean difference between treatment arms ( @ % CI ) was @ ( @-@ @ ) , p < @ ; @ ( @-@ @ ) , p < @ ; @ ( @-@ @ ) , p < @ ; and @ ( @-@ @ ) , p < @ , respectively .',\n",
              "  'line_number': 7,\n",
              "  'total_lines': 12,\n",
              "  'target': 'RESULTS'},\n",
              " {'abstract_text': 'Further , there was a clinically relevant reduction in the serum levels of IL-@ , IL-@ , TNF - , and hsCRP at @ weeks in the intervention group when compared to the placebo group .',\n",
              "  'line_number': 8,\n",
              "  'total_lines': 12,\n",
              "  'target': 'RESULTS'},\n",
              " {'abstract_text': 'These differences remained significant at @ weeks .',\n",
              "  'line_number': 9,\n",
              "  'total_lines': 12,\n",
              "  'target': 'RESULTS'},\n",
              " {'abstract_text': 'The Outcome Measures in Rheumatology Clinical Trials-Osteoarthritis Research Society International responder rate was @ % in the intervention group and @ % in the placebo group ( p < @ ) .',\n",
              "  'line_number': 10,\n",
              "  'total_lines': 12,\n",
              "  'target': 'RESULTS'},\n",
              " {'abstract_text': 'Low-dose oral prednisolone had both a short-term and a longer sustained effect resulting in less knee pain , better physical function , and attenuation of systemic inflammation in older patients with knee OA ( ClinicalTrials.gov identifier NCT@ ) .',\n",
              "  'line_number': 11,\n",
              "  'total_lines': 12,\n",
              "  'target': 'CONCLUSIONS'},\n",
              " {'abstract_text': 'Emotional eating is associated with overeating and the development of obesity .',\n",
              "  'line_number': 0,\n",
              "  'total_lines': 11,\n",
              "  'target': 'BACKGROUND'},\n",
              " {'abstract_text': 'Yet , empirical evidence for individual ( trait ) differences in emotional eating and cognitive mechanisms that contribute to eating during sad mood remain equivocal .',\n",
              "  'line_number': 1,\n",
              "  'total_lines': 11,\n",
              "  'target': 'BACKGROUND'},\n",
              " {'abstract_text': 'The aim of this study was to test if attention bias for food moderates the effect of self-reported emotional eating during sad mood ( vs neutral mood ) on actual food intake .',\n",
              "  'line_number': 2,\n",
              "  'total_lines': 11,\n",
              "  'target': 'OBJECTIVE'},\n",
              " {'abstract_text': 'It was expected that emotional eating is predictive of elevated attention for food and higher food intake after an experimentally induced sad mood and that attentional maintenance on food predicts food intake during a sad versus a neutral mood .',\n",
              "  'line_number': 3,\n",
              "  'total_lines': 11,\n",
              "  'target': 'OBJECTIVE'},\n",
              " {'abstract_text': 'Participants ( N = @ ) were randomly assigned to one of the two experimental mood induction conditions ( sad/neutral ) .',\n",
              "  'line_number': 4,\n",
              "  'total_lines': 11,\n",
              "  'target': 'METHODS'},\n",
              " {'abstract_text': 'Attentional biases for high caloric foods were measured by eye tracking during a visual probe task with pictorial food and neutral stimuli .',\n",
              "  'line_number': 5,\n",
              "  'total_lines': 11,\n",
              "  'target': 'METHODS'},\n",
              " {'abstract_text': 'Self-reported emotional eating was assessed with the Dutch Eating Behavior Questionnaire ( DEBQ ) and ad libitum food intake was tested by a disguised food offer .',\n",
              "  'line_number': 6,\n",
              "  'total_lines': 11,\n",
              "  'target': 'METHODS'},\n",
              " {'abstract_text': 'Hierarchical multivariate regression modeling showed that self-reported emotional eating did not account for changes in attention allocation for food or food intake in either condition .',\n",
              "  'line_number': 7,\n",
              "  'total_lines': 11,\n",
              "  'target': 'RESULTS'}]"
            ]
          },
          "metadata": {},
          "execution_count": 10
        }
      ]
    },
    {
      "cell_type": "code",
      "metadata": {
        "colab": {
          "base_uri": "https://localhost:8080/",
          "height": 676
        },
        "id": "qYV92INB6B87",
        "outputId": "56514314-5bcb-4f17-a632-e5e4e046b56c"
      },
      "source": [
        "#converting train,test,validation samples into dataframes\n",
        "train_df = pd.DataFrame(train_set_samples)\n",
        "val_df = pd.DataFrame(validation_set_samples)\n",
        "test_df = pd.DataFrame(test_set_samples)\n",
        "train_df.head(20)"
      ],
      "execution_count": 11,
      "outputs": [
        {
          "output_type": "execute_result",
          "data": {
            "text/plain": [
              "                                        abstract_text  line_number  \\\n",
              "0   To investigate the efficacy of @ weeks of dail...            0   \n",
              "1   A total of @ patients with primary knee OA wer...            1   \n",
              "2   Outcome measures included pain reduction and i...            2   \n",
              "3   Pain was assessed using the visual analog pain...            3   \n",
              "4   Secondary outcome measures included the Wester...            4   \n",
              "5   Serum levels of interleukin @ ( IL-@ ) , IL-@ ...            5   \n",
              "6   There was a clinically relevant reduction in t...            6   \n",
              "7   The mean difference between treatment arms ( @...            7   \n",
              "8   Further , there was a clinically relevant redu...            8   \n",
              "9   These differences remained significant at @ we...            9   \n",
              "10  The Outcome Measures in Rheumatology Clinical ...           10   \n",
              "11  Low-dose oral prednisolone had both a short-te...           11   \n",
              "12  Emotional eating is associated with overeating...            0   \n",
              "13  Yet , empirical evidence for individual ( trai...            1   \n",
              "14  The aim of this study was to test if attention...            2   \n",
              "15  It was expected that emotional eating is predi...            3   \n",
              "16  Participants ( N = @ ) were randomly assigned ...            4   \n",
              "17  Attentional biases for high caloric foods were...            5   \n",
              "18  Self-reported emotional eating was assessed wi...            6   \n",
              "19  Hierarchical multivariate regression modeling ...            7   \n",
              "\n",
              "    total_lines       target  \n",
              "0            12    OBJECTIVE  \n",
              "1            12      METHODS  \n",
              "2            12      METHODS  \n",
              "3            12      METHODS  \n",
              "4            12      METHODS  \n",
              "5            12      METHODS  \n",
              "6            12      RESULTS  \n",
              "7            12      RESULTS  \n",
              "8            12      RESULTS  \n",
              "9            12      RESULTS  \n",
              "10           12      RESULTS  \n",
              "11           12  CONCLUSIONS  \n",
              "12           11   BACKGROUND  \n",
              "13           11   BACKGROUND  \n",
              "14           11    OBJECTIVE  \n",
              "15           11    OBJECTIVE  \n",
              "16           11      METHODS  \n",
              "17           11      METHODS  \n",
              "18           11      METHODS  \n",
              "19           11      RESULTS  "
            ],
            "text/html": [
              "\n",
              "  <div id=\"df-dc5fbec2-fb1b-4c7c-8053-052cc90b1c25\" class=\"colab-df-container\">\n",
              "    <div>\n",
              "<style scoped>\n",
              "    .dataframe tbody tr th:only-of-type {\n",
              "        vertical-align: middle;\n",
              "    }\n",
              "\n",
              "    .dataframe tbody tr th {\n",
              "        vertical-align: top;\n",
              "    }\n",
              "\n",
              "    .dataframe thead th {\n",
              "        text-align: right;\n",
              "    }\n",
              "</style>\n",
              "<table border=\"1\" class=\"dataframe\">\n",
              "  <thead>\n",
              "    <tr style=\"text-align: right;\">\n",
              "      <th></th>\n",
              "      <th>abstract_text</th>\n",
              "      <th>line_number</th>\n",
              "      <th>total_lines</th>\n",
              "      <th>target</th>\n",
              "    </tr>\n",
              "  </thead>\n",
              "  <tbody>\n",
              "    <tr>\n",
              "      <th>0</th>\n",
              "      <td>To investigate the efficacy of @ weeks of dail...</td>\n",
              "      <td>0</td>\n",
              "      <td>12</td>\n",
              "      <td>OBJECTIVE</td>\n",
              "    </tr>\n",
              "    <tr>\n",
              "      <th>1</th>\n",
              "      <td>A total of @ patients with primary knee OA wer...</td>\n",
              "      <td>1</td>\n",
              "      <td>12</td>\n",
              "      <td>METHODS</td>\n",
              "    </tr>\n",
              "    <tr>\n",
              "      <th>2</th>\n",
              "      <td>Outcome measures included pain reduction and i...</td>\n",
              "      <td>2</td>\n",
              "      <td>12</td>\n",
              "      <td>METHODS</td>\n",
              "    </tr>\n",
              "    <tr>\n",
              "      <th>3</th>\n",
              "      <td>Pain was assessed using the visual analog pain...</td>\n",
              "      <td>3</td>\n",
              "      <td>12</td>\n",
              "      <td>METHODS</td>\n",
              "    </tr>\n",
              "    <tr>\n",
              "      <th>4</th>\n",
              "      <td>Secondary outcome measures included the Wester...</td>\n",
              "      <td>4</td>\n",
              "      <td>12</td>\n",
              "      <td>METHODS</td>\n",
              "    </tr>\n",
              "    <tr>\n",
              "      <th>5</th>\n",
              "      <td>Serum levels of interleukin @ ( IL-@ ) , IL-@ ...</td>\n",
              "      <td>5</td>\n",
              "      <td>12</td>\n",
              "      <td>METHODS</td>\n",
              "    </tr>\n",
              "    <tr>\n",
              "      <th>6</th>\n",
              "      <td>There was a clinically relevant reduction in t...</td>\n",
              "      <td>6</td>\n",
              "      <td>12</td>\n",
              "      <td>RESULTS</td>\n",
              "    </tr>\n",
              "    <tr>\n",
              "      <th>7</th>\n",
              "      <td>The mean difference between treatment arms ( @...</td>\n",
              "      <td>7</td>\n",
              "      <td>12</td>\n",
              "      <td>RESULTS</td>\n",
              "    </tr>\n",
              "    <tr>\n",
              "      <th>8</th>\n",
              "      <td>Further , there was a clinically relevant redu...</td>\n",
              "      <td>8</td>\n",
              "      <td>12</td>\n",
              "      <td>RESULTS</td>\n",
              "    </tr>\n",
              "    <tr>\n",
              "      <th>9</th>\n",
              "      <td>These differences remained significant at @ we...</td>\n",
              "      <td>9</td>\n",
              "      <td>12</td>\n",
              "      <td>RESULTS</td>\n",
              "    </tr>\n",
              "    <tr>\n",
              "      <th>10</th>\n",
              "      <td>The Outcome Measures in Rheumatology Clinical ...</td>\n",
              "      <td>10</td>\n",
              "      <td>12</td>\n",
              "      <td>RESULTS</td>\n",
              "    </tr>\n",
              "    <tr>\n",
              "      <th>11</th>\n",
              "      <td>Low-dose oral prednisolone had both a short-te...</td>\n",
              "      <td>11</td>\n",
              "      <td>12</td>\n",
              "      <td>CONCLUSIONS</td>\n",
              "    </tr>\n",
              "    <tr>\n",
              "      <th>12</th>\n",
              "      <td>Emotional eating is associated with overeating...</td>\n",
              "      <td>0</td>\n",
              "      <td>11</td>\n",
              "      <td>BACKGROUND</td>\n",
              "    </tr>\n",
              "    <tr>\n",
              "      <th>13</th>\n",
              "      <td>Yet , empirical evidence for individual ( trai...</td>\n",
              "      <td>1</td>\n",
              "      <td>11</td>\n",
              "      <td>BACKGROUND</td>\n",
              "    </tr>\n",
              "    <tr>\n",
              "      <th>14</th>\n",
              "      <td>The aim of this study was to test if attention...</td>\n",
              "      <td>2</td>\n",
              "      <td>11</td>\n",
              "      <td>OBJECTIVE</td>\n",
              "    </tr>\n",
              "    <tr>\n",
              "      <th>15</th>\n",
              "      <td>It was expected that emotional eating is predi...</td>\n",
              "      <td>3</td>\n",
              "      <td>11</td>\n",
              "      <td>OBJECTIVE</td>\n",
              "    </tr>\n",
              "    <tr>\n",
              "      <th>16</th>\n",
              "      <td>Participants ( N = @ ) were randomly assigned ...</td>\n",
              "      <td>4</td>\n",
              "      <td>11</td>\n",
              "      <td>METHODS</td>\n",
              "    </tr>\n",
              "    <tr>\n",
              "      <th>17</th>\n",
              "      <td>Attentional biases for high caloric foods were...</td>\n",
              "      <td>5</td>\n",
              "      <td>11</td>\n",
              "      <td>METHODS</td>\n",
              "    </tr>\n",
              "    <tr>\n",
              "      <th>18</th>\n",
              "      <td>Self-reported emotional eating was assessed wi...</td>\n",
              "      <td>6</td>\n",
              "      <td>11</td>\n",
              "      <td>METHODS</td>\n",
              "    </tr>\n",
              "    <tr>\n",
              "      <th>19</th>\n",
              "      <td>Hierarchical multivariate regression modeling ...</td>\n",
              "      <td>7</td>\n",
              "      <td>11</td>\n",
              "      <td>RESULTS</td>\n",
              "    </tr>\n",
              "  </tbody>\n",
              "</table>\n",
              "</div>\n",
              "    <div class=\"colab-df-buttons\">\n",
              "\n",
              "  <div class=\"colab-df-container\">\n",
              "    <button class=\"colab-df-convert\" onclick=\"convertToInteractive('df-dc5fbec2-fb1b-4c7c-8053-052cc90b1c25')\"\n",
              "            title=\"Convert this dataframe to an interactive table.\"\n",
              "            style=\"display:none;\">\n",
              "\n",
              "  <svg xmlns=\"http://www.w3.org/2000/svg\" height=\"24px\" viewBox=\"0 -960 960 960\">\n",
              "    <path d=\"M120-120v-720h720v720H120Zm60-500h600v-160H180v160Zm220 220h160v-160H400v160Zm0 220h160v-160H400v160ZM180-400h160v-160H180v160Zm440 0h160v-160H620v160ZM180-180h160v-160H180v160Zm440 0h160v-160H620v160Z\"/>\n",
              "  </svg>\n",
              "    </button>\n",
              "\n",
              "  <style>\n",
              "    .colab-df-container {\n",
              "      display:flex;\n",
              "      gap: 12px;\n",
              "    }\n",
              "\n",
              "    .colab-df-convert {\n",
              "      background-color: #E8F0FE;\n",
              "      border: none;\n",
              "      border-radius: 50%;\n",
              "      cursor: pointer;\n",
              "      display: none;\n",
              "      fill: #1967D2;\n",
              "      height: 32px;\n",
              "      padding: 0 0 0 0;\n",
              "      width: 32px;\n",
              "    }\n",
              "\n",
              "    .colab-df-convert:hover {\n",
              "      background-color: #E2EBFA;\n",
              "      box-shadow: 0px 1px 2px rgba(60, 64, 67, 0.3), 0px 1px 3px 1px rgba(60, 64, 67, 0.15);\n",
              "      fill: #174EA6;\n",
              "    }\n",
              "\n",
              "    .colab-df-buttons div {\n",
              "      margin-bottom: 4px;\n",
              "    }\n",
              "\n",
              "    [theme=dark] .colab-df-convert {\n",
              "      background-color: #3B4455;\n",
              "      fill: #D2E3FC;\n",
              "    }\n",
              "\n",
              "    [theme=dark] .colab-df-convert:hover {\n",
              "      background-color: #434B5C;\n",
              "      box-shadow: 0px 1px 3px 1px rgba(0, 0, 0, 0.15);\n",
              "      filter: drop-shadow(0px 1px 2px rgba(0, 0, 0, 0.3));\n",
              "      fill: #FFFFFF;\n",
              "    }\n",
              "  </style>\n",
              "\n",
              "    <script>\n",
              "      const buttonEl =\n",
              "        document.querySelector('#df-dc5fbec2-fb1b-4c7c-8053-052cc90b1c25 button.colab-df-convert');\n",
              "      buttonEl.style.display =\n",
              "        google.colab.kernel.accessAllowed ? 'block' : 'none';\n",
              "\n",
              "      async function convertToInteractive(key) {\n",
              "        const element = document.querySelector('#df-dc5fbec2-fb1b-4c7c-8053-052cc90b1c25');\n",
              "        const dataTable =\n",
              "          await google.colab.kernel.invokeFunction('convertToInteractive',\n",
              "                                                    [key], {});\n",
              "        if (!dataTable) return;\n",
              "\n",
              "        const docLinkHtml = 'Like what you see? Visit the ' +\n",
              "          '<a target=\"_blank\" href=https://colab.research.google.com/notebooks/data_table.ipynb>data table notebook</a>'\n",
              "          + ' to learn more about interactive tables.';\n",
              "        element.innerHTML = '';\n",
              "        dataTable['output_type'] = 'display_data';\n",
              "        await google.colab.output.renderOutput(dataTable, element);\n",
              "        const docLink = document.createElement('div');\n",
              "        docLink.innerHTML = docLinkHtml;\n",
              "        element.appendChild(docLink);\n",
              "      }\n",
              "    </script>\n",
              "  </div>\n",
              "\n",
              "\n",
              "<div id=\"df-6375e8fc-5242-4108-8d65-b43a42b42315\">\n",
              "  <button class=\"colab-df-quickchart\" onclick=\"quickchart('df-6375e8fc-5242-4108-8d65-b43a42b42315')\"\n",
              "            title=\"Suggest charts\"\n",
              "            style=\"display:none;\">\n",
              "\n",
              "<svg xmlns=\"http://www.w3.org/2000/svg\" height=\"24px\"viewBox=\"0 0 24 24\"\n",
              "     width=\"24px\">\n",
              "    <g>\n",
              "        <path d=\"M19 3H5c-1.1 0-2 .9-2 2v14c0 1.1.9 2 2 2h14c1.1 0 2-.9 2-2V5c0-1.1-.9-2-2-2zM9 17H7v-7h2v7zm4 0h-2V7h2v10zm4 0h-2v-4h2v4z\"/>\n",
              "    </g>\n",
              "</svg>\n",
              "  </button>\n",
              "\n",
              "<style>\n",
              "  .colab-df-quickchart {\n",
              "      --bg-color: #E8F0FE;\n",
              "      --fill-color: #1967D2;\n",
              "      --hover-bg-color: #E2EBFA;\n",
              "      --hover-fill-color: #174EA6;\n",
              "      --disabled-fill-color: #AAA;\n",
              "      --disabled-bg-color: #DDD;\n",
              "  }\n",
              "\n",
              "  [theme=dark] .colab-df-quickchart {\n",
              "      --bg-color: #3B4455;\n",
              "      --fill-color: #D2E3FC;\n",
              "      --hover-bg-color: #434B5C;\n",
              "      --hover-fill-color: #FFFFFF;\n",
              "      --disabled-bg-color: #3B4455;\n",
              "      --disabled-fill-color: #666;\n",
              "  }\n",
              "\n",
              "  .colab-df-quickchart {\n",
              "    background-color: var(--bg-color);\n",
              "    border: none;\n",
              "    border-radius: 50%;\n",
              "    cursor: pointer;\n",
              "    display: none;\n",
              "    fill: var(--fill-color);\n",
              "    height: 32px;\n",
              "    padding: 0;\n",
              "    width: 32px;\n",
              "  }\n",
              "\n",
              "  .colab-df-quickchart:hover {\n",
              "    background-color: var(--hover-bg-color);\n",
              "    box-shadow: 0 1px 2px rgba(60, 64, 67, 0.3), 0 1px 3px 1px rgba(60, 64, 67, 0.15);\n",
              "    fill: var(--button-hover-fill-color);\n",
              "  }\n",
              "\n",
              "  .colab-df-quickchart-complete:disabled,\n",
              "  .colab-df-quickchart-complete:disabled:hover {\n",
              "    background-color: var(--disabled-bg-color);\n",
              "    fill: var(--disabled-fill-color);\n",
              "    box-shadow: none;\n",
              "  }\n",
              "\n",
              "  .colab-df-spinner {\n",
              "    border: 2px solid var(--fill-color);\n",
              "    border-color: transparent;\n",
              "    border-bottom-color: var(--fill-color);\n",
              "    animation:\n",
              "      spin 1s steps(1) infinite;\n",
              "  }\n",
              "\n",
              "  @keyframes spin {\n",
              "    0% {\n",
              "      border-color: transparent;\n",
              "      border-bottom-color: var(--fill-color);\n",
              "      border-left-color: var(--fill-color);\n",
              "    }\n",
              "    20% {\n",
              "      border-color: transparent;\n",
              "      border-left-color: var(--fill-color);\n",
              "      border-top-color: var(--fill-color);\n",
              "    }\n",
              "    30% {\n",
              "      border-color: transparent;\n",
              "      border-left-color: var(--fill-color);\n",
              "      border-top-color: var(--fill-color);\n",
              "      border-right-color: var(--fill-color);\n",
              "    }\n",
              "    40% {\n",
              "      border-color: transparent;\n",
              "      border-right-color: var(--fill-color);\n",
              "      border-top-color: var(--fill-color);\n",
              "    }\n",
              "    60% {\n",
              "      border-color: transparent;\n",
              "      border-right-color: var(--fill-color);\n",
              "    }\n",
              "    80% {\n",
              "      border-color: transparent;\n",
              "      border-right-color: var(--fill-color);\n",
              "      border-bottom-color: var(--fill-color);\n",
              "    }\n",
              "    90% {\n",
              "      border-color: transparent;\n",
              "      border-bottom-color: var(--fill-color);\n",
              "    }\n",
              "  }\n",
              "</style>\n",
              "\n",
              "  <script>\n",
              "    async function quickchart(key) {\n",
              "      const quickchartButtonEl =\n",
              "        document.querySelector('#' + key + ' button');\n",
              "      quickchartButtonEl.disabled = true;  // To prevent multiple clicks.\n",
              "      quickchartButtonEl.classList.add('colab-df-spinner');\n",
              "      try {\n",
              "        const charts = await google.colab.kernel.invokeFunction(\n",
              "            'suggestCharts', [key], {});\n",
              "      } catch (error) {\n",
              "        console.error('Error during call to suggestCharts:', error);\n",
              "      }\n",
              "      quickchartButtonEl.classList.remove('colab-df-spinner');\n",
              "      quickchartButtonEl.classList.add('colab-df-quickchart-complete');\n",
              "    }\n",
              "    (() => {\n",
              "      let quickchartButtonEl =\n",
              "        document.querySelector('#df-6375e8fc-5242-4108-8d65-b43a42b42315 button');\n",
              "      quickchartButtonEl.style.display =\n",
              "        google.colab.kernel.accessAllowed ? 'block' : 'none';\n",
              "    })();\n",
              "  </script>\n",
              "</div>\n",
              "    </div>\n",
              "  </div>\n"
            ]
          },
          "metadata": {},
          "execution_count": 11
        }
      ]
    },
    {
      "cell_type": "code",
      "metadata": {
        "colab": {
          "base_uri": "https://localhost:8080/"
        },
        "id": "MoXKfoW0_KyY",
        "outputId": "91b3fe15-cc4e-41fd-a35f-4e32cc87b629"
      },
      "source": [
        "# Check training data distribution\n",
        "train_df[\"target\"].value_counts()"
      ],
      "execution_count": 12,
      "outputs": [
        {
          "output_type": "execute_result",
          "data": {
            "text/plain": [
              "METHODS        59353\n",
              "RESULTS        57953\n",
              "CONCLUSIONS    27168\n",
              "BACKGROUND     21727\n",
              "OBJECTIVE      13839\n",
              "Name: target, dtype: int64"
            ]
          },
          "metadata": {},
          "execution_count": 12
        }
      ]
    },
    {
      "cell_type": "code",
      "source": [
        "# Create subplots\n",
        "fig, (ax_train, ax_val, ax_test) = plt.subplots(3, figsize=(16, 14))\n",
        "\n",
        "# Set the spacing between subplots\n",
        "fig.tight_layout(pad=6.0)\n",
        "sns.despine();\n",
        "\n",
        "# Plot Training Set Labels Distribution\n",
        "ax_train.set_title('Training Set Labels Distribution', fontsize=24)\n",
        "train_dist = train_df['target'].value_counts().sort_values()\n",
        "train_bar_plot = sns.barplot(x=train_dist.values,\n",
        "                            y=list(train_dist.keys()),\n",
        "                            orient=\"h\", palette=sns.color_palette(\"viridis\", 5),\n",
        "                            ax=ax_train);\n",
        "\n",
        "for container in train_bar_plot.containers:\n",
        "    train_bar_plot.bar_label(container, fmt='%.0f', fontsize=14);\n",
        "\n",
        "# Plot Validation Set Labels Distribution\n",
        "ax_val.set_title('Validation Set Labels Distribution', fontsize=24)\n",
        "val_dist = val_df['target'].value_counts().sort_values()\n",
        "val_bar_plot = sns.barplot(x=val_dist.values,\n",
        "                           y=list(val_dist.keys()),\n",
        "                           orient=\"h\", palette=sns.color_palette(\"viridis\", 5),\n",
        "                           ax=ax_val);\n",
        "\n",
        "for container in val_bar_plot.containers:\n",
        "    val_bar_plot.bar_label(container, fmt='%.0f', fontsize=14);\n",
        "\n",
        "# Plot Test Set Labels Distribution\n",
        "ax_test.set_title('Test Set Labels Distribution', fontsize=24)\n",
        "test_dist = test_df['target'].value_counts().sort_values()\n",
        "test_bar_plot = sns.barplot(x=test_dist.values,\n",
        "                            y=list(test_dist.keys()),\n",
        "                            orient=\"h\", palette=sns.color_palette(\"viridis\", 5),\n",
        "                            ax=ax_test);\n",
        "\n",
        "for container in test_bar_plot.containers:\n",
        "    test_bar_plot.bar_label(container, fmt='%.0f', fontsize=14);\n",
        "\n",
        "plt.show()"
      ],
      "metadata": {
        "id": "B20hn9SN2tVd",
        "colab": {
          "base_uri": "https://localhost:8080/",
          "height": 1000
        },
        "outputId": "640552e4-65e1-4aba-e4e4-9173f1a7802e"
      },
      "execution_count": 13,
      "outputs": [
        {
          "output_type": "display_data",
          "data": {
            "text/plain": [
              "<Figure size 1600x1400 with 3 Axes>"
            ],
            "image/png": "[encoded data removed]"
          },
          "metadata": {}
        }
      ]
    },
    {
      "cell_type": "code",
      "metadata": {
        "colab": {
          "base_uri": "https://localhost:8080/",
          "height": 450
        },
        "id": "nejRjvdb_Ks8",
        "outputId": "72d2f7d3-2ff6-4fea-ed37-585b4121c069"
      },
      "source": [
        "train_df.total_lines.plot(kind= \"hist\")"
      ],
      "execution_count": 14,
      "outputs": [
        {
          "output_type": "execute_result",
          "data": {
            "text/plain": [
              "<Axes: ylabel='Frequency'>"
            ]
          },
          "metadata": {},
          "execution_count": 14
        },
        {
          "output_type": "display_data",
          "data": {
            "text/plain": [
              "<Figure size 640x480 with 1 Axes>"
            ],
            "image/png": "[encoded data removed]"
          },
          "metadata": {}
        }
      ]
    },
    {
      "cell_type": "markdown",
      "source": [
        "Based on the above histogram,it can be inferred that the abstracts are between 7 to 15 sentences in length."
      ],
      "metadata": {
        "id": "es1bA-dG4Ygu"
      }
    },
    {
      "cell_type": "code",
      "metadata": {
        "id": "uL06aM6K_Krd"
      },
      "source": [
        "# Convert abstract text lines into lists\n",
        "train_sentences = train_df[\"abstract_text\"].tolist()\n",
        "val_sentences = val_df[\"abstract_text\"].tolist()\n",
        "test_sentences = test_df[\"abstract_text\"].tolist()"
      ],
      "execution_count": 15,
      "outputs": []
    },
    {
      "cell_type": "code",
      "metadata": {
        "colab": {
          "base_uri": "https://localhost:8080/"
        },
        "id": "Dc2VHVqH_Kp-",
        "outputId": "8530c3a6-e8e2-469a-b20c-70e87e9bd0b8"
      },
      "source": [
        "train_sentences[:15]"
      ],
      "execution_count": 16,
      "outputs": [
        {
          "output_type": "execute_result",
          "data": {
            "text/plain": [
              "['To investigate the efficacy of @ weeks of daily low-dose oral prednisolone in improving pain , mobility , and systemic low-grade inflammation in the short term and whether the effect would be sustained at @ weeks in older adults with moderate to severe knee osteoarthritis ( OA ) .',\n",
              " 'A total of @ patients with primary knee OA were randomized @:@ ; @ received @ mg/day of prednisolone and @ received placebo for @ weeks .',\n",
              " 'Outcome measures included pain reduction and improvement in function scores and systemic inflammation markers .',\n",
              " 'Pain was assessed using the visual analog pain scale ( @-@ mm ) .',\n",
              " 'Secondary outcome measures included the Western Ontario and McMaster Universities Osteoarthritis Index scores , patient global assessment ( PGA ) of the severity of knee OA , and @-min walk distance ( @MWD ) .',\n",
              " 'Serum levels of interleukin @ ( IL-@ ) , IL-@ , tumor necrosis factor ( TNF ) - , and high-sensitivity C-reactive protein ( hsCRP ) were measured .',\n",
              " 'There was a clinically relevant reduction in the intervention group compared to the placebo group for knee pain , physical function , PGA , and @MWD at @ weeks .',\n",
              " 'The mean difference between treatment arms ( @ % CI ) was @ ( @-@ @ ) , p < @ ; @ ( @-@ @ ) , p < @ ; @ ( @-@ @ ) , p < @ ; and @ ( @-@ @ ) , p < @ , respectively .',\n",
              " 'Further , there was a clinically relevant reduction in the serum levels of IL-@ , IL-@ , TNF - , and hsCRP at @ weeks in the intervention group when compared to the placebo group .',\n",
              " 'These differences remained significant at @ weeks .',\n",
              " 'The Outcome Measures in Rheumatology Clinical Trials-Osteoarthritis Research Society International responder rate was @ % in the intervention group and @ % in the placebo group ( p < @ ) .',\n",
              " 'Low-dose oral prednisolone had both a short-term and a longer sustained effect resulting in less knee pain , better physical function , and attenuation of systemic inflammation in older patients with knee OA ( ClinicalTrials.gov identifier NCT@ ) .',\n",
              " 'Emotional eating is associated with overeating and the development of obesity .',\n",
              " 'Yet , empirical evidence for individual ( trait ) differences in emotional eating and cognitive mechanisms that contribute to eating during sad mood remain equivocal .',\n",
              " 'The aim of this study was to test if attention bias for food moderates the effect of self-reported emotional eating during sad mood ( vs neutral mood ) on actual food intake .']"
            ]
          },
          "metadata": {},
          "execution_count": 16
        }
      ]
    },
    {
      "cell_type": "markdown",
      "metadata": {
        "id": "nKmhwjnXG_66"
      },
      "source": [
        "### Using One Hot Encoding to one hot encode the train,test and validation set labels\n"
      ]
    },
    {
      "cell_type": "code",
      "metadata": {
        "colab": {
          "base_uri": "https://localhost:8080/"
        },
        "id": "UNpVR7EFAExP",
        "outputId": "7bf0aca4-4f6d-47bf-dba5-75beaaa1a715"
      },
      "source": [
        "from sklearn.preprocessing import OneHotEncoder\n",
        "one_hot_encoder = OneHotEncoder(sparse=False)\n",
        "train_labels_one_hot = one_hot_encoder.fit_transform(train_df[\"target\"].to_numpy().reshape(-1, 1))\n",
        "val_labels_one_hot = one_hot_encoder.transform(val_df[\"target\"].to_numpy().reshape(-1, 1))\n",
        "test_labels_one_hot = one_hot_encoder.transform(test_df[\"target\"].to_numpy().reshape(-1, 1))\n",
        "\n"
      ],
      "execution_count": 17,
      "outputs": [
        {
          "output_type": "stream",
          "name": "stderr",
          "text": [
            "/usr/local/lib/python3.10/dist-packages/sklearn/preprocessing/_encoders.py:868: FutureWarning: `sparse` was renamed to `sparse_output` in version 1.2 and will be removed in 1.4. `sparse_output` is ignored unless you leave `sparse` to its default value.\n",
            "  warnings.warn(\n"
          ]
        }
      ]
    },
    {
      "cell_type": "code",
      "source": [
        "train_df[\"target\"][0]"
      ],
      "metadata": {
        "colab": {
          "base_uri": "https://localhost:8080/",
          "height": 36
        },
        "id": "qhVlJH0U8_dS",
        "outputId": "b8202db7-ef6f-4e88-8cbd-5d2d90582085"
      },
      "execution_count": 18,
      "outputs": [
        {
          "output_type": "execute_result",
          "data": {
            "text/plain": [
              "'OBJECTIVE'"
            ],
            "application/vnd.google.colaboratory.intrinsic+json": {
              "type": "string"
            }
          },
          "metadata": {},
          "execution_count": 18
        }
      ]
    },
    {
      "cell_type": "code",
      "source": [
        "#Check one hot encoded training label\n",
        "train_labels_one_hot"
      ],
      "metadata": {
        "colab": {
          "base_uri": "https://localhost:8080/"
        },
        "id": "5anqfjfB6T4U",
        "outputId": "43d29e84-92ea-433b-ee62-5d2b8837a164"
      },
      "execution_count": 19,
      "outputs": [
        {
          "output_type": "execute_result",
          "data": {
            "text/plain": [
              "array([[0., 0., 0., 1., 0.],\n",
              "       [0., 0., 1., 0., 0.],\n",
              "       [0., 0., 1., 0., 0.],\n",
              "       ...,\n",
              "       [0., 0., 0., 0., 1.],\n",
              "       [0., 1., 0., 0., 0.],\n",
              "       [0., 1., 0., 0., 0.]])"
            ]
          },
          "metadata": {},
          "execution_count": 19
        }
      ]
    },
    {
      "cell_type": "markdown",
      "metadata": {
        "id": "PQ7aB1Q8G_3g"
      },
      "source": [
        "### Label encode labels"
      ]
    },
    {
      "cell_type": "code",
      "metadata": {
        "id": "9tHzHEgCG-1y"
      },
      "source": [
        "from sklearn.preprocessing import LabelEncoder\n",
        "label_encoder = LabelEncoder()\n",
        "train_labels_encoded = label_encoder.fit_transform(train_df[\"target\"].to_numpy())\n",
        "val_labels_encoded = label_encoder.transform(val_df[\"target\"].to_numpy())\n",
        "test_labels_encoded = label_encoder.transform(test_df[\"target\"].to_numpy())\n",
        "\n"
      ],
      "execution_count": 20,
      "outputs": []
    },
    {
      "cell_type": "code",
      "source": [
        "train_labels_encoded"
      ],
      "metadata": {
        "colab": {
          "base_uri": "https://localhost:8080/"
        },
        "id": "obXNeL0s6t0X",
        "outputId": "eee54ecd-dae1-499e-8541-ace6e50b773b"
      },
      "execution_count": 21,
      "outputs": [
        {
          "output_type": "execute_result",
          "data": {
            "text/plain": [
              "array([3, 2, 2, ..., 4, 1, 1])"
            ]
          },
          "metadata": {},
          "execution_count": 21
        }
      ]
    },
    {
      "cell_type": "code",
      "metadata": {
        "id": "s_Ipo14nHREA"
      },
      "source": [
        "# Get class names and number of classes from LabelEncoder instance\n",
        "num_classes = len(label_encoder.classes_)\n",
        "class_names = label_encoder.classes_"
      ],
      "execution_count": 22,
      "outputs": []
    },
    {
      "cell_type": "code",
      "source": [
        "print(f'Number of classes: {num_classes}')\n",
        "print(f'Classes: {class_names}')"
      ],
      "metadata": {
        "colab": {
          "base_uri": "https://localhost:8080/"
        },
        "id": "cTLKOidn9Iew",
        "outputId": "88cb5626-b4ee-450d-f5ba-7135d0107655"
      },
      "execution_count": 23,
      "outputs": [
        {
          "output_type": "stream",
          "name": "stdout",
          "text": [
            "Number of classes: 5\n",
            "Classes: ['BACKGROUND' 'CONCLUSIONS' 'METHODS' 'OBJECTIVE' 'RESULTS']\n"
          ]
        }
      ]
    },
    {
      "cell_type": "markdown",
      "metadata": {
        "id": "StG7Xd9PHXKe"
      },
      "source": [
        "## Model 0: Baseline (Naïve Bayes with TF-IDF encoder)"
      ]
    },
    {
      "cell_type": "code",
      "metadata": {
        "id": "KWbg4QWUHRi2"
      },
      "source": [
        "from sklearn.feature_extraction.text import TfidfVectorizer\n",
        "from sklearn.naive_bayes import MultinomialNB\n",
        "from sklearn.pipeline import Pipeline\n",
        "\n",
        "# Creating a SKlearn pipeline using TF-IDF  and Multinomial Naive bayes algorithm\n",
        "model_0 = Pipeline([\n",
        "  (\"tf-idf\", TfidfVectorizer()),\n",
        "  (\"clf\", MultinomialNB())\n",
        "])\n"
      ],
      "execution_count": 24,
      "outputs": []
    },
    {
      "cell_type": "code",
      "source": [
        "#fitting on train dataset\n",
        "model_0.fit(X=train_sentences,\n",
        "            y=train_labels_encoded);"
      ],
      "metadata": {
        "id": "3MEtwvr08ktp"
      },
      "execution_count": 25,
      "outputs": []
    },
    {
      "cell_type": "code",
      "metadata": {
        "colab": {
          "base_uri": "https://localhost:8080/"
        },
        "id": "rWyUH1WuHcVq",
        "outputId": "ff7a79c6-6234-411b-cfd0-4b7a4dccd377"
      },
      "source": [
        "\n",
        "# Perform evaluation on validation dataset\n",
        "model_0.score(X=val_sentences,\n",
        "              y=val_labels_encoded)"
      ],
      "execution_count": 26,
      "outputs": [
        {
          "output_type": "execute_result",
          "data": {
            "text/plain": [
              "0.7218323844829869"
            ]
          },
          "metadata": {},
          "execution_count": 26
        }
      ]
    },
    {
      "cell_type": "code",
      "metadata": {
        "id": "rG2OkaQnHfuy"
      },
      "source": [
        "val_predictions = model_0.predict(val_sentences)\n",
        "test_predictions = model_0.predict(test_sentences)\n"
      ],
      "execution_count": 27,
      "outputs": []
    },
    {
      "cell_type": "code",
      "source": [
        "val_predictions\n"
      ],
      "metadata": {
        "colab": {
          "base_uri": "https://localhost:8080/"
        },
        "id": "OdznMqbH9lQg",
        "outputId": "7ae76477-3873-498e-a8c3-a94278b7c508"
      },
      "execution_count": 28,
      "outputs": [
        {
          "output_type": "execute_result",
          "data": {
            "text/plain": [
              "array([4, 1, 3, ..., 4, 4, 1])"
            ]
          },
          "metadata": {},
          "execution_count": 28
        }
      ]
    },
    {
      "cell_type": "code",
      "source": [
        "test_predictions"
      ],
      "metadata": {
        "colab": {
          "base_uri": "https://localhost:8080/"
        },
        "id": "ksp9tqXHCluz",
        "outputId": "176d659c-b971-4a13-b29f-064de3a49cc0"
      },
      "execution_count": 29,
      "outputs": [
        {
          "output_type": "execute_result",
          "data": {
            "text/plain": [
              "array([2, 2, 2, ..., 4, 4, 4])"
            ]
          },
          "metadata": {},
          "execution_count": 29
        }
      ]
    },
    {
      "cell_type": "code",
      "source": [
        "from sklearn.metrics import (\n",
        "    accuracy_score, f1_score,\n",
        "    classification_report, precision_recall_fscore_support,\n",
        "    confusion_matrix, ConfusionMatrixDisplay\n",
        ")\n",
        "\n",
        "#Performance metrics summary\n",
        "print(classification_report(val_labels_encoded, val_predictions, target_names=class_names))"
      ],
      "metadata": {
        "colab": {
          "base_uri": "https://localhost:8080/"
        },
        "id": "fsMGJ1e0-Vol",
        "outputId": "29337290-10ea-4dee-d8e6-635f9d17f3f3"
      },
      "execution_count": 30,
      "outputs": [
        {
          "output_type": "stream",
          "name": "stdout",
          "text": [
            "              precision    recall  f1-score   support\n",
            "\n",
            "  BACKGROUND       0.66      0.49      0.56      3449\n",
            " CONCLUSIONS       0.65      0.59      0.61      4582\n",
            "     METHODS       0.72      0.87      0.79      9964\n",
            "   OBJECTIVE       0.75      0.14      0.23      2376\n",
            "     RESULTS       0.76      0.86      0.81      9841\n",
            "\n",
            "    accuracy                           0.72     30212\n",
            "   macro avg       0.71      0.59      0.60     30212\n",
            "weighted avg       0.72      0.72      0.70     30212\n",
            "\n"
          ]
        }
      ]
    },
    {
      "cell_type": "code",
      "source": [
        "def generate_performance_scores(y_true, y_pred):\n",
        "\n",
        "    model_accuracy = round(accuracy_score(y_true, y_pred), 5)\n",
        "    model_precision, model_recall, model_f1, _ = precision_recall_fscore_support(y_true,\n",
        "                                                                                 y_pred,\n",
        "                                                                                 average=\"weighted\")\n",
        "    model_precision, model_recall, model_f1 = round(model_precision, 5), round(model_recall, 5), round(model_f1, 5)\n",
        "\n",
        "    performance_dict = {\n",
        "        'accuracy': model_accuracy,\n",
        "        'precision': model_precision,\n",
        "        'recall': model_recall,\n",
        "        'f1': model_f1\n",
        "    }\n",
        "\n",
        "    print('=============================================')\n",
        "    print(f'\\nPerformance Metrics:\\n')\n",
        "    print('=============================================')\n",
        "    print(f'accuracy_score:\\t\\t{model_accuracy}\\n')\n",
        "    print('_____________________________________________')\n",
        "    print(f'precision_score:\\t{model_precision}\\n')\n",
        "    print('_____________________________________________')\n",
        "    print(f'recall_score:\\t\\t{model_recall}\\n')\n",
        "    print('_____________________________________________')\n",
        "    print(f'f1_score:\\t\\t{model_f1}\\n')\n",
        "    print('=============================================')\n",
        "\n",
        "    return performance_dict"
      ],
      "metadata": {
        "id": "scayPi2T_1UD"
      },
      "execution_count": 31,
      "outputs": []
    },
    {
      "cell_type": "markdown",
      "metadata": {
        "id": "VFzLlPCsruC6"
      },
      "source": [
        "### Model_0 Results"
      ]
    },
    {
      "cell_type": "code",
      "source": [
        "model_0_results= generate_performance_scores(val_labels_encoded, val_predictions)"
      ],
      "metadata": {
        "colab": {
          "base_uri": "https://localhost:8080/"
        },
        "id": "Z1tnNLnCBxCp",
        "outputId": "8682734b-0770-4b77-e994-3e6a42403ea9"
      },
      "execution_count": 32,
      "outputs": [
        {
          "output_type": "stream",
          "name": "stdout",
          "text": [
            "=============================================\n",
            "\n",
            "Performance Metrics:\n",
            "\n",
            "=============================================\n",
            "accuracy_score:\t\t0.72183\n",
            "\n",
            "_____________________________________________\n",
            "precision_score:\t0.71865\n",
            "\n",
            "_____________________________________________\n",
            "recall_score:\t\t0.72183\n",
            "\n",
            "_____________________________________________\n",
            "f1_score:\t\t0.69893\n",
            "\n",
            "=============================================\n"
          ]
        }
      ]
    },
    {
      "cell_type": "markdown",
      "metadata": {
        "id": "ol2NuEsWgcdQ"
      },
      "source": [
        "# Preparing data in format suitable for deep learning models\n",
        "\n",
        "\n",
        "\n",
        "\n"
      ]
    },
    {
      "cell_type": "markdown",
      "metadata": {
        "id": "ugxK-B5MhCas"
      },
      "source": [
        "Vectorization and embedding layers needs to be created so data is in suitable format for Deep learning model\n",
        "\n",
        "The vectorization layer is going to be used to convert text to numbers and the embedding layer is going to be used to capture the relationships between those numbers."
      ]
    },
    {
      "cell_type": "code",
      "metadata": {
        "id": "Lxgn6J5eHomX",
        "colab": {
          "base_uri": "https://localhost:8080/"
        },
        "outputId": "01922ac2-5ade-43fb-9953-f3210cb76948"
      },
      "source": [
        "#The below analysis is being done to know the average,max and min length of sentences in order to ensure when tensorflow model is created the batch size of tensors can be decided so that all batches can have equal size tensors\n",
        "# Create a list to store the lengths of sentences in the training set\n",
        "sentence_lengths = []\n",
        "\n",
        "# Iterate over each sentence in the training set\n",
        "for sentence in train_sentences:\n",
        "    # Split the sentence into words and calculate the length\n",
        "    words_in_sentence = sentence.split()\n",
        "    length_of_sentence = len(words_in_sentence)\n",
        "\n",
        "    # Append the length of the sentence to the list\n",
        "    sentence_lengths.append(length_of_sentence)\n",
        "\n",
        "# Calculate the average sentence length using NumPy\n",
        "average_sentence_length = np.mean(sentence_lengths)\n",
        "\n",
        "# Print the average sentence length\n",
        "print(\"Average Sentence Length:\", average_sentence_length)\n",
        "\n",
        "#Min Sentence length\n",
        "print(min(sentence_lengths))\n",
        "\n",
        "#Max Sentence length\n",
        "print(max(sentence_lengths))"
      ],
      "execution_count": 33,
      "outputs": [
        {
          "output_type": "stream",
          "name": "stdout",
          "text": [
            "Average Sentence Length: 26.338269273494777\n",
            "1\n",
            "296\n"
          ]
        }
      ]
    },
    {
      "cell_type": "code",
      "metadata": {
        "id": "j_265IaEhwKi",
        "colab": {
          "base_uri": "https://localhost:8080/",
          "height": 713
        },
        "outputId": "1b7626a8-e678-4e8d-a88b-5c06d31f9adb"
      },
      "source": [
        "import matplotlib.pyplot as plt\n",
        "plt.hist(sentence_lengths,bins=30) # Getting most occurence sequence length from sequence distribution"
      ],
      "execution_count": 34,
      "outputs": [
        {
          "output_type": "execute_result",
          "data": {
            "text/plain": [
              "(array([1.6499e+04, 5.6664e+04, 5.2683e+04, 2.9050e+04, 1.3111e+04,\n",
              "        5.6610e+03, 3.0490e+03, 1.5190e+03, 8.0800e+02, 4.3200e+02,\n",
              "        2.2600e+02, 1.2800e+02, 7.7000e+01, 3.9000e+01, 3.0000e+01,\n",
              "        1.5000e+01, 9.0000e+00, 8.0000e+00, 4.0000e+00, 8.0000e+00,\n",
              "        7.0000e+00, 5.0000e+00, 1.0000e+00, 2.0000e+00, 3.0000e+00,\n",
              "        0.0000e+00, 0.0000e+00, 1.0000e+00, 0.0000e+00, 1.0000e+00]),\n",
              " array([  1.        ,  10.83333333,  20.66666667,  30.5       ,\n",
              "         40.33333333,  50.16666667,  60.        ,  69.83333333,\n",
              "         79.66666667,  89.5       ,  99.33333333, 109.16666667,\n",
              "        119.        , 128.83333333, 138.66666667, 148.5       ,\n",
              "        158.33333333, 168.16666667, 178.        , 187.83333333,\n",
              "        197.66666667, 207.5       , 217.33333333, 227.16666667,\n",
              "        237.        , 246.83333333, 256.66666667, 266.5       ,\n",
              "        276.33333333, 286.16666667, 296.        ]),\n",
              " <BarContainer object of 30 artists>)"
            ]
          },
          "metadata": {},
          "execution_count": 34
        },
        {
          "output_type": "display_data",
          "data": {
            "text/plain": [
              "<Figure size 640x480 with 1 Axes>"
            ],
            "image/png": "[encoded data removed]"
          },
          "metadata": {}
        }
      ]
    },
    {
      "cell_type": "markdown",
      "metadata": {
        "id": "Vf_zXb9HlR18"
      },
      "source": [
        "The majority of sentences are between 0 to 55 tokens as per above histogram"
      ]
    },
    {
      "cell_type": "code",
      "metadata": {
        "id": "V7e7ihftlbDH",
        "colab": {
          "base_uri": "https://localhost:8080/"
        },
        "outputId": "71d6cc57-4b9f-42d9-de21-ee8b28115f5d"
      },
      "source": [
        "np.percentile(sentence_lengths,95)   #checking the percentile distribution for sentence token,95% of sentences have token size of 55 or less"
      ],
      "execution_count": 35,
      "outputs": [
        {
          "output_type": "execute_result",
          "data": {
            "text/plain": [
              "55.0"
            ]
          },
          "metadata": {},
          "execution_count": 35
        }
      ]
    },
    {
      "cell_type": "markdown",
      "metadata": {
        "id": "BaKj7OD6EROB"
      },
      "source": [
        "### Creation of text vectorizer layer\n",
        "\n",
        "\n",
        "                   "
      ]
    },
    {
      "cell_type": "code",
      "metadata": {
        "id": "SwKpU8WrnEvl"
      },
      "source": [
        "max_tokens = 68000  # value 68K taken as reference from table 3.2 of PubMed200K RCT resarch paper https://arxiv.org/pdf/1710.06071.pdf"
      ],
      "execution_count": 36,
      "outputs": []
    },
    {
      "cell_type": "code",
      "metadata": {
        "id": "JlmQV04QleQW"
      },
      "source": [
        "#creating text vectorizer\n",
        "#max token- Maximum size of the vocabulary\n",
        "#output_sequence_length - o/p length of resulting vector sequences\n",
        "text_vectorizer = TextVectorization(max_tokens=max_tokens,\n",
        "                                    standardize='lower_and_strip_punctuation',\n",
        "                                    output_sequence_length=55)\n"
      ],
      "execution_count": 37,
      "outputs": []
    },
    {
      "cell_type": "code",
      "metadata": {
        "id": "i2JjimMfmwzs"
      },
      "source": [
        "text_vectorizer.adapt(train_sentences)"
      ],
      "execution_count": 38,
      "outputs": []
    },
    {
      "cell_type": "code",
      "metadata": {
        "id": "ke1VNN9onYhT",
        "colab": {
          "base_uri": "https://localhost:8080/"
        },
        "outputId": "4460209c-9565-48cb-bed2-6bf0427aa27f"
      },
      "source": [
        "#Validating random sentences from text vectorizer\n",
        "import random\n",
        "target_sentence  = random.choice(train_sentences)\n",
        "print(f\"Target Text:\\n{target_sentence}\")\n",
        "print(f\"\\nTarget Text length: {len(target_sentence.split())}\")\n",
        "print(f\"\\nVectorized text:\\n{text_vectorizer([target_sentence])}\")"
      ],
      "execution_count": 39,
      "outputs": [
        {
          "output_type": "stream",
          "name": "stdout",
          "text": [
            "Target Text:\n",
            "The primary end point , measured at Week @ , was the SLE Responder Index-@ ( SRI-@ , meeting established SRI criteria but with @ point improvement in SELENA-SLEDAI ) .\n",
            "\n",
            "Target Text length: 31\n",
            "\n",
            "Vectorized text:\n",
            "[[    2    56   199   294   156    15    89    10     2  6256  3555   203\n",
            "  10530  2314  1016 10530   391    72     7   294   194     5 24675     0\n",
            "      0     0     0     0     0     0     0     0     0     0     0     0\n",
            "      0     0     0     0     0     0     0     0     0     0     0     0\n",
            "      0     0     0     0     0     0     0]]\n"
          ]
        }
      ]
    },
    {
      "cell_type": "code",
      "metadata": {
        "id": "wLQMOocDtOiF",
        "colab": {
          "base_uri": "https://localhost:8080/"
        },
        "outputId": "12bb4e04-05de-4279-be32-e38b0e1bd860"
      },
      "source": [
        "# Getting current vocabulary and checking vocabulary length\n",
        "pubmedrct_20k_vocab = text_vectorizer.get_vocabulary()\n",
        "print(f\"total vocabulary words : {len(pubmedrct_20k_vocab)}\")\n"
      ],
      "execution_count": 40,
      "outputs": [
        {
          "output_type": "stream",
          "name": "stdout",
          "text": [
            "total vocabulary words : 64841\n"
          ]
        }
      ]
    },
    {
      "cell_type": "markdown",
      "metadata": {
        "id": "DYb-FPIdG7G0"
      },
      "source": [
        "### Create text embedding\n",
        "\n"
      ]
    },
    {
      "cell_type": "code",
      "metadata": {
        "id": "u9gtJ6I0F70v",
        "colab": {
          "base_uri": "https://localhost:8080/"
        },
        "outputId": "10560069-653e-4f4d-a0e0-4e7c7dcce4c6"
      },
      "source": [
        "#Creating embedding layer\n",
        "#input_dim - vocabulary size\n",
        "#output_dim- embedding output dimension\n",
        "\n",
        "token_embed = layers.Embedding(input_dim=len(pubmedrct_20k_vocab),\n",
        "                               output_dim= 128,\n",
        "                               mask_zero=True # allows model to ignore padding tokens during training\n",
        "                               )\n",
        "\n",
        "print(f\"Sentence before vectorization:\\n{target_sentence}\\n\")\n",
        "vectorized_sentence = text_vectorizer([target_sentence])\n",
        "print(f\"Sentence after vectorization:\\n{vectorized_sentence}\\n\")\n",
        "embedded_sentence = token_embed(vectorized_sentence)\n",
        "print(f\"Sentence after embedding:\\n{embedded_sentence}\\n\")\n",
        "print(f\"Embedded sentence shape: {embedded_sentence.shape}\")"
      ],
      "execution_count": 41,
      "outputs": [
        {
          "output_type": "stream",
          "name": "stdout",
          "text": [
            "Sentence before vectorization:\n",
            "The primary end point , measured at Week @ , was the SLE Responder Index-@ ( SRI-@ , meeting established SRI criteria but with @ point improvement in SELENA-SLEDAI ) .\n",
            "\n",
            "Sentence after vectorization:\n",
            "[[    2    56   199   294   156    15    89    10     2  6256  3555   203\n",
            "  10530  2314  1016 10530   391    72     7   294   194     5 24675     0\n",
            "      0     0     0     0     0     0     0     0     0     0     0     0\n",
            "      0     0     0     0     0     0     0     0     0     0     0     0\n",
            "      0     0     0     0     0     0     0]]\n",
            "\n",
            "Sentence after embedding:\n",
            "[[[-0.0346982   0.00614455  0.03383848 ...  0.03909608 -0.02192129\n",
            "   -0.01885207]\n",
            "  [-0.02859434  0.03223889  0.02938366 ... -0.03319526  0.0020069\n",
            "    0.03975803]\n",
            "  [ 0.04616506  0.03699772  0.04268508 ...  0.0211265   0.01285494\n",
            "    0.0016313 ]\n",
            "  ...\n",
            "  [ 0.04869526 -0.02530441  0.01824267 ... -0.00262809 -0.00810434\n",
            "    0.04966041]\n",
            "  [ 0.04869526 -0.02530441  0.01824267 ... -0.00262809 -0.00810434\n",
            "    0.04966041]\n",
            "  [ 0.04869526 -0.02530441  0.01824267 ... -0.00262809 -0.00810434\n",
            "    0.04966041]]]\n",
            "\n",
            "Embedded sentence shape: (1, 55, 128)\n"
          ]
        }
      ]
    },
    {
      "cell_type": "code",
      "metadata": {
        "id": "oZE43CTNiZQ9",
        "colab": {
          "base_uri": "https://localhost:8080/"
        },
        "outputId": "34b6314d-af9e-46e6-cb38-268a5e0719b8"
      },
      "source": [
        "#Enable faster loading on GPU by using tf.data prefetch() and batch() methods\n",
        "# Create and preprocess training dataset\n",
        "train_dataset = (\n",
        "    tf.data.Dataset\n",
        "    .from_tensor_slices((train_sentences, train_labels_one_hot))\n",
        "    .batch(32)\n",
        "    .prefetch(tf.data.AUTOTUNE)\n",
        ")\n",
        "\n",
        "# Create and preprocess validation dataset\n",
        "valid_dataset = (\n",
        "    tf.data.Dataset\n",
        "    .from_tensor_slices((val_sentences, val_labels_one_hot))\n",
        "    .batch(32)\n",
        "    .prefetch(tf.data.AUTOTUNE)\n",
        ")\n",
        "\n",
        "# Create and preprocess test dataset\n",
        "test_dataset = (\n",
        "    tf.data.Dataset\n",
        "    .from_tensor_slices((test_sentences, test_labels_one_hot))\n",
        "    .batch(32)\n",
        "    .prefetch(tf.data.AUTOTUNE)\n",
        ")\n",
        "\n",
        "# Check training dataset\n",
        "train_dataset"
      ],
      "execution_count": 42,
      "outputs": [
        {
          "output_type": "execute_result",
          "data": {
            "text/plain": [
              "<_PrefetchDataset element_spec=(TensorSpec(shape=(None,), dtype=tf.string, name=None), TensorSpec(shape=(None, 5), dtype=tf.float64, name=None))>"
            ]
          },
          "metadata": {},
          "execution_count": 42
        }
      ]
    },
    {
      "cell_type": "markdown",
      "metadata": {
        "id": "AByumHtMnfP3"
      },
      "source": [
        "## Model 1: Conv1D with token embedding\n",
        "\n",
        "Model Structure\n",
        "```\n",
        "Input (text) -> Tokenize -> Embedding -> Layers -> Output (label probability)\n",
        "```"
      ]
    },
    {
      "cell_type": "code",
      "metadata": {
        "id": "2t7aSVtqiZLS"
      },
      "source": [
        "# Define the input layer for text data\n",
        "inputs = tf.keras.layers.Input(shape=(1,), dtype=tf.string)\n",
        "\n",
        "# Apply the text vectorization layer to convert text to numerical sequences\n",
        "text_vector = text_vectorizer(inputs)\n",
        "\n",
        "# Embed the numerical sequences using token embeddings\n",
        "embeddings = token_embed(text_vector)\n",
        "\n",
        "# Apply a 1D convolutional layer with 64 filters and kernel size of 5\n",
        "conv1d_output = tf.keras.layers.Conv1D(filters=64, kernel_size=5, padding=\"same\", activation=\"relu\")(embeddings)\n",
        "\n",
        "# Global max pooling layer to capture key features\n",
        "global_max_pooling_output = tf.keras.layers.GlobalMaxPooling1D()(conv1d_output)\n",
        "\n",
        "# Dropout layer for regularization\n",
        "dropout_output = tf.keras.layers.Dropout(0.2)(global_max_pooling_output)\n",
        "\n",
        "# Output layer with softmax activation for multi-class classification\n",
        "outputs = tf.keras.layers.Dense(num_classes, activation=\"softmax\")(dropout_output)\n",
        "\n",
        "# Create the model\n",
        "model1 = tf.keras.Model(inputs, outputs)\n"
      ],
      "execution_count": 43,
      "outputs": []
    },
    {
      "cell_type": "code",
      "metadata": {
        "id": "1ZkpY3WTiZJ4"
      },
      "source": [
        "#compile model\n",
        "model1.compile(optimizer=tf.keras.optimizers.Adam(), loss=\"categorical_crossentropy\", metrics=[\"accuracy\"])"
      ],
      "execution_count": 44,
      "outputs": []
    },
    {
      "cell_type": "code",
      "source": [
        "# Display model summary\n",
        "model1.summary()"
      ],
      "metadata": {
        "colab": {
          "base_uri": "https://localhost:8080/"
        },
        "id": "xQW8pGz1lfUl",
        "outputId": "0013a1e2-0491-4667-d7cb-d00e952f2d3e"
      },
      "execution_count": 45,
      "outputs": [
        {
          "output_type": "stream",
          "name": "stdout",
          "text": [
            "Model: \"model\"\n",
            "_________________________________________________________________\n",
            " Layer (type)                Output Shape              Param #   \n",
            "=================================================================\n",
            " input_1 (InputLayer)        [(None, 1)]               0         \n",
            "                                                                 \n",
            " text_vectorization (TextVe  (None, 55)                0         \n",
            " ctorization)                                                    \n",
            "                                                                 \n",
            " embedding (Embedding)       (None, 55, 128)           8299648   \n",
            "                                                                 \n",
            " conv1d (Conv1D)             (None, 55, 64)            41024     \n",
            "                                                                 \n",
            " global_max_pooling1d (Glob  (None, 64)                0         \n",
            " alMaxPooling1D)                                                 \n",
            "                                                                 \n",
            " dropout (Dropout)           (None, 64)                0         \n",
            "                                                                 \n",
            " dense (Dense)               (None, 5)                 325       \n",
            "                                                                 \n",
            "=================================================================\n",
            "Total params: 8340997 (31.82 MB)\n",
            "Trainable params: 8340997 (31.82 MB)\n",
            "Non-trainable params: 0 (0.00 Byte)\n",
            "_________________________________________________________________\n"
          ]
        }
      ]
    },
    {
      "cell_type": "code",
      "metadata": {
        "id": "iSP_fPhdiZII",
        "colab": {
          "base_uri": "https://localhost:8080/"
        },
        "outputId": "8b567e60-5ae9-4f94-ea6b-b3c7a5f9a0c7"
      },
      "source": [
        "#Fit the model on smaller subset of data (here value is taken as 10%  of training and validation set data as it is more sensible to run smaller experiments and training models on large datasets on GPU takes time)\n",
        "model1_history =  model1.fit(train_dataset,\n",
        "                             steps_per_epoch=int(0.1 * len(train_dataset)),\n",
        "                             epochs = 10,\n",
        "                             validation_data = valid_dataset,\n",
        "                             validation_steps=int(0.1 * len(valid_dataset)))"
      ],
      "execution_count": 46,
      "outputs": [
        {
          "output_type": "stream",
          "name": "stdout",
          "text": [
            "Epoch 1/10\n",
            "562/562 [==============================] - 72s 124ms/step - loss: 0.8725 - accuracy: 0.6684 - val_loss: 0.5944 - val_accuracy: 0.7806\n",
            "Epoch 2/10\n",
            "562/562 [==============================] - 70s 125ms/step - loss: 0.6111 - accuracy: 0.7793 - val_loss: 0.5488 - val_accuracy: 0.8035\n",
            "Epoch 3/10\n",
            "562/562 [==============================] - 68s 120ms/step - loss: 0.5779 - accuracy: 0.7872 - val_loss: 0.5286 - val_accuracy: 0.8095\n",
            "Epoch 4/10\n",
            "562/562 [==============================] - 67s 120ms/step - loss: 0.5597 - accuracy: 0.7945 - val_loss: 0.5240 - val_accuracy: 0.8068\n",
            "Epoch 5/10\n",
            "562/562 [==============================] - 67s 120ms/step - loss: 0.5679 - accuracy: 0.7958 - val_loss: 0.5089 - val_accuracy: 0.8135\n",
            "Epoch 6/10\n",
            "562/562 [==============================] - 68s 120ms/step - loss: 0.5591 - accuracy: 0.7924 - val_loss: 0.5024 - val_accuracy: 0.8191\n",
            "Epoch 7/10\n",
            "562/562 [==============================] - 67s 119ms/step - loss: 0.5317 - accuracy: 0.8060 - val_loss: 0.4933 - val_accuracy: 0.8218\n",
            "Epoch 8/10\n",
            "562/562 [==============================] - 67s 120ms/step - loss: 0.5142 - accuracy: 0.8157 - val_loss: 0.4805 - val_accuracy: 0.8265\n",
            "Epoch 9/10\n",
            "562/562 [==============================] - 67s 119ms/step - loss: 0.5270 - accuracy: 0.8091 - val_loss: 0.4937 - val_accuracy: 0.8198\n",
            "Epoch 10/10\n",
            "562/562 [==============================] - 66s 118ms/step - loss: 0.5165 - accuracy: 0.8115 - val_loss: 0.4789 - val_accuracy: 0.8241\n"
          ]
        }
      ]
    },
    {
      "cell_type": "code",
      "metadata": {
        "id": "UluIRIHaiZFn",
        "colab": {
          "base_uri": "https://localhost:8080/"
        },
        "outputId": "d488cd20-8915-4727-eb89-24f7e81690ba"
      },
      "source": [
        "# Evaluating on entire validation dataset\n",
        "model1.evaluate(valid_dataset)"
      ],
      "execution_count": 47,
      "outputs": [
        {
          "output_type": "stream",
          "name": "stdout",
          "text": [
            "945/945 [==============================] - 7s 8ms/step - loss: 0.4769 - accuracy: 0.8245\n"
          ]
        },
        {
          "output_type": "execute_result",
          "data": {
            "text/plain": [
              "[0.476907342672348, 0.8245068192481995]"
            ]
          },
          "metadata": {},
          "execution_count": 47
        }
      ]
    },
    {
      "cell_type": "code",
      "metadata": {
        "id": "Q4EFNmNRiZDl",
        "colab": {
          "base_uri": "https://localhost:8080/"
        },
        "outputId": "71879e28-40b3-442d-ace2-6193e784e0df"
      },
      "source": [
        "# Make predictions\n",
        "model1_prediction_probablities = model1.predict(valid_dataset)\n",
        "model1_prediction_probablities"
      ],
      "execution_count": 48,
      "outputs": [
        {
          "output_type": "stream",
          "name": "stdout",
          "text": [
            "945/945 [==============================] - 7s 8ms/step\n"
          ]
        },
        {
          "output_type": "execute_result",
          "data": {
            "text/plain": [
              "array([[4.0893719e-01, 1.7548566e-01, 5.8077753e-02, 2.8874326e-01,\n",
              "        6.8756066e-02],\n",
              "       [4.6974272e-01, 4.1887614e-01, 3.1545274e-03, 8.7853707e-02,\n",
              "        2.0372853e-02],\n",
              "       [1.7581423e-01, 7.3594111e-04, 6.9385336e-04, 8.2273424e-01,\n",
              "        2.1792906e-05],\n",
              "       ...,\n",
              "       [4.9783383e-05, 5.0430559e-04, 5.6192218e-03, 3.8658356e-05,\n",
              "        9.9378794e-01],\n",
              "       [5.0192446e-02, 7.3075736e-01, 4.4461597e-02, 3.2347426e-02,\n",
              "        1.4224111e-01],\n",
              "       [9.2062121e-03, 9.8255241e-01, 3.5268003e-03, 1.3536611e-03,\n",
              "        3.3609134e-03]], dtype=float32)"
            ]
          },
          "metadata": {},
          "execution_count": 48
        }
      ]
    },
    {
      "cell_type": "code",
      "metadata": {
        "id": "t8M_4eSViZB1",
        "colab": {
          "base_uri": "https://localhost:8080/"
        },
        "outputId": "ff9f6d38-cd64-486b-d16f-fff1e37b3542"
      },
      "source": [
        "# Convert prediction probablities to classes\n",
        "model_1_predictions = tf.argmax(model1_prediction_probablities, axis=1)\n",
        "model_1_predictions"
      ],
      "execution_count": 49,
      "outputs": [
        {
          "output_type": "execute_result",
          "data": {
            "text/plain": [
              "<tf.Tensor: shape=(30212,), dtype=int64, numpy=array([0, 0, 3, ..., 4, 1, 1])>"
            ]
          },
          "metadata": {},
          "execution_count": 49
        }
      ]
    },
    {
      "cell_type": "markdown",
      "metadata": {
        "id": "kyRilMbhrmb7"
      },
      "source": [
        "### Model1 Results"
      ]
    },
    {
      "cell_type": "code",
      "metadata": {
        "id": "DeJI_grvwWio",
        "colab": {
          "base_uri": "https://localhost:8080/"
        },
        "outputId": "9e2bf953-47f3-4260-c884-c5f3815ed088"
      },
      "source": [
        "model1_results= generate_performance_scores(val_labels_encoded, model_1_predictions)"
      ],
      "execution_count": 50,
      "outputs": [
        {
          "output_type": "stream",
          "name": "stdout",
          "text": [
            "=============================================\n",
            "\n",
            "Performance Metrics:\n",
            "\n",
            "=============================================\n",
            "accuracy_score:\t\t0.82451\n",
            "\n",
            "_____________________________________________\n",
            "precision_score:\t0.82223\n",
            "\n",
            "_____________________________________________\n",
            "recall_score:\t\t0.82451\n",
            "\n",
            "_____________________________________________\n",
            "f1_score:\t\t0.82154\n",
            "\n",
            "=============================================\n"
          ]
        }
      ]
    },
    {
      "cell_type": "markdown",
      "metadata": {
        "id": "gps3htkSuLP7"
      },
      "source": [
        "## Model 2: Feature extraction with pretrained token embedding\n",
        "\n",
        "Pretrained model used: [pretrained Universal Sentence Encoder embeddings from TensorFlow Hub](https://tfhub.dev/google/universal-sentence-encoder/4).\n",
        "\n",
        "Reasons for using the above model:\n",
        "1. Low inference time\n",
        "2. Computationally inexpensive to use\n",
        "\n",
        "\n",
        "Model structure:\n",
        "\n",
        "```\n",
        "Inputs (string) -> Pretrained embeddings from TensorFlow Hub (Universal Sentence Encoder) -> Layers -> Output (prediction probabilities)\n",
        "```"
      ]
    },
    {
      "cell_type": "code",
      "metadata": {
        "id": "2_Bw0ZL3iY_9"
      },
      "source": [
        "# Download pretrained TensorFlow Hub USE\n",
        "import tensorflow_hub as hub\n",
        "def get_tfhub_model(model_link, model_name, model_trainable=False):\n",
        "    return hub.KerasLayer(model_link,\n",
        "                          trainable=model_trainable,\n",
        "                          name=model_name)"
      ],
      "execution_count": 51,
      "outputs": []
    },
    {
      "cell_type": "code",
      "source": [
        "encoder_link = 'https://tfhub.dev/google/universal-sentence-encoder/4'\n",
        "encoder_name = 'universal_sentence_encoder'\n",
        "encoder_trainable=False # set trainable to False for inference-only\n",
        "\n",
        "encoder = get_tfhub_model(encoder_link, encoder_name, model_trainable=encoder_trainable)"
      ],
      "metadata": {
        "id": "2mDcx92Rsd9I"
      },
      "execution_count": 52,
      "outputs": []
    },
    {
      "cell_type": "code",
      "metadata": {
        "id": "TSFkc6rUwiOk",
        "colab": {
          "base_uri": "https://localhost:8080/"
        },
        "outputId": "04b84be3-22dd-4604-e540-33e836715102"
      },
      "source": [
        "# Test out the embedding on a random sentence\n",
        "# Select a random sentence from the training set\n",
        "random_training_sentence = random.choice(train_sentences)\n",
        "\n",
        "# Display the random training sentence\n",
        "print(f\"Random training sentence:\\n{random_training_sentence}\\n\")\n",
        "\n",
        "# Use the TensorFlow Hub embedding layer to embed the random sentence\n",
        "embedded_sentence = encoder([random_training_sentence])\n",
        "\n",
        "# Display the embedded sentence (showing the first 20 elements, truncated if necessary)\n",
        "print(f\"Sentence after embedding:\\n{embedded_sentence[0][:20]} (truncated output)...\\n\")\n",
        "\n",
        "# Display the length of the embedded sentence\n",
        "print(f\"Length of sentence embedding:\\n{len(embedded_sentence[0])}\")"
      ],
      "execution_count": 53,
      "outputs": [
        {
          "output_type": "stream",
          "name": "stdout",
          "text": [
            "Random training sentence:\n",
            "To test the effects of pressure-controlled ( PCV ) and volume-controlled ( VCV ) ventilation during one-lung ventilation ( OLV ) for thoracic surgery on right ventricular ( RV ) function .\n",
            "\n",
            "Sentence after embedding:\n",
            "[ 0.01251665  0.03760934  0.0025916  -0.05177359  0.0224129  -0.0766643\n",
            "  0.03601237 -0.03069751  0.05067188  0.03658909  0.07736617  0.05114786\n",
            "  0.01607559  0.02004801  0.05246226 -0.03107416 -0.08398724  0.01263481\n",
            " -0.06470896 -0.01273841] (truncated output)...\n",
            "\n",
            "Length of sentence embedding:\n",
            "512\n"
          ]
        }
      ]
    },
    {
      "cell_type": "code",
      "metadata": {
        "id": "H0mzMD6pwt8x"
      },
      "source": [
        "# Define a feature extractor model using TF Hub layer\n",
        "input_layer = tf.keras.layers.Input(shape=[], dtype=tf.string)\n",
        "\n",
        "# Tokenize text and create embedding\n",
        "embedding_layer = encoder(input_layer)\n",
        "\n",
        "# Add a fully connected layer on top of the embedding\n",
        "dense_layer = tf.keras.layers.Dense(128, activation=\"relu\")(embedding_layer)\n",
        "\n",
        "# Create the output layer\n",
        "output_layer = tf.keras.layers.Dense(5, activation=\"softmax\")(dense_layer)\n",
        "\n",
        "# Create the model\n",
        "model2_feature_extractor_model = tf.keras.Model(inputs=input_layer, outputs=output_layer)\n"
      ],
      "execution_count": 54,
      "outputs": []
    },
    {
      "cell_type": "code",
      "source": [
        "# Compile the model\n",
        "model2_feature_extractor_model.compile(loss=\"categorical_crossentropy\",\n",
        "                                optimizer=tf.keras.optimizers.Adam(),\n",
        "                                metrics=[\"accuracy\"])"
      ],
      "metadata": {
        "id": "lEIq1LpHvoGu"
      },
      "execution_count": 55,
      "outputs": []
    },
    {
      "cell_type": "code",
      "metadata": {
        "id": "aNxvlxkAxD-J",
        "colab": {
          "base_uri": "https://localhost:8080/"
        },
        "outputId": "b1e03071-6f9b-4f98-a65e-020fa590fa84"
      },
      "source": [
        "# Display model summary\n",
        "model2_feature_extractor_model.summary()"
      ],
      "execution_count": 56,
      "outputs": [
        {
          "output_type": "stream",
          "name": "stdout",
          "text": [
            "Model: \"model_1\"\n",
            "_________________________________________________________________\n",
            " Layer (type)                Output Shape              Param #   \n",
            "=================================================================\n",
            " input_2 (InputLayer)        [(None,)]                 0         \n",
            "                                                                 \n",
            " universal_sentence_encoder  (None, 512)               256797824 \n",
            "  (KerasLayer)                                                   \n",
            "                                                                 \n",
            " dense_1 (Dense)             (None, 128)               65664     \n",
            "                                                                 \n",
            " dense_2 (Dense)             (None, 5)                 645       \n",
            "                                                                 \n",
            "=================================================================\n",
            "Total params: 256864133 (979.86 MB)\n",
            "Trainable params: 66309 (259.02 KB)\n",
            "Non-trainable params: 256797824 (979.61 MB)\n",
            "_________________________________________________________________\n"
          ]
        }
      ]
    },
    {
      "cell_type": "code",
      "metadata": {
        "id": "5WTuR71UxGVG",
        "colab": {
          "base_uri": "https://localhost:8080/"
        },
        "outputId": "e05493c9-8f80-4ba5-a4ec-7670699e8226"
      },
      "source": [
        "#Fit the model on smaller subset of data (here value is taken as 10%  of training and validation set data as it is more sensible to run smaller experiments and training models on large datasets on GPU takes time)\n",
        "model2_feature_extractor_model_history =  model2_feature_extractor_model.fit(train_dataset,\n",
        "                             steps_per_epoch=int(0.1 * len(train_dataset)),\n",
        "                             epochs = 10,\n",
        "                             validation_data = valid_dataset,\n",
        "                             validation_steps=int(0.1 * len(valid_dataset)))"
      ],
      "execution_count": 57,
      "outputs": [
        {
          "output_type": "stream",
          "name": "stdout",
          "text": [
            "Epoch 1/10\n",
            "562/562 [==============================] - 14s 19ms/step - loss: 0.9164 - accuracy: 0.6496 - val_loss: 0.7969 - val_accuracy: 0.6895\n",
            "Epoch 2/10\n",
            "562/562 [==============================] - 10s 18ms/step - loss: 0.7674 - accuracy: 0.7021 - val_loss: 0.7530 - val_accuracy: 0.7035\n",
            "Epoch 3/10\n",
            "562/562 [==============================] - 9s 16ms/step - loss: 0.7499 - accuracy: 0.7121 - val_loss: 0.7370 - val_accuracy: 0.7134\n",
            "Epoch 4/10\n",
            "562/562 [==============================] - 10s 18ms/step - loss: 0.7162 - accuracy: 0.7262 - val_loss: 0.7074 - val_accuracy: 0.7281\n",
            "Epoch 5/10\n",
            "562/562 [==============================] - 10s 18ms/step - loss: 0.7241 - accuracy: 0.7233 - val_loss: 0.6870 - val_accuracy: 0.7357\n",
            "Epoch 6/10\n",
            "562/562 [==============================] - 9s 15ms/step - loss: 0.7150 - accuracy: 0.7251 - val_loss: 0.6774 - val_accuracy: 0.7397\n",
            "Epoch 7/10\n",
            "562/562 [==============================] - 10s 18ms/step - loss: 0.6834 - accuracy: 0.7423 - val_loss: 0.6622 - val_accuracy: 0.7467\n",
            "Epoch 8/10\n",
            "562/562 [==============================] - 10s 19ms/step - loss: 0.6717 - accuracy: 0.7446 - val_loss: 0.6502 - val_accuracy: 0.7503\n",
            "Epoch 9/10\n",
            "562/562 [==============================] - 10s 18ms/step - loss: 0.6717 - accuracy: 0.7431 - val_loss: 0.6524 - val_accuracy: 0.7507\n",
            "Epoch 10/10\n",
            "562/562 [==============================] - 9s 16ms/step - loss: 0.6645 - accuracy: 0.7489 - val_loss: 0.6465 - val_accuracy: 0.7560\n"
          ]
        }
      ]
    },
    {
      "cell_type": "code",
      "metadata": {
        "id": "x9an0EOqxvYl",
        "colab": {
          "base_uri": "https://localhost:8080/"
        },
        "outputId": "3925276d-e199-4221-faf2-e3a09dc309a6"
      },
      "source": [
        "# Evaluate on entire validation dataset\n",
        "model2_feature_extractor_model.evaluate(valid_dataset)"
      ],
      "execution_count": 58,
      "outputs": [
        {
          "output_type": "stream",
          "name": "stdout",
          "text": [
            "945/945 [==============================] - 13s 14ms/step - loss: 0.6533 - accuracy: 0.7522\n"
          ]
        },
        {
          "output_type": "execute_result",
          "data": {
            "text/plain": [
              "[0.6533377170562744, 0.7521514892578125]"
            ]
          },
          "metadata": {},
          "execution_count": 58
        }
      ]
    },
    {
      "cell_type": "code",
      "metadata": {
        "id": "48YMmqKbzl6r",
        "colab": {
          "base_uri": "https://localhost:8080/"
        },
        "outputId": "8f0e7f68-5681-4347-ce57-18bd941c6596"
      },
      "source": [
        "# Make predictions with feature extraction model\n",
        "model2_feature_extractor_model_prediction_probablities = model2_feature_extractor_model.predict(valid_dataset)\n",
        "model2_feature_extractor_model_prediction_probablities"
      ],
      "execution_count": 59,
      "outputs": [
        {
          "output_type": "stream",
          "name": "stdout",
          "text": [
            "945/945 [==============================] - 15s 15ms/step\n"
          ]
        },
        {
          "output_type": "execute_result",
          "data": {
            "text/plain": [
              "array([[3.71297181e-01, 5.17207623e-01, 4.62078693e-04, 1.02649525e-01,\n",
              "        8.38359073e-03],\n",
              "       [2.80822426e-01, 6.43345535e-01, 1.89989852e-03, 7.27391690e-02,\n",
              "        1.19304052e-03],\n",
              "       [4.69856769e-01, 3.53667550e-02, 2.34994702e-02, 4.38898355e-01,\n",
              "        3.23786959e-02],\n",
              "       ...,\n",
              "       [7.93400162e-04, 8.04708630e-04, 1.97715480e-02, 1.29015185e-04,\n",
              "        9.78501379e-01],\n",
              "       [4.82080644e-03, 4.93353345e-02, 1.98512450e-01, 1.02701399e-03,\n",
              "        7.46304452e-01],\n",
              "       [5.72757944e-02, 8.30239654e-01, 1.00085028e-01, 7.54659588e-04,\n",
              "        1.16448710e-02]], dtype=float32)"
            ]
          },
          "metadata": {},
          "execution_count": 59
        }
      ]
    },
    {
      "cell_type": "code",
      "metadata": {
        "id": "9HPWWEEwz6Ku",
        "colab": {
          "base_uri": "https://localhost:8080/"
        },
        "outputId": "eb74c09e-a13b-49c8-b4d5-84735208c419"
      },
      "source": [
        "# Convert the predictions probablities to classes\n",
        "model2_feature_extractor_model_predictions = tf.argmax(model2_feature_extractor_model_prediction_probablities, axis=1)\n",
        "model2_feature_extractor_model_predictions"
      ],
      "execution_count": 60,
      "outputs": [
        {
          "output_type": "execute_result",
          "data": {
            "text/plain": [
              "<tf.Tensor: shape=(30212,), dtype=int64, numpy=array([1, 1, 0, ..., 4, 4, 1])>"
            ]
          },
          "metadata": {},
          "execution_count": 60
        }
      ]
    },
    {
      "cell_type": "markdown",
      "metadata": {
        "id": "59ezmA13r0Pq"
      },
      "source": [
        "### Model2 Results"
      ]
    },
    {
      "cell_type": "code",
      "metadata": {
        "id": "LBrAxS52zpfn",
        "colab": {
          "base_uri": "https://localhost:8080/"
        },
        "outputId": "25f2b9a4-3ab8-4906-9e91-ef003dc7baec"
      },
      "source": [
        "model2_feature_extractor_model_results= generate_performance_scores(val_labels_encoded, model2_feature_extractor_model_predictions)"
      ],
      "execution_count": 61,
      "outputs": [
        {
          "output_type": "stream",
          "name": "stdout",
          "text": [
            "=============================================\n",
            "\n",
            "Performance Metrics:\n",
            "\n",
            "=============================================\n",
            "accuracy_score:\t\t0.75215\n",
            "\n",
            "_____________________________________________\n",
            "precision_score:\t0.74722\n",
            "\n",
            "_____________________________________________\n",
            "recall_score:\t\t0.75215\n",
            "\n",
            "_____________________________________________\n",
            "f1_score:\t\t0.74743\n",
            "\n",
            "=============================================\n"
          ]
        }
      ]
    },
    {
      "cell_type": "markdown",
      "metadata": {
        "id": "04R1gQu35pVb"
      },
      "source": [
        "## Model 3: Conv1D with character embedding\n",
        "\n",
        "Approach used:\n",
        "1. Split the sequences into characters and perform textvectorization on resulting sequence\n",
        "2. Perform embedding on the sequence obtained from step 1\n",
        "\n",
        "Model structure:\n",
        "\n",
        "```\n",
        "Input (character-level text) -> Tokenize -> Embedding -> Layers (Conv1D, GlobalMaxPool1D) -> Output (label probability)\n",
        "```"
      ]
    },
    {
      "cell_type": "markdown",
      "metadata": {
        "id": "IEIASb3e5uZl"
      },
      "source": [
        "### Creating a character-level tokenizer\n",
        "\n"
      ]
    },
    {
      "cell_type": "code",
      "metadata": {
        "id": "we8ivMCg6HGF",
        "colab": {
          "base_uri": "https://localhost:8080/",
          "height": 55
        },
        "outputId": "a4822627-81e8-40d5-90c9-217cbc615383"
      },
      "source": [
        "def split_into_characters(text):\n",
        "    \"\"\"Split a given text into individual characters and join them with spaces.\"\"\"\n",
        "    return \" \".join(list(text))\n",
        "\n",
        "# Test the function with a random training sentence\n",
        "resulting_characters = split_into_characters(random_training_sentence)\n",
        "resulting_characters"
      ],
      "execution_count": 62,
      "outputs": [
        {
          "output_type": "execute_result",
          "data": {
            "text/plain": [
              "'T o   t e s t   t h e   e f f e c t s   o f   p r e s s u r e - c o n t r o l l e d   (   P C V   )   a n d   v o l u m e - c o n t r o l l e d   (   V C V   )   v e n t i l a t i o n   d u r i n g   o n e - l u n g   v e n t i l a t i o n   (   O L V   )   f o r   t h o r a c i c   s u r g e r y   o n   r i g h t   v e n t r i c u l a r   (   R V   )   f u n c t i o n   .'"
            ],
            "application/vnd.google.colaboratory.intrinsic+json": {
              "type": "string"
            }
          },
          "metadata": {},
          "execution_count": 62
        }
      ]
    },
    {
      "cell_type": "code",
      "metadata": {
        "id": "ECeI8HeD60oB",
        "colab": {
          "base_uri": "https://localhost:8080/"
        },
        "outputId": "1cbf3e82-0db5-41c5-84b8-1805dad02e3d"
      },
      "source": [
        "# Split the training, validation, and test sets into character-level data\n",
        "train_chars = [split_into_characters(sentence) for sentence in train_sentences]\n",
        "val_chars = [split_into_characters(sentence) for sentence in val_sentences]\n",
        "test_chars = [split_into_characters(sentence) for sentence in test_sentences]\n",
        "print(train_chars[1])"
      ],
      "execution_count": 63,
      "outputs": [
        {
          "output_type": "stream",
          "name": "stdout",
          "text": [
            "A   t o t a l   o f   @   p a t i e n t s   w i t h   p r i m a r y   k n e e   O A   w e r e   r a n d o m i z e d   @ : @   ;   @   r e c e i v e d   @   m g / d a y   o f   p r e d n i s o l o n e   a n d   @   r e c e i v e d   p l a c e b o   f o r   @   w e e k s   .\n"
          ]
        }
      ]
    },
    {
      "cell_type": "code",
      "metadata": {
        "id": "dmYHDLM47R-P",
        "colab": {
          "base_uri": "https://localhost:8080/"
        },
        "outputId": "45e99d64-5043-4597-da53-2ea81fdba477"
      },
      "source": [
        "# Calculate the character lengths for each training sentence\n",
        "char_lengths = [len(sentence) for sentence in train_sentences]\n",
        "\n",
        "# Calculate the total sum of character lengths\n",
        "total_char_length = sum(char_lengths)\n",
        "\n",
        "# Calculate the total number of training sentences\n",
        "num_train_sentences = len(char_lengths)\n",
        "\n",
        "# Calculate the average character length\n",
        "average_char_length = total_char_length / num_train_sentences\n",
        "\n",
        "# Display the average character length\n",
        "print(\"Average Character Length in Training Sentences:\", average_char_length)"
      ],
      "execution_count": 64,
      "outputs": [
        {
          "output_type": "stream",
          "name": "stdout",
          "text": [
            "Average Character Length in Training Sentences: 149.3662574983337\n"
          ]
        }
      ]
    },
    {
      "cell_type": "code",
      "metadata": {
        "id": "TKZ62YGKh_t5",
        "colab": {
          "base_uri": "https://localhost:8080/",
          "height": 713
        },
        "outputId": "d81df2dd-ae18-4f77-c35e-d147d64c1c52"
      },
      "source": [
        "plt.hist(char_lengths,bins =30)   #Checking sequence distribution at character level"
      ],
      "execution_count": 65,
      "outputs": [
        {
          "output_type": "execute_result",
          "data": {
            "text/plain": [
              "(array([7.8590e+03, 3.5206e+04, 4.9626e+04, 4.0112e+04, 2.4025e+04,\n",
              "        1.2206e+04, 5.8610e+03, 2.5790e+03, 1.2490e+03, 6.2200e+02,\n",
              "        3.1400e+02, 1.5300e+02, 8.8000e+01, 5.1000e+01, 2.8000e+01,\n",
              "        1.7000e+01, 1.7000e+01, 8.0000e+00, 5.0000e+00, 6.0000e+00,\n",
              "        2.0000e+00, 1.0000e+00, 0.0000e+00, 2.0000e+00, 1.0000e+00,\n",
              "        1.0000e+00, 0.0000e+00, 0.0000e+00, 0.0000e+00, 1.0000e+00]),\n",
              " array([1.00000000e+00, 4.71666667e+01, 9.33333333e+01, 1.39500000e+02,\n",
              "        1.85666667e+02, 2.31833333e+02, 2.78000000e+02, 3.24166667e+02,\n",
              "        3.70333333e+02, 4.16500000e+02, 4.62666667e+02, 5.08833333e+02,\n",
              "        5.55000000e+02, 6.01166667e+02, 6.47333333e+02, 6.93500000e+02,\n",
              "        7.39666667e+02, 7.85833333e+02, 8.32000000e+02, 8.78166667e+02,\n",
              "        9.24333333e+02, 9.70500000e+02, 1.01666667e+03, 1.06283333e+03,\n",
              "        1.10900000e+03, 1.15516667e+03, 1.20133333e+03, 1.24750000e+03,\n",
              "        1.29366667e+03, 1.33983333e+03, 1.38600000e+03]),\n",
              " <BarContainer object of 30 artists>)"
            ]
          },
          "metadata": {},
          "execution_count": 65
        },
        {
          "output_type": "display_data",
          "data": {
            "text/plain": [
              "<Figure size 640x480 with 1 Axes>"
            ],
            "image/png": "[encoded data removed]"
          },
          "metadata": {}
        }
      ]
    },
    {
      "cell_type": "markdown",
      "metadata": {
        "id": "6Yimd67Si2Po"
      },
      "source": [
        "\n",
        "The majority of sentences are between 0 to 200 characters long as per above histogram"
      ]
    },
    {
      "cell_type": "code",
      "metadata": {
        "id": "sewz5tu3jlzO"
      },
      "source": [
        "output_sequence_character_length = int(np.percentile(char_lengths, 95))# Determine character length which covers 95% of sequences"
      ],
      "execution_count": 66,
      "outputs": []
    },
    {
      "cell_type": "code",
      "metadata": {
        "id": "fNt3Bpf0jwZH",
        "colab": {
          "base_uri": "https://localhost:8080/"
        },
        "outputId": "04fdc8d9-be0c-4440-c4a5-2939107ed811"
      },
      "source": [
        "output_sequence_character_length"
      ],
      "execution_count": 67,
      "outputs": [
        {
          "output_type": "execute_result",
          "data": {
            "text/plain": [
              "290"
            ]
          },
          "metadata": {},
          "execution_count": 67
        }
      ]
    },
    {
      "cell_type": "code",
      "metadata": {
        "id": "OgDL467dl4as"
      },
      "source": [
        "max_tokens= 28 # Total no of characters = total no of characters in alphabet+ space+ OOV(out of vocabulary token)"
      ],
      "execution_count": 68,
      "outputs": []
    },
    {
      "cell_type": "code",
      "metadata": {
        "id": "5xqQYGL2k2V8"
      },
      "source": [
        "# Create char-level token vectorizer instance\n",
        "char_vectorizer = TextVectorization(max_tokens,\n",
        "                                    output_sequence_length=output_sequence_character_length,\n",
        "                                    standardize=\"lower_and_strip_punctuation\")\n",
        "\n",
        "# Adapt character vectorizer to training characters\n",
        "char_vectorizer.adapt(train_chars)"
      ],
      "execution_count": 69,
      "outputs": []
    },
    {
      "cell_type": "code",
      "metadata": {
        "id": "eOqYGJiOl8ty",
        "colab": {
          "base_uri": "https://localhost:8080/"
        },
        "outputId": "22c189d7-5375-457e-e8ee-b657e438553a"
      },
      "source": [
        "# Check character vocabulary characteristics\n",
        "char_vocab = char_vectorizer.get_vocabulary()\n",
        "print(f\"Total Number of unique characters in vocabulary: {len(char_vocab)}\")"
      ],
      "execution_count": 70,
      "outputs": [
        {
          "output_type": "stream",
          "name": "stdout",
          "text": [
            "Total Number of unique characters in vocabulary: 28\n"
          ]
        }
      ]
    },
    {
      "cell_type": "code",
      "metadata": {
        "id": "seeTxZK5mE0G",
        "colab": {
          "base_uri": "https://localhost:8080/"
        },
        "outputId": "1442e71d-c651-416d-b5e1-0d6ca19dfc62"
      },
      "source": [
        "# Validate character vectorizer\n",
        "random_train_chars = random.choice(train_chars)\n",
        "print(f\"Charified text:\\n{random_train_chars}\")\n",
        "print(f\"\\nLength of characters: {len(random_train_chars.split())}\")\n",
        "vectorized_chars = char_vectorizer([random_train_chars])\n",
        "print(f\"\\nVectorized characters:\\n{vectorized_chars}\")\n",
        "print(f\"\\nLength of vectorized characters: {len(vectorized_chars[0])}\")"
      ],
      "execution_count": 71,
      "outputs": [
        {
          "output_type": "stream",
          "name": "stdout",
          "text": [
            "Charified text:\n",
            "T h i s   s t u d y   c o m p a r e s   m o d e r a t o r s   o f   i n i t i a t i o n   a n d   m a i n t e n a n c e   o f   h e a l t h   b e h a v i o r   c h a n g e s   .\n",
            "\n",
            "Length of characters: 77\n",
            "\n",
            "Vectorized characters:\n",
            "[[ 3 13  4  9  9  3 16 10 19 11  7 15 14  5  8  2  9 15  7 10  2  8  5  3\n",
            "   7  8  9  7 17  4  6  4  3  4  5  3  4  7  6  5  6 10 15  5  4  6  3  2\n",
            "   6  5  6 11  2  7 17 13  2  5 12  3 13 22  2 13  5 21  4  7  8 11 13  5\n",
            "   6 18  2  9  0  0  0  0  0  0  0  0  0  0  0  0  0  0  0  0  0  0  0  0\n",
            "   0  0  0  0  0  0  0  0  0  0  0  0  0  0  0  0  0  0  0  0  0  0  0  0\n",
            "   0  0  0  0  0  0  0  0  0  0  0  0  0  0  0  0  0  0  0  0  0  0  0  0\n",
            "   0  0  0  0  0  0  0  0  0  0  0  0  0  0  0  0  0  0  0  0  0  0  0  0\n",
            "   0  0  0  0  0  0  0  0  0  0  0  0  0  0  0  0  0  0  0  0  0  0  0  0\n",
            "   0  0  0  0  0  0  0  0  0  0  0  0  0  0  0  0  0  0  0  0  0  0  0  0\n",
            "   0  0  0  0  0  0  0  0  0  0  0  0  0  0  0  0  0  0  0  0  0  0  0  0\n",
            "   0  0  0  0  0  0  0  0  0  0  0  0  0  0  0  0  0  0  0  0  0  0  0  0\n",
            "   0  0  0  0  0  0  0  0  0  0  0  0  0  0  0  0  0  0  0  0  0  0  0  0\n",
            "   0  0]]\n",
            "\n",
            "Length of vectorized characters: 290\n"
          ]
        }
      ]
    },
    {
      "cell_type": "markdown",
      "metadata": {
        "id": "rFd8w_PBnGDm"
      },
      "source": [
        "### Create a character-level embedding\n"
      ]
    },
    {
      "cell_type": "code",
      "metadata": {
        "id": "GLFNqMdumt0A"
      },
      "source": [
        "#Create character embedding\n",
        "#input_dim = no of characters in vocabulary(max tokens)\n",
        "#output dim= referred embedding dimension from Fig 1 of research paper https://arxiv.org/pdf/1612.05251.pdf\n",
        "char_embed = layers.Embedding(input_dim=max_tokens,\n",
        "                              output_dim= 25,\n",
        "                              mask_zero= True)\n"
      ],
      "execution_count": 72,
      "outputs": []
    },
    {
      "cell_type": "code",
      "source": [
        "# Validate character embedding layer\n",
        "print(f\"Charified text (before vectorization and embedding):\\n{random_train_chars}\\n\")\n",
        "char_embed_example = char_embed(char_vectorizer([random_train_chars]))\n",
        "print(f\"Embedded chars (after vectorization and embedding):\\n{char_embed_example}\\n\")\n",
        "print(f\"Character embedding shape: {char_embed_example.shape}\")"
      ],
      "metadata": {
        "colab": {
          "base_uri": "https://localhost:8080/"
        },
        "id": "605SPZciCwwT",
        "outputId": "ab475b5d-fc07-4fe1-a34b-8885a73178ab"
      },
      "execution_count": 73,
      "outputs": [
        {
          "output_type": "stream",
          "name": "stdout",
          "text": [
            "Charified text (before vectorization and embedding):\n",
            "T h i s   s t u d y   c o m p a r e s   m o d e r a t o r s   o f   i n i t i a t i o n   a n d   m a i n t e n a n c e   o f   h e a l t h   b e h a v i o r   c h a n g e s   .\n",
            "\n",
            "Embedded chars (after vectorization and embedding):\n",
            "[[[-0.02572104 -0.02568332  0.00486849 ... -0.00210125 -0.00389922\n",
            "    0.04925635]\n",
            "  [-0.0154493   0.03582933 -0.01533563 ...  0.02115883  0.0200902\n",
            "   -0.00939513]\n",
            "  [ 0.04889871  0.02173683  0.02099041 ...  0.02123541  0.02724531\n",
            "    0.01972122]\n",
            "  ...\n",
            "  [-0.01465497  0.01170807  0.0184296  ... -0.00693461 -0.03020593\n",
            "   -0.02220659]\n",
            "  [-0.01465497  0.01170807  0.0184296  ... -0.00693461 -0.03020593\n",
            "   -0.02220659]\n",
            "  [-0.01465497  0.01170807  0.0184296  ... -0.00693461 -0.03020593\n",
            "   -0.02220659]]]\n",
            "\n",
            "Character embedding shape: (1, 290, 25)\n"
          ]
        }
      ]
    },
    {
      "cell_type": "code",
      "metadata": {
        "id": "GRCYFl-Mowsc",
        "colab": {
          "base_uri": "https://localhost:8080/"
        },
        "outputId": "b5ecae74-6a1f-4ca3-d90f-51b18fd6896a"
      },
      "source": [
        "# Create TensorFlow datasets for character-level training and validation data\n",
        "train_char_dataset = (\n",
        "    tf.data.Dataset\n",
        "    .from_tensor_slices((train_chars, train_labels_one_hot))\n",
        "    .batch(32)\n",
        "    .prefetch(tf.data.AUTOTUNE)\n",
        ")\n",
        "\n",
        "val_char_dataset = (\n",
        "    tf.data.Dataset\n",
        "    .from_tensor_slices((val_chars, val_labels_one_hot))\n",
        "    .batch(32)\n",
        "    .prefetch(tf.data.AUTOTUNE)\n",
        ")\n",
        "\n",
        "test_char_dataset = (\n",
        "    tf.data.Dataset\n",
        "    .from_tensor_slices((test_chars, test_labels_one_hot))\n",
        "    .batch(32)\n",
        "    .prefetch(tf.data.AUTOTUNE)\n",
        ")\n",
        "\n",
        "\n",
        "\n",
        "\n",
        "#Check training character dataset\n",
        "train_char_dataset"
      ],
      "execution_count": 74,
      "outputs": [
        {
          "output_type": "execute_result",
          "data": {
            "text/plain": [
              "<_PrefetchDataset element_spec=(TensorSpec(shape=(None,), dtype=tf.string, name=None), TensorSpec(shape=(None, 5), dtype=tf.float64, name=None))>"
            ]
          },
          "metadata": {},
          "execution_count": 74
        }
      ]
    },
    {
      "cell_type": "code",
      "metadata": {
        "id": "9B4TadikoJ_L"
      },
      "source": [
        "# Define the input layer for character-level data\n",
        "input_layer = tf.keras.layers.Input(shape=(1,), dtype=\"string\")\n",
        "\n",
        "# Apply the character vectorization layer to convert characters to numerical sequences\n",
        "char_vectors = char_vectorizer(input_layer)\n",
        "\n",
        "# Apply the character embedding layer to create dense representations of characters\n",
        "char_embeddings = char_embed(char_vectors)\n",
        "\n",
        "# Apply a 1D convolutional layer\n",
        "conv1d_output = tf.keras.layers.Conv1D(64, kernel_size=5, padding=\"same\", activation=\"relu\")(char_embeddings)\n",
        "\n",
        "# Apply global max pooling to capture key features from the convolutional layer\n",
        "global_max_pooling_output = tf.keras.layers.GlobalMaxPooling1D()(conv1d_output)\n",
        "\n",
        "# Create the output layer with softmax activation for multi-class classification\n",
        "output_layer = tf.keras.layers.Dense(num_classes, activation=\"softmax\")(global_max_pooling_output)\n",
        "\n",
        "# Create the Conv1D character-level model\n",
        "model3 = tf.keras.Model(inputs=input_layer, outputs=output_layer)"
      ],
      "execution_count": 75,
      "outputs": []
    },
    {
      "cell_type": "code",
      "source": [
        "# Compile the model\n",
        "model3.compile(loss=\"categorical_crossentropy\", optimizer=tf.keras.optimizers.Adam(), metrics=[\"accuracy\"])"
      ],
      "metadata": {
        "id": "zfDHPoAkKPhj"
      },
      "execution_count": 76,
      "outputs": []
    },
    {
      "cell_type": "code",
      "source": [
        "# Display the model summary\n",
        "model3.summary()"
      ],
      "metadata": {
        "colab": {
          "base_uri": "https://localhost:8080/"
        },
        "id": "Uf8M08m5KQZu",
        "outputId": "809b7947-467d-4a05-e5ed-83acc8192692"
      },
      "execution_count": 77,
      "outputs": [
        {
          "output_type": "stream",
          "name": "stdout",
          "text": [
            "Model: \"model_2\"\n",
            "_________________________________________________________________\n",
            " Layer (type)                Output Shape              Param #   \n",
            "=================================================================\n",
            " input_3 (InputLayer)        [(None, 1)]               0         \n",
            "                                                                 \n",
            " text_vectorization_1 (Text  (None, 290)               0         \n",
            " Vectorization)                                                  \n",
            "                                                                 \n",
            " embedding_1 (Embedding)     (None, 290, 25)           700       \n",
            "                                                                 \n",
            " conv1d_1 (Conv1D)           (None, 290, 64)           8064      \n",
            "                                                                 \n",
            " global_max_pooling1d_1 (Gl  (None, 64)                0         \n",
            " obalMaxPooling1D)                                               \n",
            "                                                                 \n",
            " dense_3 (Dense)             (None, 5)                 325       \n",
            "                                                                 \n",
            "=================================================================\n",
            "Total params: 9089 (35.50 KB)\n",
            "Trainable params: 9089 (35.50 KB)\n",
            "Non-trainable params: 0 (0.00 Byte)\n",
            "_________________________________________________________________\n"
          ]
        }
      ]
    },
    {
      "cell_type": "code",
      "metadata": {
        "id": "hDE27dS3pL1Q",
        "colab": {
          "base_uri": "https://localhost:8080/"
        },
        "outputId": "fb6d6956-2f7f-4497-d585-dca00d74e843"
      },
      "source": [
        "# Fit the model\n",
        "model3_history = model3.fit(train_char_dataset,\n",
        "                              steps_per_epoch=int(0.1 * len(train_char_dataset)),\n",
        "                              epochs=10,\n",
        "                              validation_data=val_char_dataset,\n",
        "                              validation_steps=int(0.1 * len(val_char_dataset)))"
      ],
      "execution_count": 78,
      "outputs": [
        {
          "output_type": "stream",
          "name": "stdout",
          "text": [
            "Epoch 1/10\n",
            "562/562 [==============================] - 15s 25ms/step - loss: 1.2773 - accuracy: 0.4914 - val_loss: 1.0530 - val_accuracy: 0.5964\n",
            "Epoch 2/10\n",
            "562/562 [==============================] - 13s 24ms/step - loss: 0.9925 - accuracy: 0.6026 - val_loss: 0.9439 - val_accuracy: 0.6233\n",
            "Epoch 3/10\n",
            "562/562 [==============================] - 13s 23ms/step - loss: 0.9119 - accuracy: 0.6405 - val_loss: 0.8690 - val_accuracy: 0.6576\n",
            "Epoch 4/10\n",
            "562/562 [==============================] - 13s 23ms/step - loss: 0.8661 - accuracy: 0.6665 - val_loss: 0.8428 - val_accuracy: 0.6682\n",
            "Epoch 5/10\n",
            "562/562 [==============================] - 13s 24ms/step - loss: 0.8476 - accuracy: 0.6683 - val_loss: 0.8227 - val_accuracy: 0.6838\n",
            "Epoch 6/10\n",
            "562/562 [==============================] - 14s 25ms/step - loss: 0.8337 - accuracy: 0.6807 - val_loss: 0.7989 - val_accuracy: 0.6845\n",
            "Epoch 7/10\n",
            "562/562 [==============================] - 14s 24ms/step - loss: 0.8167 - accuracy: 0.6834 - val_loss: 0.7970 - val_accuracy: 0.6892\n",
            "Epoch 8/10\n",
            "562/562 [==============================] - 14s 24ms/step - loss: 0.7928 - accuracy: 0.6977 - val_loss: 0.7887 - val_accuracy: 0.6971\n",
            "Epoch 9/10\n",
            "562/562 [==============================] - 14s 24ms/step - loss: 0.7825 - accuracy: 0.6992 - val_loss: 0.7889 - val_accuracy: 0.6922\n",
            "Epoch 10/10\n",
            "562/562 [==============================] - 14s 24ms/step - loss: 0.7801 - accuracy: 0.6987 - val_loss: 0.7507 - val_accuracy: 0.7111\n"
          ]
        }
      ]
    },
    {
      "cell_type": "code",
      "metadata": {
        "id": "o-pTFsdJpNn6",
        "colab": {
          "base_uri": "https://localhost:8080/"
        },
        "outputId": "a00a899a-0890-44d6-b0c8-6a573667636d"
      },
      "source": [
        "# Evaluate model on entire validation dataset\n",
        "model3.evaluate(val_char_dataset)"
      ],
      "execution_count": 79,
      "outputs": [
        {
          "output_type": "stream",
          "name": "stdout",
          "text": [
            "945/945 [==============================] - 7s 7ms/step - loss: 0.7570 - accuracy: 0.7124\n"
          ]
        },
        {
          "output_type": "execute_result",
          "data": {
            "text/plain": [
              "[0.7570067644119263, 0.7123659253120422]"
            ]
          },
          "metadata": {},
          "execution_count": 79
        }
      ]
    },
    {
      "cell_type": "code",
      "metadata": {
        "id": "2CvDMAnJpNkZ",
        "colab": {
          "base_uri": "https://localhost:8080/"
        },
        "outputId": "263f2942-2132-4984-a3e7-9a3f6285c01a"
      },
      "source": [
        "# Make predictions\n",
        "model3_prediction_probablities = model3.predict(val_char_dataset)\n",
        "model3_prediction_probablities"
      ],
      "execution_count": 80,
      "outputs": [
        {
          "output_type": "stream",
          "name": "stdout",
          "text": [
            "945/945 [==============================] - 8s 8ms/step\n"
          ]
        },
        {
          "output_type": "execute_result",
          "data": {
            "text/plain": [
              "array([[0.10798915, 0.48009184, 0.04419916, 0.36099288, 0.0067269 ],\n",
              "       [0.1550004 , 0.69691867, 0.00157128, 0.14013642, 0.0063732 ],\n",
              "       [0.15826242, 0.13393715, 0.04089876, 0.66129375, 0.00560792],\n",
              "       ...,\n",
              "       [0.02789752, 0.02392408, 0.31705773, 0.04027919, 0.5908415 ],\n",
              "       [0.1151556 , 0.24840128, 0.32539794, 0.06809452, 0.24295059],\n",
              "       [0.17017594, 0.74661714, 0.05405805, 0.02342996, 0.00571888]],\n",
              "      dtype=float32)"
            ]
          },
          "metadata": {},
          "execution_count": 80
        }
      ]
    },
    {
      "cell_type": "code",
      "metadata": {
        "id": "5IfbmitrpWJA",
        "colab": {
          "base_uri": "https://localhost:8080/"
        },
        "outputId": "c0cd9376-1560-4fc1-e126-7848438da9be"
      },
      "source": [
        "# Convert predictions to classes\n",
        "model3_predictions = tf.argmax(model3_prediction_probablities, axis=1)\n",
        "model3_predictions"
      ],
      "execution_count": 81,
      "outputs": [
        {
          "output_type": "execute_result",
          "data": {
            "text/plain": [
              "<tf.Tensor: shape=(30212,), dtype=int64, numpy=array([1, 1, 3, ..., 4, 2, 1])>"
            ]
          },
          "metadata": {},
          "execution_count": 81
        }
      ]
    },
    {
      "cell_type": "markdown",
      "metadata": {
        "id": "YcCeIIFRsiUE"
      },
      "source": [
        "### Model_3 Results"
      ]
    },
    {
      "cell_type": "code",
      "metadata": {
        "id": "vBPJAulEpNjS",
        "colab": {
          "base_uri": "https://localhost:8080/"
        },
        "outputId": "f8297374-6c65-4386-f909-132c5655112f"
      },
      "source": [
        "model3_results= generate_performance_scores(val_labels_encoded, model3_predictions)\n"
      ],
      "execution_count": 82,
      "outputs": [
        {
          "output_type": "stream",
          "name": "stdout",
          "text": [
            "=============================================\n",
            "\n",
            "Performance Metrics:\n",
            "\n",
            "=============================================\n",
            "accuracy_score:\t\t0.71237\n",
            "\n",
            "_____________________________________________\n",
            "precision_score:\t0.70696\n",
            "\n",
            "_____________________________________________\n",
            "recall_score:\t\t0.71237\n",
            "\n",
            "_____________________________________________\n",
            "f1_score:\t\t0.70736\n",
            "\n",
            "=============================================\n"
          ]
        }
      ]
    },
    {
      "cell_type": "markdown",
      "source": [
        "### Comparison of Model Results on Validation set\n",
        "\n",
        "\n",
        "\n"
      ],
      "metadata": {
        "id": "1CooaqaBG02g"
      }
    },
    {
      "cell_type": "code",
      "metadata": {
        "id": "ymq0rtJ_VMUM",
        "colab": {
          "base_uri": "https://localhost:8080/",
          "height": 175
        },
        "outputId": "f0bbc9d5-54d9-49af-c4f7-c7d4fedff09a"
      },
      "source": [
        "# Combine validation model results into a DataFrame\n",
        "combined_validation_model_results = pd.DataFrame({\"Naïve Bayes with TF-IDF encoder baseline\": model_0_results,\n",
        "                                  \"Conv1D with token embedding\": model1_results,\n",
        "                                  \"pretrained feature extractor\": model2_feature_extractor_model_results,\n",
        "                                  \"Conv1D with character embedding\": model3_results})\n",
        "combined_validation_model_results = combined_validation_model_results.transpose()\n",
        "combined_validation_model_results"
      ],
      "execution_count": 83,
      "outputs": [
        {
          "output_type": "execute_result",
          "data": {
            "text/plain": [
              "                                          accuracy  precision   recall  \\\n",
              "Naïve Bayes with TF-IDF encoder baseline   0.72183    0.71865  0.72183   \n",
              "Conv1D with token embedding                0.82451    0.82223  0.82451   \n",
              "pretrained feature extractor               0.75215    0.74722  0.75215   \n",
              "Conv1D with character embedding            0.71237    0.70696  0.71237   \n",
              "\n",
              "                                               f1  \n",
              "Naïve Bayes with TF-IDF encoder baseline  0.69893  \n",
              "Conv1D with token embedding               0.82154  \n",
              "pretrained feature extractor              0.74743  \n",
              "Conv1D with character embedding           0.70736  "
            ],
            "text/html": [
              "\n",
              "  <div id=\"df-1a62f17c-e094-4f75-9080-becf36cf0c12\" class=\"colab-df-container\">\n",
              "    <div>\n",
              "<style scoped>\n",
              "    .dataframe tbody tr th:only-of-type {\n",
              "        vertical-align: middle;\n",
              "    }\n",
              "\n",
              "    .dataframe tbody tr th {\n",
              "        vertical-align: top;\n",
              "    }\n",
              "\n",
              "    .dataframe thead th {\n",
              "        text-align: right;\n",
              "    }\n",
              "</style>\n",
              "<table border=\"1\" class=\"dataframe\">\n",
              "  <thead>\n",
              "    <tr style=\"text-align: right;\">\n",
              "      <th></th>\n",
              "      <th>accuracy</th>\n",
              "      <th>precision</th>\n",
              "      <th>recall</th>\n",
              "      <th>f1</th>\n",
              "    </tr>\n",
              "  </thead>\n",
              "  <tbody>\n",
              "    <tr>\n",
              "      <th>Naïve Bayes with TF-IDF encoder baseline</th>\n",
              "      <td>0.72183</td>\n",
              "      <td>0.71865</td>\n",
              "      <td>0.72183</td>\n",
              "      <td>0.69893</td>\n",
              "    </tr>\n",
              "    <tr>\n",
              "      <th>Conv1D with token embedding</th>\n",
              "      <td>0.82451</td>\n",
              "      <td>0.82223</td>\n",
              "      <td>0.82451</td>\n",
              "      <td>0.82154</td>\n",
              "    </tr>\n",
              "    <tr>\n",
              "      <th>pretrained feature extractor</th>\n",
              "      <td>0.75215</td>\n",
              "      <td>0.74722</td>\n",
              "      <td>0.75215</td>\n",
              "      <td>0.74743</td>\n",
              "    </tr>\n",
              "    <tr>\n",
              "      <th>Conv1D with character embedding</th>\n",
              "      <td>0.71237</td>\n",
              "      <td>0.70696</td>\n",
              "      <td>0.71237</td>\n",
              "      <td>0.70736</td>\n",
              "    </tr>\n",
              "  </tbody>\n",
              "</table>\n",
              "</div>\n",
              "    <div class=\"colab-df-buttons\">\n",
              "\n",
              "  <div class=\"colab-df-container\">\n",
              "    <button class=\"colab-df-convert\" onclick=\"convertToInteractive('df-1a62f17c-e094-4f75-9080-becf36cf0c12')\"\n",
              "            title=\"Convert this dataframe to an interactive table.\"\n",
              "            style=\"display:none;\">\n",
              "\n",
              "  <svg xmlns=\"http://www.w3.org/2000/svg\" height=\"24px\" viewBox=\"0 -960 960 960\">\n",
              "    <path d=\"M120-120v-720h720v720H120Zm60-500h600v-160H180v160Zm220 220h160v-160H400v160Zm0 220h160v-160H400v160ZM180-400h160v-160H180v160Zm440 0h160v-160H620v160ZM180-180h160v-160H180v160Zm440 0h160v-160H620v160Z\"/>\n",
              "  </svg>\n",
              "    </button>\n",
              "\n",
              "  <style>\n",
              "    .colab-df-container {\n",
              "      display:flex;\n",
              "      gap: 12px;\n",
              "    }\n",
              "\n",
              "    .colab-df-convert {\n",
              "      background-color: #E8F0FE;\n",
              "      border: none;\n",
              "      border-radius: 50%;\n",
              "      cursor: pointer;\n",
              "      display: none;\n",
              "      fill: #1967D2;\n",
              "      height: 32px;\n",
              "      padding: 0 0 0 0;\n",
              "      width: 32px;\n",
              "    }\n",
              "\n",
              "    .colab-df-convert:hover {\n",
              "      background-color: #E2EBFA;\n",
              "      box-shadow: 0px 1px 2px rgba(60, 64, 67, 0.3), 0px 1px 3px 1px rgba(60, 64, 67, 0.15);\n",
              "      fill: #174EA6;\n",
              "    }\n",
              "\n",
              "    .colab-df-buttons div {\n",
              "      margin-bottom: 4px;\n",
              "    }\n",
              "\n",
              "    [theme=dark] .colab-df-convert {\n",
              "      background-color: #3B4455;\n",
              "      fill: #D2E3FC;\n",
              "    }\n",
              "\n",
              "    [theme=dark] .colab-df-convert:hover {\n",
              "      background-color: #434B5C;\n",
              "      box-shadow: 0px 1px 3px 1px rgba(0, 0, 0, 0.15);\n",
              "      filter: drop-shadow(0px 1px 2px rgba(0, 0, 0, 0.3));\n",
              "      fill: #FFFFFF;\n",
              "    }\n",
              "  </style>\n",
              "\n",
              "    <script>\n",
              "      const buttonEl =\n",
              "        document.querySelector('#df-1a62f17c-e094-4f75-9080-becf36cf0c12 button.colab-df-convert');\n",
              "      buttonEl.style.display =\n",
              "        google.colab.kernel.accessAllowed ? 'block' : 'none';\n",
              "\n",
              "      async function convertToInteractive(key) {\n",
              "        const element = document.querySelector('#df-1a62f17c-e094-4f75-9080-becf36cf0c12');\n",
              "        const dataTable =\n",
              "          await google.colab.kernel.invokeFunction('convertToInteractive',\n",
              "                                                    [key], {});\n",
              "        if (!dataTable) return;\n",
              "\n",
              "        const docLinkHtml = 'Like what you see? Visit the ' +\n",
              "          '<a target=\"_blank\" href=https://colab.research.google.com/notebooks/data_table.ipynb>data table notebook</a>'\n",
              "          + ' to learn more about interactive tables.';\n",
              "        element.innerHTML = '';\n",
              "        dataTable['output_type'] = 'display_data';\n",
              "        await google.colab.output.renderOutput(dataTable, element);\n",
              "        const docLink = document.createElement('div');\n",
              "        docLink.innerHTML = docLinkHtml;\n",
              "        element.appendChild(docLink);\n",
              "      }\n",
              "    </script>\n",
              "  </div>\n",
              "\n",
              "\n",
              "<div id=\"df-d9d7aff9-f17d-47b1-b8ad-e291e697297c\">\n",
              "  <button class=\"colab-df-quickchart\" onclick=\"quickchart('df-d9d7aff9-f17d-47b1-b8ad-e291e697297c')\"\n",
              "            title=\"Suggest charts\"\n",
              "            style=\"display:none;\">\n",
              "\n",
              "<svg xmlns=\"http://www.w3.org/2000/svg\" height=\"24px\"viewBox=\"0 0 24 24\"\n",
              "     width=\"24px\">\n",
              "    <g>\n",
              "        <path d=\"M19 3H5c-1.1 0-2 .9-2 2v14c0 1.1.9 2 2 2h14c1.1 0 2-.9 2-2V5c0-1.1-.9-2-2-2zM9 17H7v-7h2v7zm4 0h-2V7h2v10zm4 0h-2v-4h2v4z\"/>\n",
              "    </g>\n",
              "</svg>\n",
              "  </button>\n",
              "\n",
              "<style>\n",
              "  .colab-df-quickchart {\n",
              "      --bg-color: #E8F0FE;\n",
              "      --fill-color: #1967D2;\n",
              "      --hover-bg-color: #E2EBFA;\n",
              "      --hover-fill-color: #174EA6;\n",
              "      --disabled-fill-color: #AAA;\n",
              "      --disabled-bg-color: #DDD;\n",
              "  }\n",
              "\n",
              "  [theme=dark] .colab-df-quickchart {\n",
              "      --bg-color: #3B4455;\n",
              "      --fill-color: #D2E3FC;\n",
              "      --hover-bg-color: #434B5C;\n",
              "      --hover-fill-color: #FFFFFF;\n",
              "      --disabled-bg-color: #3B4455;\n",
              "      --disabled-fill-color: #666;\n",
              "  }\n",
              "\n",
              "  .colab-df-quickchart {\n",
              "    background-color: var(--bg-color);\n",
              "    border: none;\n",
              "    border-radius: 50%;\n",
              "    cursor: pointer;\n",
              "    display: none;\n",
              "    fill: var(--fill-color);\n",
              "    height: 32px;\n",
              "    padding: 0;\n",
              "    width: 32px;\n",
              "  }\n",
              "\n",
              "  .colab-df-quickchart:hover {\n",
              "    background-color: var(--hover-bg-color);\n",
              "    box-shadow: 0 1px 2px rgba(60, 64, 67, 0.3), 0 1px 3px 1px rgba(60, 64, 67, 0.15);\n",
              "    fill: var(--button-hover-fill-color);\n",
              "  }\n",
              "\n",
              "  .colab-df-quickchart-complete:disabled,\n",
              "  .colab-df-quickchart-complete:disabled:hover {\n",
              "    background-color: var(--disabled-bg-color);\n",
              "    fill: var(--disabled-fill-color);\n",
              "    box-shadow: none;\n",
              "  }\n",
              "\n",
              "  .colab-df-spinner {\n",
              "    border: 2px solid var(--fill-color);\n",
              "    border-color: transparent;\n",
              "    border-bottom-color: var(--fill-color);\n",
              "    animation:\n",
              "      spin 1s steps(1) infinite;\n",
              "  }\n",
              "\n",
              "  @keyframes spin {\n",
              "    0% {\n",
              "      border-color: transparent;\n",
              "      border-bottom-color: var(--fill-color);\n",
              "      border-left-color: var(--fill-color);\n",
              "    }\n",
              "    20% {\n",
              "      border-color: transparent;\n",
              "      border-left-color: var(--fill-color);\n",
              "      border-top-color: var(--fill-color);\n",
              "    }\n",
              "    30% {\n",
              "      border-color: transparent;\n",
              "      border-left-color: var(--fill-color);\n",
              "      border-top-color: var(--fill-color);\n",
              "      border-right-color: var(--fill-color);\n",
              "    }\n",
              "    40% {\n",
              "      border-color: transparent;\n",
              "      border-right-color: var(--fill-color);\n",
              "      border-top-color: var(--fill-color);\n",
              "    }\n",
              "    60% {\n",
              "      border-color: transparent;\n",
              "      border-right-color: var(--fill-color);\n",
              "    }\n",
              "    80% {\n",
              "      border-color: transparent;\n",
              "      border-right-color: var(--fill-color);\n",
              "      border-bottom-color: var(--fill-color);\n",
              "    }\n",
              "    90% {\n",
              "      border-color: transparent;\n",
              "      border-bottom-color: var(--fill-color);\n",
              "    }\n",
              "  }\n",
              "</style>\n",
              "\n",
              "  <script>\n",
              "    async function quickchart(key) {\n",
              "      const quickchartButtonEl =\n",
              "        document.querySelector('#' + key + ' button');\n",
              "      quickchartButtonEl.disabled = true;  // To prevent multiple clicks.\n",
              "      quickchartButtonEl.classList.add('colab-df-spinner');\n",
              "      try {\n",
              "        const charts = await google.colab.kernel.invokeFunction(\n",
              "            'suggestCharts', [key], {});\n",
              "      } catch (error) {\n",
              "        console.error('Error during call to suggestCharts:', error);\n",
              "      }\n",
              "      quickchartButtonEl.classList.remove('colab-df-spinner');\n",
              "      quickchartButtonEl.classList.add('colab-df-quickchart-complete');\n",
              "    }\n",
              "    (() => {\n",
              "      let quickchartButtonEl =\n",
              "        document.querySelector('#df-d9d7aff9-f17d-47b1-b8ad-e291e697297c button');\n",
              "      quickchartButtonEl.style.display =\n",
              "        google.colab.kernel.accessAllowed ? 'block' : 'none';\n",
              "    })();\n",
              "  </script>\n",
              "</div>\n",
              "    </div>\n",
              "  </div>\n"
            ]
          },
          "metadata": {},
          "execution_count": 83
        }
      ]
    },
    {
      "cell_type": "code",
      "metadata": {
        "id": "MQ1L_wCtVbd8",
        "colab": {
          "base_uri": "https://localhost:8080/",
          "height": 954
        },
        "outputId": "bd317330-0ce7-4b8b-a088-4c99fd4063e0"
      },
      "source": [
        "# Plot the combined model results as a bar chart\n",
        "ax = combined_validation_model_results.plot(kind=\"bar\", figsize=(10, 8))\n",
        "\n",
        "# Add a legend to the upper right corner\n",
        "ax.legend(loc=\"upper right\")\n",
        "\n",
        "# Show the plot\n",
        "plt.show()"
      ],
      "execution_count": 84,
      "outputs": [
        {
          "output_type": "display_data",
          "data": {
            "text/plain": [
              "<Figure size 1000x800 with 1 Axes>"
            ],
            "image/png": "[encoded data removed]"
          },
          "metadata": {}
        }
      ]
    },
    {
      "cell_type": "code",
      "metadata": {
        "id": "KDL8UCgCWSAx",
        "colab": {
          "base_uri": "https://localhost:8080/",
          "height": 877
        },
        "outputId": "222334d9-6bf0-4ed7-faa4-71064f040756"
      },
      "source": [
        "# Sort model results by f1-score\n",
        "combined_validation_model_results.sort_values(\"f1\", ascending=False)[\"f1\"].plot(kind=\"bar\", figsize=(10, 7));"
      ],
      "execution_count": 85,
      "outputs": [
        {
          "output_type": "display_data",
          "data": {
            "text/plain": [
              "<Figure size 1000x700 with 1 Axes>"
            ],
            "image/png": "[encoded data removed]"
          },
          "metadata": {}
        }
      ]
    },
    {
      "cell_type": "markdown",
      "source": [
        "### Comparison of Model Results on Test set\n"
      ],
      "metadata": {
        "id": "sjX8oG1vHq3U"
      }
    },
    {
      "cell_type": "code",
      "source": [
        "model_1_pred_probs = model1.predict(test_dataset)\n",
        "model_1_preds = tf.argmax(model_1_pred_probs, axis=1)\n",
        "\n",
        "model_2_pred_probs = model2_feature_extractor_model.predict(test_dataset)\n",
        "model_2_preds = tf.argmax(model_2_pred_probs, axis=1)\n",
        "\n",
        "model_3_pred_probs = model3.predict(test_char_dataset)\n",
        "model_3_preds = tf.argmax(model_3_pred_probs, axis=1)"
      ],
      "metadata": {
        "colab": {
          "base_uri": "https://localhost:8080/"
        },
        "id": "R7W7FFNdp-k1",
        "outputId": "0e719836-cde6-41af-a31d-0d4d9c3f4c11"
      },
      "execution_count": 86,
      "outputs": [
        {
          "output_type": "stream",
          "name": "stdout",
          "text": [
            "942/942 [==============================] - 7s 8ms/step\n",
            "942/942 [==============================] - 13s 13ms/step\n",
            "942/942 [==============================] - 9s 9ms/step\n"
          ]
        }
      ]
    },
    {
      "cell_type": "code",
      "source": [
        "# Generate performance scores on Model0,Model1,Model2,Model3 results for test set\n",
        "model0_test_results= generate_performance_scores(test_labels_encoded, test_predictions)\n",
        "model1_test_results= generate_performance_scores(test_labels_encoded, model_1_preds)\n",
        "model2_test_results= generate_performance_scores(test_labels_encoded, model_2_preds)\n",
        "model3_test_results= generate_performance_scores(test_labels_encoded, model_3_preds)"
      ],
      "metadata": {
        "colab": {
          "base_uri": "https://localhost:8080/"
        },
        "id": "kIw4HAga1j7o",
        "outputId": "b9f2c23d-e9d2-4d80-9dae-ccd35b2655e5"
      },
      "execution_count": 87,
      "outputs": [
        {
          "output_type": "stream",
          "name": "stdout",
          "text": [
            "=============================================\n",
            "\n",
            "Performance Metrics:\n",
            "\n",
            "=============================================\n",
            "accuracy_score:\t\t0.71667\n",
            "\n",
            "_____________________________________________\n",
            "precision_score:\t0.71243\n",
            "\n",
            "_____________________________________________\n",
            "recall_score:\t\t0.71667\n",
            "\n",
            "_____________________________________________\n",
            "f1_score:\t\t0.69251\n",
            "\n",
            "=============================================\n",
            "=============================================\n",
            "\n",
            "Performance Metrics:\n",
            "\n",
            "=============================================\n",
            "accuracy_score:\t\t0.81832\n",
            "\n",
            "_____________________________________________\n",
            "precision_score:\t0.81525\n",
            "\n",
            "_____________________________________________\n",
            "recall_score:\t\t0.81832\n",
            "\n",
            "_____________________________________________\n",
            "f1_score:\t\t0.8149\n",
            "\n",
            "=============================================\n",
            "=============================================\n",
            "\n",
            "Performance Metrics:\n",
            "\n",
            "=============================================\n",
            "accuracy_score:\t\t0.74389\n",
            "\n",
            "_____________________________________________\n",
            "precision_score:\t0.73834\n",
            "\n",
            "_____________________________________________\n",
            "recall_score:\t\t0.74389\n",
            "\n",
            "_____________________________________________\n",
            "f1_score:\t\t0.73895\n",
            "\n",
            "=============================================\n",
            "=============================================\n",
            "\n",
            "Performance Metrics:\n",
            "\n",
            "=============================================\n",
            "accuracy_score:\t\t0.71113\n",
            "\n",
            "_____________________________________________\n",
            "precision_score:\t0.70615\n",
            "\n",
            "_____________________________________________\n",
            "recall_score:\t\t0.71113\n",
            "\n",
            "_____________________________________________\n",
            "f1_score:\t\t0.70598\n",
            "\n",
            "=============================================\n"
          ]
        }
      ]
    },
    {
      "cell_type": "code",
      "source": [
        "# Combine test model results into a DataFrame\n",
        "combined_test_model_results = pd.DataFrame({\"Naïve Bayes with TF-IDF encoder baseline\": model0_test_results,\n",
        "                                  \"Conv1D with token embedding\": model1_test_results,\n",
        "                                  \"pretrained feature extractor\": model2_test_results,\n",
        "                                  \"Conv1D with character embedding\": model3_test_results})\n",
        "combined_test_model_results = combined_test_model_results.transpose()\n",
        "combined_test_model_results"
      ],
      "metadata": {
        "colab": {
          "base_uri": "https://localhost:8080/",
          "height": 175
        },
        "id": "4duSdOUc4AsX",
        "outputId": "5be0a599-50e9-4554-80c3-038c42f95aa9"
      },
      "execution_count": 88,
      "outputs": [
        {
          "output_type": "execute_result",
          "data": {
            "text/plain": [
              "                                          accuracy  precision   recall  \\\n",
              "Naïve Bayes with TF-IDF encoder baseline   0.71667    0.71243  0.71667   \n",
              "Conv1D with token embedding                0.81832    0.81525  0.81832   \n",
              "pretrained feature extractor               0.74389    0.73834  0.74389   \n",
              "Conv1D with character embedding            0.71113    0.70615  0.71113   \n",
              "\n",
              "                                               f1  \n",
              "Naïve Bayes with TF-IDF encoder baseline  0.69251  \n",
              "Conv1D with token embedding               0.81490  \n",
              "pretrained feature extractor              0.73895  \n",
              "Conv1D with character embedding           0.70598  "
            ],
            "text/html": [
              "\n",
              "  <div id=\"df-f92b9f8c-a03e-404d-a5b0-59f9dab4132b\" class=\"colab-df-container\">\n",
              "    <div>\n",
              "<style scoped>\n",
              "    .dataframe tbody tr th:only-of-type {\n",
              "        vertical-align: middle;\n",
              "    }\n",
              "\n",
              "    .dataframe tbody tr th {\n",
              "        vertical-align: top;\n",
              "    }\n",
              "\n",
              "    .dataframe thead th {\n",
              "        text-align: right;\n",
              "    }\n",
              "</style>\n",
              "<table border=\"1\" class=\"dataframe\">\n",
              "  <thead>\n",
              "    <tr style=\"text-align: right;\">\n",
              "      <th></th>\n",
              "      <th>accuracy</th>\n",
              "      <th>precision</th>\n",
              "      <th>recall</th>\n",
              "      <th>f1</th>\n",
              "    </tr>\n",
              "  </thead>\n",
              "  <tbody>\n",
              "    <tr>\n",
              "      <th>Naïve Bayes with TF-IDF encoder baseline</th>\n",
              "      <td>0.71667</td>\n",
              "      <td>0.71243</td>\n",
              "      <td>0.71667</td>\n",
              "      <td>0.69251</td>\n",
              "    </tr>\n",
              "    <tr>\n",
              "      <th>Conv1D with token embedding</th>\n",
              "      <td>0.81832</td>\n",
              "      <td>0.81525</td>\n",
              "      <td>0.81832</td>\n",
              "      <td>0.81490</td>\n",
              "    </tr>\n",
              "    <tr>\n",
              "      <th>pretrained feature extractor</th>\n",
              "      <td>0.74389</td>\n",
              "      <td>0.73834</td>\n",
              "      <td>0.74389</td>\n",
              "      <td>0.73895</td>\n",
              "    </tr>\n",
              "    <tr>\n",
              "      <th>Conv1D with character embedding</th>\n",
              "      <td>0.71113</td>\n",
              "      <td>0.70615</td>\n",
              "      <td>0.71113</td>\n",
              "      <td>0.70598</td>\n",
              "    </tr>\n",
              "  </tbody>\n",
              "</table>\n",
              "</div>\n",
              "    <div class=\"colab-df-buttons\">\n",
              "\n",
              "  <div class=\"colab-df-container\">\n",
              "    <button class=\"colab-df-convert\" onclick=\"convertToInteractive('df-f92b9f8c-a03e-404d-a5b0-59f9dab4132b')\"\n",
              "            title=\"Convert this dataframe to an interactive table.\"\n",
              "            style=\"display:none;\">\n",
              "\n",
              "  <svg xmlns=\"http://www.w3.org/2000/svg\" height=\"24px\" viewBox=\"0 -960 960 960\">\n",
              "    <path d=\"M120-120v-720h720v720H120Zm60-500h600v-160H180v160Zm220 220h160v-160H400v160Zm0 220h160v-160H400v160ZM180-400h160v-160H180v160Zm440 0h160v-160H620v160ZM180-180h160v-160H180v160Zm440 0h160v-160H620v160Z\"/>\n",
              "  </svg>\n",
              "    </button>\n",
              "\n",
              "  <style>\n",
              "    .colab-df-container {\n",
              "      display:flex;\n",
              "      gap: 12px;\n",
              "    }\n",
              "\n",
              "    .colab-df-convert {\n",
              "      background-color: #E8F0FE;\n",
              "      border: none;\n",
              "      border-radius: 50%;\n",
              "      cursor: pointer;\n",
              "      display: none;\n",
              "      fill: #1967D2;\n",
              "      height: 32px;\n",
              "      padding: 0 0 0 0;\n",
              "      width: 32px;\n",
              "    }\n",
              "\n",
              "    .colab-df-convert:hover {\n",
              "      background-color: #E2EBFA;\n",
              "      box-shadow: 0px 1px 2px rgba(60, 64, 67, 0.3), 0px 1px 3px 1px rgba(60, 64, 67, 0.15);\n",
              "      fill: #174EA6;\n",
              "    }\n",
              "\n",
              "    .colab-df-buttons div {\n",
              "      margin-bottom: 4px;\n",
              "    }\n",
              "\n",
              "    [theme=dark] .colab-df-convert {\n",
              "      background-color: #3B4455;\n",
              "      fill: #D2E3FC;\n",
              "    }\n",
              "\n",
              "    [theme=dark] .colab-df-convert:hover {\n",
              "      background-color: #434B5C;\n",
              "      box-shadow: 0px 1px 3px 1px rgba(0, 0, 0, 0.15);\n",
              "      filter: drop-shadow(0px 1px 2px rgba(0, 0, 0, 0.3));\n",
              "      fill: #FFFFFF;\n",
              "    }\n",
              "  </style>\n",
              "\n",
              "    <script>\n",
              "      const buttonEl =\n",
              "        document.querySelector('#df-f92b9f8c-a03e-404d-a5b0-59f9dab4132b button.colab-df-convert');\n",
              "      buttonEl.style.display =\n",
              "        google.colab.kernel.accessAllowed ? 'block' : 'none';\n",
              "\n",
              "      async function convertToInteractive(key) {\n",
              "        const element = document.querySelector('#df-f92b9f8c-a03e-404d-a5b0-59f9dab4132b');\n",
              "        const dataTable =\n",
              "          await google.colab.kernel.invokeFunction('convertToInteractive',\n",
              "                                                    [key], {});\n",
              "        if (!dataTable) return;\n",
              "\n",
              "        const docLinkHtml = 'Like what you see? Visit the ' +\n",
              "          '<a target=\"_blank\" href=https://colab.research.google.com/notebooks/data_table.ipynb>data table notebook</a>'\n",
              "          + ' to learn more about interactive tables.';\n",
              "        element.innerHTML = '';\n",
              "        dataTable['output_type'] = 'display_data';\n",
              "        await google.colab.output.renderOutput(dataTable, element);\n",
              "        const docLink = document.createElement('div');\n",
              "        docLink.innerHTML = docLinkHtml;\n",
              "        element.appendChild(docLink);\n",
              "      }\n",
              "    </script>\n",
              "  </div>\n",
              "\n",
              "\n",
              "<div id=\"df-675e1ecc-36f0-4054-b444-7a7c57487b07\">\n",
              "  <button class=\"colab-df-quickchart\" onclick=\"quickchart('df-675e1ecc-36f0-4054-b444-7a7c57487b07')\"\n",
              "            title=\"Suggest charts\"\n",
              "            style=\"display:none;\">\n",
              "\n",
              "<svg xmlns=\"http://www.w3.org/2000/svg\" height=\"24px\"viewBox=\"0 0 24 24\"\n",
              "     width=\"24px\">\n",
              "    <g>\n",
              "        <path d=\"M19 3H5c-1.1 0-2 .9-2 2v14c0 1.1.9 2 2 2h14c1.1 0 2-.9 2-2V5c0-1.1-.9-2-2-2zM9 17H7v-7h2v7zm4 0h-2V7h2v10zm4 0h-2v-4h2v4z\"/>\n",
              "    </g>\n",
              "</svg>\n",
              "  </button>\n",
              "\n",
              "<style>\n",
              "  .colab-df-quickchart {\n",
              "      --bg-color: #E8F0FE;\n",
              "      --fill-color: #1967D2;\n",
              "      --hover-bg-color: #E2EBFA;\n",
              "      --hover-fill-color: #174EA6;\n",
              "      --disabled-fill-color: #AAA;\n",
              "      --disabled-bg-color: #DDD;\n",
              "  }\n",
              "\n",
              "  [theme=dark] .colab-df-quickchart {\n",
              "      --bg-color: #3B4455;\n",
              "      --fill-color: #D2E3FC;\n",
              "      --hover-bg-color: #434B5C;\n",
              "      --hover-fill-color: #FFFFFF;\n",
              "      --disabled-bg-color: #3B4455;\n",
              "      --disabled-fill-color: #666;\n",
              "  }\n",
              "\n",
              "  .colab-df-quickchart {\n",
              "    background-color: var(--bg-color);\n",
              "    border: none;\n",
              "    border-radius: 50%;\n",
              "    cursor: pointer;\n",
              "    display: none;\n",
              "    fill: var(--fill-color);\n",
              "    height: 32px;\n",
              "    padding: 0;\n",
              "    width: 32px;\n",
              "  }\n",
              "\n",
              "  .colab-df-quickchart:hover {\n",
              "    background-color: var(--hover-bg-color);\n",
              "    box-shadow: 0 1px 2px rgba(60, 64, 67, 0.3), 0 1px 3px 1px rgba(60, 64, 67, 0.15);\n",
              "    fill: var(--button-hover-fill-color);\n",
              "  }\n",
              "\n",
              "  .colab-df-quickchart-complete:disabled,\n",
              "  .colab-df-quickchart-complete:disabled:hover {\n",
              "    background-color: var(--disabled-bg-color);\n",
              "    fill: var(--disabled-fill-color);\n",
              "    box-shadow: none;\n",
              "  }\n",
              "\n",
              "  .colab-df-spinner {\n",
              "    border: 2px solid var(--fill-color);\n",
              "    border-color: transparent;\n",
              "    border-bottom-color: var(--fill-color);\n",
              "    animation:\n",
              "      spin 1s steps(1) infinite;\n",
              "  }\n",
              "\n",
              "  @keyframes spin {\n",
              "    0% {\n",
              "      border-color: transparent;\n",
              "      border-bottom-color: var(--fill-color);\n",
              "      border-left-color: var(--fill-color);\n",
              "    }\n",
              "    20% {\n",
              "      border-color: transparent;\n",
              "      border-left-color: var(--fill-color);\n",
              "      border-top-color: var(--fill-color);\n",
              "    }\n",
              "    30% {\n",
              "      border-color: transparent;\n",
              "      border-left-color: var(--fill-color);\n",
              "      border-top-color: var(--fill-color);\n",
              "      border-right-color: var(--fill-color);\n",
              "    }\n",
              "    40% {\n",
              "      border-color: transparent;\n",
              "      border-right-color: var(--fill-color);\n",
              "      border-top-color: var(--fill-color);\n",
              "    }\n",
              "    60% {\n",
              "      border-color: transparent;\n",
              "      border-right-color: var(--fill-color);\n",
              "    }\n",
              "    80% {\n",
              "      border-color: transparent;\n",
              "      border-right-color: var(--fill-color);\n",
              "      border-bottom-color: var(--fill-color);\n",
              "    }\n",
              "    90% {\n",
              "      border-color: transparent;\n",
              "      border-bottom-color: var(--fill-color);\n",
              "    }\n",
              "  }\n",
              "</style>\n",
              "\n",
              "  <script>\n",
              "    async function quickchart(key) {\n",
              "      const quickchartButtonEl =\n",
              "        document.querySelector('#' + key + ' button');\n",
              "      quickchartButtonEl.disabled = true;  // To prevent multiple clicks.\n",
              "      quickchartButtonEl.classList.add('colab-df-spinner');\n",
              "      try {\n",
              "        const charts = await google.colab.kernel.invokeFunction(\n",
              "            'suggestCharts', [key], {});\n",
              "      } catch (error) {\n",
              "        console.error('Error during call to suggestCharts:', error);\n",
              "      }\n",
              "      quickchartButtonEl.classList.remove('colab-df-spinner');\n",
              "      quickchartButtonEl.classList.add('colab-df-quickchart-complete');\n",
              "    }\n",
              "    (() => {\n",
              "      let quickchartButtonEl =\n",
              "        document.querySelector('#df-675e1ecc-36f0-4054-b444-7a7c57487b07 button');\n",
              "      quickchartButtonEl.style.display =\n",
              "        google.colab.kernel.accessAllowed ? 'block' : 'none';\n",
              "    })();\n",
              "  </script>\n",
              "</div>\n",
              "    </div>\n",
              "  </div>\n"
            ]
          },
          "metadata": {},
          "execution_count": 88
        }
      ]
    },
    {
      "cell_type": "code",
      "source": [
        "# Plot the combined model results as a bar chart\n",
        "ax = combined_test_model_results.plot(kind=\"bar\", figsize=(10, 7))\n",
        "\n",
        "# Add a legend to the upper right corner\n",
        "ax.legend(loc=\"upper right\")\n",
        "\n",
        "# Show the plot\n",
        "plt.show()"
      ],
      "metadata": {
        "colab": {
          "base_uri": "https://localhost:8080/",
          "height": 877
        },
        "id": "pTNUvvve4mjH",
        "outputId": "976e390c-bb6a-4fc7-9b7d-215bb9062707"
      },
      "execution_count": 89,
      "outputs": [
        {
          "output_type": "display_data",
          "data": {
            "text/plain": [
              "<Figure size 1000x700 with 1 Axes>"
            ],
            "image/png": "[encoded data removed]"
          },
          "metadata": {}
        }
      ]
    },
    {
      "cell_type": "code",
      "source": [
        "# Sort model results by f1-score\n",
        "combined_test_model_results.sort_values(\"f1\", ascending=False)[\"f1\"].plot(kind=\"bar\", figsize=(10, 7));"
      ],
      "metadata": {
        "colab": {
          "base_uri": "https://localhost:8080/",
          "height": 877
        },
        "id": "eHb4arfi4m6G",
        "outputId": "904acab4-cc0e-46ee-d2d8-f925976993a1"
      },
      "execution_count": 90,
      "outputs": [
        {
          "output_type": "display_data",
          "data": {
            "text/plain": [
              "<Figure size 1000x700 with 1 Axes>"
            ],
            "image/png": "[encoded data removed]"
          },
          "metadata": {}
        }
      ]
    },
    {
      "cell_type": "code",
      "source": [
        "print(\"Classification metrics for Model 1\")\n",
        "print(classification_report(test_labels_encoded, model_1_preds, target_names=class_names))"
      ],
      "metadata": {
        "colab": {
          "base_uri": "https://localhost:8080/"
        },
        "id": "q8EpSbV7Xn0Y",
        "outputId": "9a8e6621-baff-4eee-8096-a1f61979af3c"
      },
      "execution_count": 92,
      "outputs": [
        {
          "output_type": "stream",
          "name": "stdout",
          "text": [
            "Classification metrics for Model 1\n",
            "              precision    recall  f1-score   support\n",
            "\n",
            "  BACKGROUND       0.66      0.66      0.66      3621\n",
            " CONCLUSIONS       0.74      0.76      0.75      4571\n",
            "     METHODS       0.87      0.92      0.90      9897\n",
            "   OBJECTIVE       0.73      0.50      0.59      2333\n",
            "     RESULTS       0.87      0.88      0.88      9713\n",
            "\n",
            "    accuracy                           0.82     30135\n",
            "   macro avg       0.77      0.74      0.75     30135\n",
            "weighted avg       0.82      0.82      0.81     30135\n",
            "\n"
          ]
        }
      ]
    },
    {
      "cell_type": "code",
      "source": [
        "def plot_custom_confusion_matrix(y_true, y_pred, classes='auto', figsize=(12, 12), text_size=12):\n",
        "    # Generate confusion matrix\n",
        "    cm = confusion_matrix(y_true, y_pred)\n",
        "\n",
        "    # Set plot size\n",
        "    plt.figure(figsize=figsize)\n",
        "\n",
        "    # Create custom confusion matrix heatmap\n",
        "    disp = sns.heatmap(\n",
        "        cm, annot=True, cmap='Blues',  # Change colormap to Blues\n",
        "        annot_kws={\"size\": text_size},\n",
        "        fmt=',',  # Use commas as thousand separators\n",
        "        linewidths=2, linecolor='gray',  # Change line color to gray\n",
        "        cbar=False,  # Remove color bar\n",
        "        xticklabels=classes, yticklabels=classes)\n",
        "\n",
        "    # Set title and axis labels\n",
        "    disp.set_title('Custom Confusion Matrix', fontsize=24)\n",
        "    disp.set_xlabel('Predicted Label', fontsize=22)  # Increase x-axis label font size\n",
        "    disp.set_ylabel('True Label', fontsize=22)  # Increase y-axis label font size\n",
        "\n",
        "    # Plot custom confusion matrix\n",
        "    plt.show()\n",
        "\n",
        "    return"
      ],
      "metadata": {
        "id": "ST9n6gwZOs3A"
      },
      "execution_count": 93,
      "outputs": []
    },
    {
      "cell_type": "code",
      "source": [
        "#Print confusion matrix\n",
        "plot_custom_confusion_matrix(\n",
        "    test_labels_encoded,\n",
        "    model_1_preds,\n",
        "    figsize=(10, 10),\n",
        "    classes=list(class_names))"
      ],
      "metadata": {
        "colab": {
          "base_uri": "https://localhost:8080/",
          "height": 899
        },
        "id": "uTaZi6D0U8RK",
        "outputId": "b28fafc7-7e18-4a9e-bfdf-ce497a14e2a5"
      },
      "execution_count": 94,
      "outputs": [
        {
          "output_type": "display_data",
          "data": {
            "text/plain": [
              "<Figure size 1000x1000 with 1 Axes>"
            ],
            "image/png": "[encoded data removed]"
          },
          "metadata": {}
        }
      ]
    },
    {
      "cell_type": "markdown",
      "metadata": {
        "id": "Yj1DhGDhZAJo"
      },
      "source": [
        "### Evaluating model on test dataset\n",
        "\n",
        "As Model 1: Conv1D with token embedding is best performing model having highest accuracy as well as f1 score among all the models on validation as well as test set, model 1 is taken for making the prediction and comparing with the truth labels."
      ]
    },
    {
      "cell_type": "code",
      "source": [
        "test_pred_classes = [label_encoder.classes_[pred] for pred in model_1_preds]"
      ],
      "metadata": {
        "id": "bXjztTgvvgxj"
      },
      "execution_count": 95,
      "outputs": []
    },
    {
      "cell_type": "markdown",
      "source": [
        "# Adding below columns in test dataframe for comparing with truth label\n",
        "prediction column- contains model's prediction for a given sample.\n",
        "\n",
        "pred_prob  column- contains the model's maximum prediction probabiliy for a given sample.\n",
        "\n",
        "correct    column- indicates whether or not the model's prediction matches the sample's target label."
      ],
      "metadata": {
        "id": "7BaGPJKNOCtJ"
      }
    },
    {
      "cell_type": "code",
      "source": [
        "test_df[\"prediction\"] = test_pred_classes\n",
        "test_df[\"pred_prob\"] = tf.reduce_max(model_1_pred_probs, axis=1).numpy()\n",
        "test_df[\"correct\"] = test_df[\"prediction\"] == test_df[\"target\"]"
      ],
      "metadata": {
        "id": "Dqvcm26fvV2n"
      },
      "execution_count": 96,
      "outputs": []
    },
    {
      "cell_type": "code",
      "source": [
        "test_df.head(50)"
      ],
      "metadata": {
        "colab": {
          "base_uri": "https://localhost:8080/",
          "height": 1000
        },
        "id": "izh1osTGMUF8",
        "outputId": "d838f23d-e35d-4be0-d2d2-13703425268c"
      },
      "execution_count": 97,
      "outputs": [
        {
          "output_type": "execute_result",
          "data": {
            "text/plain": [
              "                                        abstract_text  line_number  \\\n",
              "0   This study analyzed liver function abnormaliti...            0   \n",
              "1   A post hoc analysis was conducted with the use...            1   \n",
              "2   Liver function tests ( LFTs ) were measured at...            2   \n",
              "3   Survival analyses were used to assess the asso...            3   \n",
              "4   The percentage of patients with abnormal LFTs ...            4   \n",
              "5   When mean hemodynamic profiles were compared i...            5   \n",
              "6   Multivariable analyses revealed that patients ...            6   \n",
              "7   Abnormal LFTs are common in the ADHF populatio...            7   \n",
              "8   Elevated MELD-XI scores are associated with po...            8   \n",
              "9   Minimally invasive endovascular aneurysm repai...            0   \n",
              "10  The aim of this study was to analyse the cost-...            1   \n",
              "11  Resource use was determined from the Amsterdam...            2   \n",
              "12  The analysis was performed from a provider per...            3   \n",
              "13  All costs were calculated as if all patients h...            4   \n",
              "14            A total of @ patients were randomized .            5   \n",
              "15  The @-day mortality rate was @ per cent after ...            6   \n",
              "16  At @months , the total mortality rate for EVAR...            7   \n",
              "17  The mean cost difference between EVAR and OR w...            8   \n",
              "18  The incremental cost-effectiveness ratio per p...            9   \n",
              "19  There was no significant difference in quality...           10   \n",
              "20     Nor was EVAR superior regarding cost-utility .           11   \n",
              "21  EVAR may be more effective for rAAA , but its ...           12   \n",
              "22  Evidence suggests that individuals with social...            0   \n",
              "23  This study investigated whether oxytocin can a...            1   \n",
              "24  In a double-blind , randomized , placebo-contr...            2   \n",
              "25  Attentional bias was assessed using the dot-pr...            3   \n",
              "26  In the baseline placebo condition , the HSA gr...            4   \n",
              "27  Oxytocin reduced the difference between HSA an...            5   \n",
              "28  Moreover , it appeared to normalize attentiona...            6   \n",
              "29  The biological mechanisms by which oxytocin ma...            7   \n",
              "30  These results , coupled with previous research...            8   \n",
              "31  Exposure to diesel exhaust causes inflammatory...            0   \n",
              "32  Previous controlled exposure studies at a conc...            1   \n",
              "33  We prolonged the exposure period and investiga...            2   \n",
              "34  Eighteen healthy volunteers were exposed twice...            3   \n",
              "35  Immediately before and after exposure , we per...            4   \n",
              "36  Nasal lavage and blood samples were collected ...            5   \n",
              "37  Symptom scores and peak expiratory flow ( PEF ...            6   \n",
              "38  Self-rated throat irritation was higher during...            7   \n",
              "39  Clinical signs of irritation in the upper airw...            8   \n",
              "40  PEF increased during filtered air , but decrea...            9   \n",
              "41  Monocyte and total leukocyte counts in periphe...           10   \n",
              "42  Diesel exhaust induced acute adverse effects s...           11   \n",
              "43  The effects were first seen at @ min of exposu...           12   \n",
              "44  Depressive disorders are one of the leading co...            0   \n",
              "45  Numerous studies have demonstrated that pharma...            1   \n",
              "46  Psycho-education as an intervention has been s...            2   \n",
              "47  The present study aimed to assess the impact o...            3   \n",
              "48  A total of @ eligible depressed subjects were ...            4   \n",
              "49  The study group involved an eligible family me...            5   \n",
              "\n",
              "    total_lines       target   prediction  pred_prob  correct  \n",
              "0             9   BACKGROUND      METHODS   0.523332    False  \n",
              "1             9      RESULTS      METHODS   0.932483    False  \n",
              "2             9      RESULTS      METHODS   0.969578    False  \n",
              "3             9      RESULTS      METHODS   0.569774    False  \n",
              "4             9      RESULTS      RESULTS   0.963710     True  \n",
              "5             9      RESULTS      RESULTS   0.998498     True  \n",
              "6             9      RESULTS      RESULTS   0.997658     True  \n",
              "7             9  CONCLUSIONS   BACKGROUND   0.526140    False  \n",
              "8             9  CONCLUSIONS  CONCLUSIONS   0.521422     True  \n",
              "9            13   BACKGROUND  CONCLUSIONS   0.669843    False  \n",
              "10           13   BACKGROUND    OBJECTIVE   0.600427    False  \n",
              "11           13      METHODS      METHODS   0.962616     True  \n",
              "12           13      METHODS      METHODS   0.982491     True  \n",
              "13           13      METHODS      METHODS   0.991245     True  \n",
              "14           13      RESULTS      RESULTS   0.962145     True  \n",
              "15           13      RESULTS      RESULTS   0.998601     True  \n",
              "16           13      RESULTS      RESULTS   0.954359     True  \n",
              "17           13      RESULTS      RESULTS   0.995421     True  \n",
              "18           13      RESULTS      RESULTS   0.921506     True  \n",
              "19           13      RESULTS      RESULTS   0.943474     True  \n",
              "20           13      RESULTS  CONCLUSIONS   0.742229    False  \n",
              "21           13  CONCLUSIONS  CONCLUSIONS   0.508197     True  \n",
              "22            9   BACKGROUND   BACKGROUND   0.636655     True  \n",
              "23            9      METHODS    OBJECTIVE   0.535764    False  \n",
              "24            9      METHODS      METHODS   0.910309     True  \n",
              "25            9      METHODS      METHODS   0.983646     True  \n",
              "26            9      RESULTS      RESULTS   0.994108     True  \n",
              "27            9      RESULTS      RESULTS   0.658151     True  \n",
              "28            9      RESULTS      RESULTS   0.778379     True  \n",
              "29            9      RESULTS  CONCLUSIONS   0.931135    False  \n",
              "30            9  CONCLUSIONS  CONCLUSIONS   0.828747     True  \n",
              "31           13   BACKGROUND  CONCLUSIONS   0.285789    False  \n",
              "32           13   BACKGROUND   BACKGROUND   0.339159     True  \n",
              "33           13   BACKGROUND  CONCLUSIONS   0.432314    False  \n",
              "34           13      METHODS      METHODS   0.965012     True  \n",
              "35           13      METHODS      METHODS   0.983966     True  \n",
              "36           13      METHODS      METHODS   0.993510     True  \n",
              "37           13      METHODS      METHODS   0.992939     True  \n",
              "38           13      RESULTS      RESULTS   0.836638     True  \n",
              "39           13      RESULTS      RESULTS   0.999558     True  \n",
              "40           13      RESULTS      RESULTS   0.999279     True  \n",
              "41           13      RESULTS      RESULTS   0.994348     True  \n",
              "42           13  CONCLUSIONS  CONCLUSIONS   0.447539     True  \n",
              "43           13  CONCLUSIONS      RESULTS   0.687099    False  \n",
              "44           14    OBJECTIVE   BACKGROUND   0.641067    False  \n",
              "45           14    OBJECTIVE   BACKGROUND   0.862781    False  \n",
              "46           14    OBJECTIVE   BACKGROUND   0.761019    False  \n",
              "47           14    OBJECTIVE   BACKGROUND   0.561830    False  \n",
              "48           14      METHODS      RESULTS   0.554222    False  \n",
              "49           14      METHODS      METHODS   0.962936     True  "
            ],
            "text/html": [
              "\n",
              "  <div id=\"df-11603dbe-2b42-4582-a378-7e355b6ff0c5\" class=\"colab-df-container\">\n",
              "    <div>\n",
              "<style scoped>\n",
              "    .dataframe tbody tr th:only-of-type {\n",
              "        vertical-align: middle;\n",
              "    }\n",
              "\n",
              "    .dataframe tbody tr th {\n",
              "        vertical-align: top;\n",
              "    }\n",
              "\n",
              "    .dataframe thead th {\n",
              "        text-align: right;\n",
              "    }\n",
              "</style>\n",
              "<table border=\"1\" class=\"dataframe\">\n",
              "  <thead>\n",
              "    <tr style=\"text-align: right;\">\n",
              "      <th></th>\n",
              "      <th>abstract_text</th>\n",
              "      <th>line_number</th>\n",
              "      <th>total_lines</th>\n",
              "      <th>target</th>\n",
              "      <th>prediction</th>\n",
              "      <th>pred_prob</th>\n",
              "      <th>correct</th>\n",
              "    </tr>\n",
              "  </thead>\n",
              "  <tbody>\n",
              "    <tr>\n",
              "      <th>0</th>\n",
              "      <td>This study analyzed liver function abnormaliti...</td>\n",
              "      <td>0</td>\n",
              "      <td>9</td>\n",
              "      <td>BACKGROUND</td>\n",
              "      <td>METHODS</td>\n",
              "      <td>0.523332</td>\n",
              "      <td>False</td>\n",
              "    </tr>\n",
              "    <tr>\n",
              "      <th>1</th>\n",
              "      <td>A post hoc analysis was conducted with the use...</td>\n",
              "      <td>1</td>\n",
              "      <td>9</td>\n",
              "      <td>RESULTS</td>\n",
              "      <td>METHODS</td>\n",
              "      <td>0.932483</td>\n",
              "      <td>False</td>\n",
              "    </tr>\n",
              "    <tr>\n",
              "      <th>2</th>\n",
              "      <td>Liver function tests ( LFTs ) were measured at...</td>\n",
              "      <td>2</td>\n",
              "      <td>9</td>\n",
              "      <td>RESULTS</td>\n",
              "      <td>METHODS</td>\n",
              "      <td>0.969578</td>\n",
              "      <td>False</td>\n",
              "    </tr>\n",
              "    <tr>\n",
              "      <th>3</th>\n",
              "      <td>Survival analyses were used to assess the asso...</td>\n",
              "      <td>3</td>\n",
              "      <td>9</td>\n",
              "      <td>RESULTS</td>\n",
              "      <td>METHODS</td>\n",
              "      <td>0.569774</td>\n",
              "      <td>False</td>\n",
              "    </tr>\n",
              "    <tr>\n",
              "      <th>4</th>\n",
              "      <td>The percentage of patients with abnormal LFTs ...</td>\n",
              "      <td>4</td>\n",
              "      <td>9</td>\n",
              "      <td>RESULTS</td>\n",
              "      <td>RESULTS</td>\n",
              "      <td>0.963710</td>\n",
              "      <td>True</td>\n",
              "    </tr>\n",
              "    <tr>\n",
              "      <th>5</th>\n",
              "      <td>When mean hemodynamic profiles were compared i...</td>\n",
              "      <td>5</td>\n",
              "      <td>9</td>\n",
              "      <td>RESULTS</td>\n",
              "      <td>RESULTS</td>\n",
              "      <td>0.998498</td>\n",
              "      <td>True</td>\n",
              "    </tr>\n",
              "    <tr>\n",
              "      <th>6</th>\n",
              "      <td>Multivariable analyses revealed that patients ...</td>\n",
              "      <td>6</td>\n",
              "      <td>9</td>\n",
              "      <td>RESULTS</td>\n",
              "      <td>RESULTS</td>\n",
              "      <td>0.997658</td>\n",
              "      <td>True</td>\n",
              "    </tr>\n",
              "    <tr>\n",
              "      <th>7</th>\n",
              "      <td>Abnormal LFTs are common in the ADHF populatio...</td>\n",
              "      <td>7</td>\n",
              "      <td>9</td>\n",
              "      <td>CONCLUSIONS</td>\n",
              "      <td>BACKGROUND</td>\n",
              "      <td>0.526140</td>\n",
              "      <td>False</td>\n",
              "    </tr>\n",
              "    <tr>\n",
              "      <th>8</th>\n",
              "      <td>Elevated MELD-XI scores are associated with po...</td>\n",
              "      <td>8</td>\n",
              "      <td>9</td>\n",
              "      <td>CONCLUSIONS</td>\n",
              "      <td>CONCLUSIONS</td>\n",
              "      <td>0.521422</td>\n",
              "      <td>True</td>\n",
              "    </tr>\n",
              "    <tr>\n",
              "      <th>9</th>\n",
              "      <td>Minimally invasive endovascular aneurysm repai...</td>\n",
              "      <td>0</td>\n",
              "      <td>13</td>\n",
              "      <td>BACKGROUND</td>\n",
              "      <td>CONCLUSIONS</td>\n",
              "      <td>0.669843</td>\n",
              "      <td>False</td>\n",
              "    </tr>\n",
              "    <tr>\n",
              "      <th>10</th>\n",
              "      <td>The aim of this study was to analyse the cost-...</td>\n",
              "      <td>1</td>\n",
              "      <td>13</td>\n",
              "      <td>BACKGROUND</td>\n",
              "      <td>OBJECTIVE</td>\n",
              "      <td>0.600427</td>\n",
              "      <td>False</td>\n",
              "    </tr>\n",
              "    <tr>\n",
              "      <th>11</th>\n",
              "      <td>Resource use was determined from the Amsterdam...</td>\n",
              "      <td>2</td>\n",
              "      <td>13</td>\n",
              "      <td>METHODS</td>\n",
              "      <td>METHODS</td>\n",
              "      <td>0.962616</td>\n",
              "      <td>True</td>\n",
              "    </tr>\n",
              "    <tr>\n",
              "      <th>12</th>\n",
              "      <td>The analysis was performed from a provider per...</td>\n",
              "      <td>3</td>\n",
              "      <td>13</td>\n",
              "      <td>METHODS</td>\n",
              "      <td>METHODS</td>\n",
              "      <td>0.982491</td>\n",
              "      <td>True</td>\n",
              "    </tr>\n",
              "    <tr>\n",
              "      <th>13</th>\n",
              "      <td>All costs were calculated as if all patients h...</td>\n",
              "      <td>4</td>\n",
              "      <td>13</td>\n",
              "      <td>METHODS</td>\n",
              "      <td>METHODS</td>\n",
              "      <td>0.991245</td>\n",
              "      <td>True</td>\n",
              "    </tr>\n",
              "    <tr>\n",
              "      <th>14</th>\n",
              "      <td>A total of @ patients were randomized .</td>\n",
              "      <td>5</td>\n",
              "      <td>13</td>\n",
              "      <td>RESULTS</td>\n",
              "      <td>RESULTS</td>\n",
              "      <td>0.962145</td>\n",
              "      <td>True</td>\n",
              "    </tr>\n",
              "    <tr>\n",
              "      <th>15</th>\n",
              "      <td>The @-day mortality rate was @ per cent after ...</td>\n",
              "      <td>6</td>\n",
              "      <td>13</td>\n",
              "      <td>RESULTS</td>\n",
              "      <td>RESULTS</td>\n",
              "      <td>0.998601</td>\n",
              "      <td>True</td>\n",
              "    </tr>\n",
              "    <tr>\n",
              "      <th>16</th>\n",
              "      <td>At @months , the total mortality rate for EVAR...</td>\n",
              "      <td>7</td>\n",
              "      <td>13</td>\n",
              "      <td>RESULTS</td>\n",
              "      <td>RESULTS</td>\n",
              "      <td>0.954359</td>\n",
              "      <td>True</td>\n",
              "    </tr>\n",
              "    <tr>\n",
              "      <th>17</th>\n",
              "      <td>The mean cost difference between EVAR and OR w...</td>\n",
              "      <td>8</td>\n",
              "      <td>13</td>\n",
              "      <td>RESULTS</td>\n",
              "      <td>RESULTS</td>\n",
              "      <td>0.995421</td>\n",
              "      <td>True</td>\n",
              "    </tr>\n",
              "    <tr>\n",
              "      <th>18</th>\n",
              "      <td>The incremental cost-effectiveness ratio per p...</td>\n",
              "      <td>9</td>\n",
              "      <td>13</td>\n",
              "      <td>RESULTS</td>\n",
              "      <td>RESULTS</td>\n",
              "      <td>0.921506</td>\n",
              "      <td>True</td>\n",
              "    </tr>\n",
              "    <tr>\n",
              "      <th>19</th>\n",
              "      <td>There was no significant difference in quality...</td>\n",
              "      <td>10</td>\n",
              "      <td>13</td>\n",
              "      <td>RESULTS</td>\n",
              "      <td>RESULTS</td>\n",
              "      <td>0.943474</td>\n",
              "      <td>True</td>\n",
              "    </tr>\n",
              "    <tr>\n",
              "      <th>20</th>\n",
              "      <td>Nor was EVAR superior regarding cost-utility .</td>\n",
              "      <td>11</td>\n",
              "      <td>13</td>\n",
              "      <td>RESULTS</td>\n",
              "      <td>CONCLUSIONS</td>\n",
              "      <td>0.742229</td>\n",
              "      <td>False</td>\n",
              "    </tr>\n",
              "    <tr>\n",
              "      <th>21</th>\n",
              "      <td>EVAR may be more effective for rAAA , but its ...</td>\n",
              "      <td>12</td>\n",
              "      <td>13</td>\n",
              "      <td>CONCLUSIONS</td>\n",
              "      <td>CONCLUSIONS</td>\n",
              "      <td>0.508197</td>\n",
              "      <td>True</td>\n",
              "    </tr>\n",
              "    <tr>\n",
              "      <th>22</th>\n",
              "      <td>Evidence suggests that individuals with social...</td>\n",
              "      <td>0</td>\n",
              "      <td>9</td>\n",
              "      <td>BACKGROUND</td>\n",
              "      <td>BACKGROUND</td>\n",
              "      <td>0.636655</td>\n",
              "      <td>True</td>\n",
              "    </tr>\n",
              "    <tr>\n",
              "      <th>23</th>\n",
              "      <td>This study investigated whether oxytocin can a...</td>\n",
              "      <td>1</td>\n",
              "      <td>9</td>\n",
              "      <td>METHODS</td>\n",
              "      <td>OBJECTIVE</td>\n",
              "      <td>0.535764</td>\n",
              "      <td>False</td>\n",
              "    </tr>\n",
              "    <tr>\n",
              "      <th>24</th>\n",
              "      <td>In a double-blind , randomized , placebo-contr...</td>\n",
              "      <td>2</td>\n",
              "      <td>9</td>\n",
              "      <td>METHODS</td>\n",
              "      <td>METHODS</td>\n",
              "      <td>0.910309</td>\n",
              "      <td>True</td>\n",
              "    </tr>\n",
              "    <tr>\n",
              "      <th>25</th>\n",
              "      <td>Attentional bias was assessed using the dot-pr...</td>\n",
              "      <td>3</td>\n",
              "      <td>9</td>\n",
              "      <td>METHODS</td>\n",
              "      <td>METHODS</td>\n",
              "      <td>0.983646</td>\n",
              "      <td>True</td>\n",
              "    </tr>\n",
              "    <tr>\n",
              "      <th>26</th>\n",
              "      <td>In the baseline placebo condition , the HSA gr...</td>\n",
              "      <td>4</td>\n",
              "      <td>9</td>\n",
              "      <td>RESULTS</td>\n",
              "      <td>RESULTS</td>\n",
              "      <td>0.994108</td>\n",
              "      <td>True</td>\n",
              "    </tr>\n",
              "    <tr>\n",
              "      <th>27</th>\n",
              "      <td>Oxytocin reduced the difference between HSA an...</td>\n",
              "      <td>5</td>\n",
              "      <td>9</td>\n",
              "      <td>RESULTS</td>\n",
              "      <td>RESULTS</td>\n",
              "      <td>0.658151</td>\n",
              "      <td>True</td>\n",
              "    </tr>\n",
              "    <tr>\n",
              "      <th>28</th>\n",
              "      <td>Moreover , it appeared to normalize attentiona...</td>\n",
              "      <td>6</td>\n",
              "      <td>9</td>\n",
              "      <td>RESULTS</td>\n",
              "      <td>RESULTS</td>\n",
              "      <td>0.778379</td>\n",
              "      <td>True</td>\n",
              "    </tr>\n",
              "    <tr>\n",
              "      <th>29</th>\n",
              "      <td>The biological mechanisms by which oxytocin ma...</td>\n",
              "      <td>7</td>\n",
              "      <td>9</td>\n",
              "      <td>RESULTS</td>\n",
              "      <td>CONCLUSIONS</td>\n",
              "      <td>0.931135</td>\n",
              "      <td>False</td>\n",
              "    </tr>\n",
              "    <tr>\n",
              "      <th>30</th>\n",
              "      <td>These results , coupled with previous research...</td>\n",
              "      <td>8</td>\n",
              "      <td>9</td>\n",
              "      <td>CONCLUSIONS</td>\n",
              "      <td>CONCLUSIONS</td>\n",
              "      <td>0.828747</td>\n",
              "      <td>True</td>\n",
              "    </tr>\n",
              "    <tr>\n",
              "      <th>31</th>\n",
              "      <td>Exposure to diesel exhaust causes inflammatory...</td>\n",
              "      <td>0</td>\n",
              "      <td>13</td>\n",
              "      <td>BACKGROUND</td>\n",
              "      <td>CONCLUSIONS</td>\n",
              "      <td>0.285789</td>\n",
              "      <td>False</td>\n",
              "    </tr>\n",
              "    <tr>\n",
              "      <th>32</th>\n",
              "      <td>Previous controlled exposure studies at a conc...</td>\n",
              "      <td>1</td>\n",
              "      <td>13</td>\n",
              "      <td>BACKGROUND</td>\n",
              "      <td>BACKGROUND</td>\n",
              "      <td>0.339159</td>\n",
              "      <td>True</td>\n",
              "    </tr>\n",
              "    <tr>\n",
              "      <th>33</th>\n",
              "      <td>We prolonged the exposure period and investiga...</td>\n",
              "      <td>2</td>\n",
              "      <td>13</td>\n",
              "      <td>BACKGROUND</td>\n",
              "      <td>CONCLUSIONS</td>\n",
              "      <td>0.432314</td>\n",
              "      <td>False</td>\n",
              "    </tr>\n",
              "    <tr>\n",
              "      <th>34</th>\n",
              "      <td>Eighteen healthy volunteers were exposed twice...</td>\n",
              "      <td>3</td>\n",
              "      <td>13</td>\n",
              "      <td>METHODS</td>\n",
              "      <td>METHODS</td>\n",
              "      <td>0.965012</td>\n",
              "      <td>True</td>\n",
              "    </tr>\n",
              "    <tr>\n",
              "      <th>35</th>\n",
              "      <td>Immediately before and after exposure , we per...</td>\n",
              "      <td>4</td>\n",
              "      <td>13</td>\n",
              "      <td>METHODS</td>\n",
              "      <td>METHODS</td>\n",
              "      <td>0.983966</td>\n",
              "      <td>True</td>\n",
              "    </tr>\n",
              "    <tr>\n",
              "      <th>36</th>\n",
              "      <td>Nasal lavage and blood samples were collected ...</td>\n",
              "      <td>5</td>\n",
              "      <td>13</td>\n",
              "      <td>METHODS</td>\n",
              "      <td>METHODS</td>\n",
              "      <td>0.993510</td>\n",
              "      <td>True</td>\n",
              "    </tr>\n",
              "    <tr>\n",
              "      <th>37</th>\n",
              "      <td>Symptom scores and peak expiratory flow ( PEF ...</td>\n",
              "      <td>6</td>\n",
              "      <td>13</td>\n",
              "      <td>METHODS</td>\n",
              "      <td>METHODS</td>\n",
              "      <td>0.992939</td>\n",
              "      <td>True</td>\n",
              "    </tr>\n",
              "    <tr>\n",
              "      <th>38</th>\n",
              "      <td>Self-rated throat irritation was higher during...</td>\n",
              "      <td>7</td>\n",
              "      <td>13</td>\n",
              "      <td>RESULTS</td>\n",
              "      <td>RESULTS</td>\n",
              "      <td>0.836638</td>\n",
              "      <td>True</td>\n",
              "    </tr>\n",
              "    <tr>\n",
              "      <th>39</th>\n",
              "      <td>Clinical signs of irritation in the upper airw...</td>\n",
              "      <td>8</td>\n",
              "      <td>13</td>\n",
              "      <td>RESULTS</td>\n",
              "      <td>RESULTS</td>\n",
              "      <td>0.999558</td>\n",
              "      <td>True</td>\n",
              "    </tr>\n",
              "    <tr>\n",
              "      <th>40</th>\n",
              "      <td>PEF increased during filtered air , but decrea...</td>\n",
              "      <td>9</td>\n",
              "      <td>13</td>\n",
              "      <td>RESULTS</td>\n",
              "      <td>RESULTS</td>\n",
              "      <td>0.999279</td>\n",
              "      <td>True</td>\n",
              "    </tr>\n",
              "    <tr>\n",
              "      <th>41</th>\n",
              "      <td>Monocyte and total leukocyte counts in periphe...</td>\n",
              "      <td>10</td>\n",
              "      <td>13</td>\n",
              "      <td>RESULTS</td>\n",
              "      <td>RESULTS</td>\n",
              "      <td>0.994348</td>\n",
              "      <td>True</td>\n",
              "    </tr>\n",
              "    <tr>\n",
              "      <th>42</th>\n",
              "      <td>Diesel exhaust induced acute adverse effects s...</td>\n",
              "      <td>11</td>\n",
              "      <td>13</td>\n",
              "      <td>CONCLUSIONS</td>\n",
              "      <td>CONCLUSIONS</td>\n",
              "      <td>0.447539</td>\n",
              "      <td>True</td>\n",
              "    </tr>\n",
              "    <tr>\n",
              "      <th>43</th>\n",
              "      <td>The effects were first seen at @ min of exposu...</td>\n",
              "      <td>12</td>\n",
              "      <td>13</td>\n",
              "      <td>CONCLUSIONS</td>\n",
              "      <td>RESULTS</td>\n",
              "      <td>0.687099</td>\n",
              "      <td>False</td>\n",
              "    </tr>\n",
              "    <tr>\n",
              "      <th>44</th>\n",
              "      <td>Depressive disorders are one of the leading co...</td>\n",
              "      <td>0</td>\n",
              "      <td>14</td>\n",
              "      <td>OBJECTIVE</td>\n",
              "      <td>BACKGROUND</td>\n",
              "      <td>0.641067</td>\n",
              "      <td>False</td>\n",
              "    </tr>\n",
              "    <tr>\n",
              "      <th>45</th>\n",
              "      <td>Numerous studies have demonstrated that pharma...</td>\n",
              "      <td>1</td>\n",
              "      <td>14</td>\n",
              "      <td>OBJECTIVE</td>\n",
              "      <td>BACKGROUND</td>\n",
              "      <td>0.862781</td>\n",
              "      <td>False</td>\n",
              "    </tr>\n",
              "    <tr>\n",
              "      <th>46</th>\n",
              "      <td>Psycho-education as an intervention has been s...</td>\n",
              "      <td>2</td>\n",
              "      <td>14</td>\n",
              "      <td>OBJECTIVE</td>\n",
              "      <td>BACKGROUND</td>\n",
              "      <td>0.761019</td>\n",
              "      <td>False</td>\n",
              "    </tr>\n",
              "    <tr>\n",
              "      <th>47</th>\n",
              "      <td>The present study aimed to assess the impact o...</td>\n",
              "      <td>3</td>\n",
              "      <td>14</td>\n",
              "      <td>OBJECTIVE</td>\n",
              "      <td>BACKGROUND</td>\n",
              "      <td>0.561830</td>\n",
              "      <td>False</td>\n",
              "    </tr>\n",
              "    <tr>\n",
              "      <th>48</th>\n",
              "      <td>A total of @ eligible depressed subjects were ...</td>\n",
              "      <td>4</td>\n",
              "      <td>14</td>\n",
              "      <td>METHODS</td>\n",
              "      <td>RESULTS</td>\n",
              "      <td>0.554222</td>\n",
              "      <td>False</td>\n",
              "    </tr>\n",
              "    <tr>\n",
              "      <th>49</th>\n",
              "      <td>The study group involved an eligible family me...</td>\n",
              "      <td>5</td>\n",
              "      <td>14</td>\n",
              "      <td>METHODS</td>\n",
              "      <td>METHODS</td>\n",
              "      <td>0.962936</td>\n",
              "      <td>True</td>\n",
              "    </tr>\n",
              "  </tbody>\n",
              "</table>\n",
              "</div>\n",
              "    <div class=\"colab-df-buttons\">\n",
              "\n",
              "  <div class=\"colab-df-container\">\n",
              "    <button class=\"colab-df-convert\" onclick=\"convertToInteractive('df-11603dbe-2b42-4582-a378-7e355b6ff0c5')\"\n",
              "            title=\"Convert this dataframe to an interactive table.\"\n",
              "            style=\"display:none;\">\n",
              "\n",
              "  <svg xmlns=\"http://www.w3.org/2000/svg\" height=\"24px\" viewBox=\"0 -960 960 960\">\n",
              "    <path d=\"M120-120v-720h720v720H120Zm60-500h600v-160H180v160Zm220 220h160v-160H400v160Zm0 220h160v-160H400v160ZM180-400h160v-160H180v160Zm440 0h160v-160H620v160ZM180-180h160v-160H180v160Zm440 0h160v-160H620v160Z\"/>\n",
              "  </svg>\n",
              "    </button>\n",
              "\n",
              "  <style>\n",
              "    .colab-df-container {\n",
              "      display:flex;\n",
              "      gap: 12px;\n",
              "    }\n",
              "\n",
              "    .colab-df-convert {\n",
              "      background-color: #E8F0FE;\n",
              "      border: none;\n",
              "      border-radius: 50%;\n",
              "      cursor: pointer;\n",
              "      display: none;\n",
              "      fill: #1967D2;\n",
              "      height: 32px;\n",
              "      padding: 0 0 0 0;\n",
              "      width: 32px;\n",
              "    }\n",
              "\n",
              "    .colab-df-convert:hover {\n",
              "      background-color: #E2EBFA;\n",
              "      box-shadow: 0px 1px 2px rgba(60, 64, 67, 0.3), 0px 1px 3px 1px rgba(60, 64, 67, 0.15);\n",
              "      fill: #174EA6;\n",
              "    }\n",
              "\n",
              "    .colab-df-buttons div {\n",
              "      margin-bottom: 4px;\n",
              "    }\n",
              "\n",
              "    [theme=dark] .colab-df-convert {\n",
              "      background-color: #3B4455;\n",
              "      fill: #D2E3FC;\n",
              "    }\n",
              "\n",
              "    [theme=dark] .colab-df-convert:hover {\n",
              "      background-color: #434B5C;\n",
              "      box-shadow: 0px 1px 3px 1px rgba(0, 0, 0, 0.15);\n",
              "      filter: drop-shadow(0px 1px 2px rgba(0, 0, 0, 0.3));\n",
              "      fill: #FFFFFF;\n",
              "    }\n",
              "  </style>\n",
              "\n",
              "    <script>\n",
              "      const buttonEl =\n",
              "        document.querySelector('#df-11603dbe-2b42-4582-a378-7e355b6ff0c5 button.colab-df-convert');\n",
              "      buttonEl.style.display =\n",
              "        google.colab.kernel.accessAllowed ? 'block' : 'none';\n",
              "\n",
              "      async function convertToInteractive(key) {\n",
              "        const element = document.querySelector('#df-11603dbe-2b42-4582-a378-7e355b6ff0c5');\n",
              "        const dataTable =\n",
              "          await google.colab.kernel.invokeFunction('convertToInteractive',\n",
              "                                                    [key], {});\n",
              "        if (!dataTable) return;\n",
              "\n",
              "        const docLinkHtml = 'Like what you see? Visit the ' +\n",
              "          '<a target=\"_blank\" href=https://colab.research.google.com/notebooks/data_table.ipynb>data table notebook</a>'\n",
              "          + ' to learn more about interactive tables.';\n",
              "        element.innerHTML = '';\n",
              "        dataTable['output_type'] = 'display_data';\n",
              "        await google.colab.output.renderOutput(dataTable, element);\n",
              "        const docLink = document.createElement('div');\n",
              "        docLink.innerHTML = docLinkHtml;\n",
              "        element.appendChild(docLink);\n",
              "      }\n",
              "    </script>\n",
              "  </div>\n",
              "\n",
              "\n",
              "<div id=\"df-42b4135c-f4fd-40c3-92c9-ea27fa9bc2ad\">\n",
              "  <button class=\"colab-df-quickchart\" onclick=\"quickchart('df-42b4135c-f4fd-40c3-92c9-ea27fa9bc2ad')\"\n",
              "            title=\"Suggest charts\"\n",
              "            style=\"display:none;\">\n",
              "\n",
              "<svg xmlns=\"http://www.w3.org/2000/svg\" height=\"24px\"viewBox=\"0 0 24 24\"\n",
              "     width=\"24px\">\n",
              "    <g>\n",
              "        <path d=\"M19 3H5c-1.1 0-2 .9-2 2v14c0 1.1.9 2 2 2h14c1.1 0 2-.9 2-2V5c0-1.1-.9-2-2-2zM9 17H7v-7h2v7zm4 0h-2V7h2v10zm4 0h-2v-4h2v4z\"/>\n",
              "    </g>\n",
              "</svg>\n",
              "  </button>\n",
              "\n",
              "<style>\n",
              "  .colab-df-quickchart {\n",
              "      --bg-color: #E8F0FE;\n",
              "      --fill-color: #1967D2;\n",
              "      --hover-bg-color: #E2EBFA;\n",
              "      --hover-fill-color: #174EA6;\n",
              "      --disabled-fill-color: #AAA;\n",
              "      --disabled-bg-color: #DDD;\n",
              "  }\n",
              "\n",
              "  [theme=dark] .colab-df-quickchart {\n",
              "      --bg-color: #3B4455;\n",
              "      --fill-color: #D2E3FC;\n",
              "      --hover-bg-color: #434B5C;\n",
              "      --hover-fill-color: #FFFFFF;\n",
              "      --disabled-bg-color: #3B4455;\n",
              "      --disabled-fill-color: #666;\n",
              "  }\n",
              "\n",
              "  .colab-df-quickchart {\n",
              "    background-color: var(--bg-color);\n",
              "    border: none;\n",
              "    border-radius: 50%;\n",
              "    cursor: pointer;\n",
              "    display: none;\n",
              "    fill: var(--fill-color);\n",
              "    height: 32px;\n",
              "    padding: 0;\n",
              "    width: 32px;\n",
              "  }\n",
              "\n",
              "  .colab-df-quickchart:hover {\n",
              "    background-color: var(--hover-bg-color);\n",
              "    box-shadow: 0 1px 2px rgba(60, 64, 67, 0.3), 0 1px 3px 1px rgba(60, 64, 67, 0.15);\n",
              "    fill: var(--button-hover-fill-color);\n",
              "  }\n",
              "\n",
              "  .colab-df-quickchart-complete:disabled,\n",
              "  .colab-df-quickchart-complete:disabled:hover {\n",
              "    background-color: var(--disabled-bg-color);\n",
              "    fill: var(--disabled-fill-color);\n",
              "    box-shadow: none;\n",
              "  }\n",
              "\n",
              "  .colab-df-spinner {\n",
              "    border: 2px solid var(--fill-color);\n",
              "    border-color: transparent;\n",
              "    border-bottom-color: var(--fill-color);\n",
              "    animation:\n",
              "      spin 1s steps(1) infinite;\n",
              "  }\n",
              "\n",
              "  @keyframes spin {\n",
              "    0% {\n",
              "      border-color: transparent;\n",
              "      border-bottom-color: var(--fill-color);\n",
              "      border-left-color: var(--fill-color);\n",
              "    }\n",
              "    20% {\n",
              "      border-color: transparent;\n",
              "      border-left-color: var(--fill-color);\n",
              "      border-top-color: var(--fill-color);\n",
              "    }\n",
              "    30% {\n",
              "      border-color: transparent;\n",
              "      border-left-color: var(--fill-color);\n",
              "      border-top-color: var(--fill-color);\n",
              "      border-right-color: var(--fill-color);\n",
              "    }\n",
              "    40% {\n",
              "      border-color: transparent;\n",
              "      border-right-color: var(--fill-color);\n",
              "      border-top-color: var(--fill-color);\n",
              "    }\n",
              "    60% {\n",
              "      border-color: transparent;\n",
              "      border-right-color: var(--fill-color);\n",
              "    }\n",
              "    80% {\n",
              "      border-color: transparent;\n",
              "      border-right-color: var(--fill-color);\n",
              "      border-bottom-color: var(--fill-color);\n",
              "    }\n",
              "    90% {\n",
              "      border-color: transparent;\n",
              "      border-bottom-color: var(--fill-color);\n",
              "    }\n",
              "  }\n",
              "</style>\n",
              "\n",
              "  <script>\n",
              "    async function quickchart(key) {\n",
              "      const quickchartButtonEl =\n",
              "        document.querySelector('#' + key + ' button');\n",
              "      quickchartButtonEl.disabled = true;  // To prevent multiple clicks.\n",
              "      quickchartButtonEl.classList.add('colab-df-spinner');\n",
              "      try {\n",
              "        const charts = await google.colab.kernel.invokeFunction(\n",
              "            'suggestCharts', [key], {});\n",
              "      } catch (error) {\n",
              "        console.error('Error during call to suggestCharts:', error);\n",
              "      }\n",
              "      quickchartButtonEl.classList.remove('colab-df-spinner');\n",
              "      quickchartButtonEl.classList.add('colab-df-quickchart-complete');\n",
              "    }\n",
              "    (() => {\n",
              "      let quickchartButtonEl =\n",
              "        document.querySelector('#df-42b4135c-f4fd-40c3-92c9-ea27fa9bc2ad button');\n",
              "      quickchartButtonEl.style.display =\n",
              "        google.colab.kernel.accessAllowed ? 'block' : 'none';\n",
              "    })();\n",
              "  </script>\n",
              "</div>\n",
              "    </div>\n",
              "  </div>\n"
            ]
          },
          "metadata": {},
          "execution_count": 97
        }
      ]
    },
    {
      "cell_type": "code",
      "metadata": {
        "id": "Tp5QqjxsZVBu",
        "colab": {
          "base_uri": "https://localhost:8080/",
          "height": 1000
        },
        "outputId": "a5861795-31b2-40a9-b536-2157e841817a"
      },
      "source": [
        "#Inspect Most 50 Inaccurate Predictions\n",
        "top_50_wrong = test_df[test_df[\"correct\"] == False].sort_values(\"pred_prob\", ascending=False)[:50]\n",
        "top_50_wrong\n"
      ],
      "execution_count": 98,
      "outputs": [
        {
          "output_type": "execute_result",
          "data": {
            "text/plain": [
              "                                           abstract_text  line_number  \\\n",
              "9130   The expected CIN rate was similar for the two ...            4   \n",
              "21186  Mean distraction rates were similar between gr...            8   \n",
              "30065  There was no significant difference in gender ...            4   \n",
              "13598  -@ % vs. Fish : -@ % vs. Fish + S : -@ % ; p <...            6   \n",
              "19313  ( @ ) The differences in heart rate and blood ...           17   \n",
              "6028          Courses were repeated every @ to @ weeks .            5   \n",
              "137    Compared to group S , there was a transient im...            8   \n",
              "12158  In the saffron group , there was no decline in...            9   \n",
              "20346  Outcomes were examined using Kaplan-Meier and ...            3   \n",
              "28424  However , the subgroup of subjects , which inh...            5   \n",
              "29294  Baseline measures included sociodemographics ,...            4   \n",
              "9371   In the experimental group all BODE components ...           14   \n",
              "25381  RESULTS At @ weeks , the continuous administra...            4   \n",
              "16877  Primary efficacy endpoint was trough forced ex...            4   \n",
              "8655   The intervention groups were either be given a...           12   \n",
              "4699   The primary efficacy end point was primary pat...            3   \n",
              "9467   Total anaerobic counts of bacteria did not dif...            6   \n",
              "19312  ( @ ) In the MIA group and ADA group , after s...           16   \n",
              "12082  Comparable numbers of patients experienced BCG...           11   \n",
              "8526   Study design A prospective , randomized trial ...            1   \n",
              "1221   Data were collected prospectively for @ months...            3   \n",
              "20004         No treatment-related serious AE occurred .           10   \n",
              "5394   A randomized , double-blind , crossover study ...            3   \n",
              "19311  The increased dosage of propofol and rocuroniu...           15   \n",
              "19048  A total of eighty migraineurs without aura wer...            3   \n",
              "14002  RESULST : Graybiel ' s score and grading of se...            6   \n",
              "12159  No pain was reported in the saffron group , wh...           10   \n",
              "24249  Participants were examined six-monthly for two...            5   \n",
              "23075  Receiver-operating characteristic analysis sho...            5   \n",
              "9663   Primary ethics approval was received from the ...           14   \n",
              "9468   PDT was associated with a significant decrease...            7   \n",
              "303    Projected life expectancy was estimated using ...            3   \n",
              "19427  Quality-adjusted lifeyears were calculated by ...            5   \n",
              "15674  Both intervention groups included a face-to-fa...            3   \n",
              "591    During each treatment period , blood samples w...           12   \n",
              "15709  In a prospective , double-blind , placebo-cont...            3   \n",
              "29006  Intervention group patients received an assess...            4   \n",
              "29322  After the procedure , patients in the general ...            7   \n",
              "6365   Adverse events up to the third postoperative d...            7   \n",
              "16188  Three analyses of covariance were conducted fo...            8   \n",
              "24202  Patients were unblinded at M@ if there was no ...            4   \n",
              "29323  The group receiving moderate parenterally seda...            8   \n",
              "29098  An active control arm received salmeterol ( SA...            5   \n",
              "29692  Repeated measures analysis of variance ( ANOVA...            3   \n",
              "22647          No serious adverse events were reported .           16   \n",
              "895    In this all-comer prospective multicenter rand...            1   \n",
              "29097  The primary endpoint was change from baseline ...            4   \n",
              "20752  The experiment lasted @weeks , and samples wer...            2   \n",
              "2523   A total of @ people ( @ % ) were diagnosed to ...           11   \n",
              "14628  In this randomized , double-blind , placebo-co...            2   \n",
              "\n",
              "       total_lines       target prediction  pred_prob  correct  \n",
              "9130            11      METHODS    RESULTS   0.999699    False  \n",
              "21186           18      METHODS    RESULTS   0.999689    False  \n",
              "30065           13      METHODS    RESULTS   0.999532    False  \n",
              "13598           10      METHODS    RESULTS   0.999511    False  \n",
              "19313           20      METHODS    RESULTS   0.999474    False  \n",
              "6028            16      RESULTS    METHODS   0.999307    False  \n",
              "137              9  CONCLUSIONS    RESULTS   0.999134    False  \n",
              "12158           13      METHODS    RESULTS   0.998972    False  \n",
              "20346            9      RESULTS    METHODS   0.998949    False  \n",
              "28424           11   BACKGROUND    RESULTS   0.998411    False  \n",
              "29294           14      RESULTS    METHODS   0.997863    False  \n",
              "9371            15  CONCLUSIONS    RESULTS   0.997852    False  \n",
              "25381            8      METHODS    RESULTS   0.997757    False  \n",
              "16877           14      RESULTS    METHODS   0.997721    False  \n",
              "8655            16      RESULTS    METHODS   0.997721    False  \n",
              "4699            13      RESULTS    METHODS   0.997658    False  \n",
              "9467            10  CONCLUSIONS    RESULTS   0.997587    False  \n",
              "19312           20      METHODS    RESULTS   0.997580    False  \n",
              "12082           19  CONCLUSIONS    RESULTS   0.997475    False  \n",
              "8526            11    OBJECTIVE    METHODS   0.995824    False  \n",
              "1221            14      RESULTS    METHODS   0.995823    False  \n",
              "20004           12  CONCLUSIONS    RESULTS   0.995799    False  \n",
              "5394            13      RESULTS    METHODS   0.995653    False  \n",
              "19311           20      METHODS    RESULTS   0.995615    False  \n",
              "19048           11      RESULTS    METHODS   0.995495    False  \n",
              "14002            9      METHODS    RESULTS   0.995058    False  \n",
              "12159           13      METHODS    RESULTS   0.994914    False  \n",
              "24249           14      RESULTS    METHODS   0.994822    False  \n",
              "23075           12      METHODS    RESULTS   0.994714    False  \n",
              "9663            17   BACKGROUND    METHODS   0.994495    False  \n",
              "9468            10  CONCLUSIONS    RESULTS   0.994303    False  \n",
              "303             11      RESULTS    METHODS   0.994287    False  \n",
              "19427           13      RESULTS    METHODS   0.993942    False  \n",
              "15674           11      RESULTS    METHODS   0.993554    False  \n",
              "591             20      RESULTS    METHODS   0.993347    False  \n",
              "15709           10      RESULTS    METHODS   0.993255    False  \n",
              "29006           15      RESULTS    METHODS   0.993052    False  \n",
              "29322           14      RESULTS    METHODS   0.992866    False  \n",
              "6365             9  CONCLUSIONS    RESULTS   0.992724    False  \n",
              "16188           14      RESULTS    METHODS   0.992624    False  \n",
              "24202           15      METHODS    RESULTS   0.992525    False  \n",
              "29323           14      RESULTS    METHODS   0.992487    False  \n",
              "29098           16   BACKGROUND    METHODS   0.992172    False  \n",
              "29692            7      RESULTS    METHODS   0.991830    False  \n",
              "22647           19  CONCLUSIONS    RESULTS   0.991613    False  \n",
              "895             11      RESULTS    METHODS   0.991571    False  \n",
              "29097           16   BACKGROUND    METHODS   0.991535    False  \n",
              "20752           10   BACKGROUND    METHODS   0.991494    False  \n",
              "2523            15    OBJECTIVE    RESULTS   0.991066    False  \n",
              "14628            8      RESULTS    METHODS   0.990899    False  "
            ],
            "text/html": [
              "\n",
              "  <div id=\"df-7cc937a1-50d2-4cd5-ad7e-acae5270682d\" class=\"colab-df-container\">\n",
              "    <div>\n",
              "<style scoped>\n",
              "    .dataframe tbody tr th:only-of-type {\n",
              "        vertical-align: middle;\n",
              "    }\n",
              "\n",
              "    .dataframe tbody tr th {\n",
              "        vertical-align: top;\n",
              "    }\n",
              "\n",
              "    .dataframe thead th {\n",
              "        text-align: right;\n",
              "    }\n",
              "</style>\n",
              "<table border=\"1\" class=\"dataframe\">\n",
              "  <thead>\n",
              "    <tr style=\"text-align: right;\">\n",
              "      <th></th>\n",
              "      <th>abstract_text</th>\n",
              "      <th>line_number</th>\n",
              "      <th>total_lines</th>\n",
              "      <th>target</th>\n",
              "      <th>prediction</th>\n",
              "      <th>pred_prob</th>\n",
              "      <th>correct</th>\n",
              "    </tr>\n",
              "  </thead>\n",
              "  <tbody>\n",
              "    <tr>\n",
              "      <th>9130</th>\n",
              "      <td>The expected CIN rate was similar for the two ...</td>\n",
              "      <td>4</td>\n",
              "      <td>11</td>\n",
              "      <td>METHODS</td>\n",
              "      <td>RESULTS</td>\n",
              "      <td>0.999699</td>\n",
              "      <td>False</td>\n",
              "    </tr>\n",
              "    <tr>\n",
              "      <th>21186</th>\n",
              "      <td>Mean distraction rates were similar between gr...</td>\n",
              "      <td>8</td>\n",
              "      <td>18</td>\n",
              "      <td>METHODS</td>\n",
              "      <td>RESULTS</td>\n",
              "      <td>0.999689</td>\n",
              "      <td>False</td>\n",
              "    </tr>\n",
              "    <tr>\n",
              "      <th>30065</th>\n",
              "      <td>There was no significant difference in gender ...</td>\n",
              "      <td>4</td>\n",
              "      <td>13</td>\n",
              "      <td>METHODS</td>\n",
              "      <td>RESULTS</td>\n",
              "      <td>0.999532</td>\n",
              "      <td>False</td>\n",
              "    </tr>\n",
              "    <tr>\n",
              "      <th>13598</th>\n",
              "      <td>-@ % vs. Fish : -@ % vs. Fish + S : -@ % ; p &lt;...</td>\n",
              "      <td>6</td>\n",
              "      <td>10</td>\n",
              "      <td>METHODS</td>\n",
              "      <td>RESULTS</td>\n",
              "      <td>0.999511</td>\n",
              "      <td>False</td>\n",
              "    </tr>\n",
              "    <tr>\n",
              "      <th>19313</th>\n",
              "      <td>( @ ) The differences in heart rate and blood ...</td>\n",
              "      <td>17</td>\n",
              "      <td>20</td>\n",
              "      <td>METHODS</td>\n",
              "      <td>RESULTS</td>\n",
              "      <td>0.999474</td>\n",
              "      <td>False</td>\n",
              "    </tr>\n",
              "    <tr>\n",
              "      <th>6028</th>\n",
              "      <td>Courses were repeated every @ to @ weeks .</td>\n",
              "      <td>5</td>\n",
              "      <td>16</td>\n",
              "      <td>RESULTS</td>\n",
              "      <td>METHODS</td>\n",
              "      <td>0.999307</td>\n",
              "      <td>False</td>\n",
              "    </tr>\n",
              "    <tr>\n",
              "      <th>137</th>\n",
              "      <td>Compared to group S , there was a transient im...</td>\n",
              "      <td>8</td>\n",
              "      <td>9</td>\n",
              "      <td>CONCLUSIONS</td>\n",
              "      <td>RESULTS</td>\n",
              "      <td>0.999134</td>\n",
              "      <td>False</td>\n",
              "    </tr>\n",
              "    <tr>\n",
              "      <th>12158</th>\n",
              "      <td>In the saffron group , there was no decline in...</td>\n",
              "      <td>9</td>\n",
              "      <td>13</td>\n",
              "      <td>METHODS</td>\n",
              "      <td>RESULTS</td>\n",
              "      <td>0.998972</td>\n",
              "      <td>False</td>\n",
              "    </tr>\n",
              "    <tr>\n",
              "      <th>20346</th>\n",
              "      <td>Outcomes were examined using Kaplan-Meier and ...</td>\n",
              "      <td>3</td>\n",
              "      <td>9</td>\n",
              "      <td>RESULTS</td>\n",
              "      <td>METHODS</td>\n",
              "      <td>0.998949</td>\n",
              "      <td>False</td>\n",
              "    </tr>\n",
              "    <tr>\n",
              "      <th>28424</th>\n",
              "      <td>However , the subgroup of subjects , which inh...</td>\n",
              "      <td>5</td>\n",
              "      <td>11</td>\n",
              "      <td>BACKGROUND</td>\n",
              "      <td>RESULTS</td>\n",
              "      <td>0.998411</td>\n",
              "      <td>False</td>\n",
              "    </tr>\n",
              "    <tr>\n",
              "      <th>29294</th>\n",
              "      <td>Baseline measures included sociodemographics ,...</td>\n",
              "      <td>4</td>\n",
              "      <td>14</td>\n",
              "      <td>RESULTS</td>\n",
              "      <td>METHODS</td>\n",
              "      <td>0.997863</td>\n",
              "      <td>False</td>\n",
              "    </tr>\n",
              "    <tr>\n",
              "      <th>9371</th>\n",
              "      <td>In the experimental group all BODE components ...</td>\n",
              "      <td>14</td>\n",
              "      <td>15</td>\n",
              "      <td>CONCLUSIONS</td>\n",
              "      <td>RESULTS</td>\n",
              "      <td>0.997852</td>\n",
              "      <td>False</td>\n",
              "    </tr>\n",
              "    <tr>\n",
              "      <th>25381</th>\n",
              "      <td>RESULTS At @ weeks , the continuous administra...</td>\n",
              "      <td>4</td>\n",
              "      <td>8</td>\n",
              "      <td>METHODS</td>\n",
              "      <td>RESULTS</td>\n",
              "      <td>0.997757</td>\n",
              "      <td>False</td>\n",
              "    </tr>\n",
              "    <tr>\n",
              "      <th>16877</th>\n",
              "      <td>Primary efficacy endpoint was trough forced ex...</td>\n",
              "      <td>4</td>\n",
              "      <td>14</td>\n",
              "      <td>RESULTS</td>\n",
              "      <td>METHODS</td>\n",
              "      <td>0.997721</td>\n",
              "      <td>False</td>\n",
              "    </tr>\n",
              "    <tr>\n",
              "      <th>8655</th>\n",
              "      <td>The intervention groups were either be given a...</td>\n",
              "      <td>12</td>\n",
              "      <td>16</td>\n",
              "      <td>RESULTS</td>\n",
              "      <td>METHODS</td>\n",
              "      <td>0.997721</td>\n",
              "      <td>False</td>\n",
              "    </tr>\n",
              "    <tr>\n",
              "      <th>4699</th>\n",
              "      <td>The primary efficacy end point was primary pat...</td>\n",
              "      <td>3</td>\n",
              "      <td>13</td>\n",
              "      <td>RESULTS</td>\n",
              "      <td>METHODS</td>\n",
              "      <td>0.997658</td>\n",
              "      <td>False</td>\n",
              "    </tr>\n",
              "    <tr>\n",
              "      <th>9467</th>\n",
              "      <td>Total anaerobic counts of bacteria did not dif...</td>\n",
              "      <td>6</td>\n",
              "      <td>10</td>\n",
              "      <td>CONCLUSIONS</td>\n",
              "      <td>RESULTS</td>\n",
              "      <td>0.997587</td>\n",
              "      <td>False</td>\n",
              "    </tr>\n",
              "    <tr>\n",
              "      <th>19312</th>\n",
              "      <td>( @ ) In the MIA group and ADA group , after s...</td>\n",
              "      <td>16</td>\n",
              "      <td>20</td>\n",
              "      <td>METHODS</td>\n",
              "      <td>RESULTS</td>\n",
              "      <td>0.997580</td>\n",
              "      <td>False</td>\n",
              "    </tr>\n",
              "    <tr>\n",
              "      <th>12082</th>\n",
              "      <td>Comparable numbers of patients experienced BCG...</td>\n",
              "      <td>11</td>\n",
              "      <td>19</td>\n",
              "      <td>CONCLUSIONS</td>\n",
              "      <td>RESULTS</td>\n",
              "      <td>0.997475</td>\n",
              "      <td>False</td>\n",
              "    </tr>\n",
              "    <tr>\n",
              "      <th>8526</th>\n",
              "      <td>Study design A prospective , randomized trial ...</td>\n",
              "      <td>1</td>\n",
              "      <td>11</td>\n",
              "      <td>OBJECTIVE</td>\n",
              "      <td>METHODS</td>\n",
              "      <td>0.995824</td>\n",
              "      <td>False</td>\n",
              "    </tr>\n",
              "    <tr>\n",
              "      <th>1221</th>\n",
              "      <td>Data were collected prospectively for @ months...</td>\n",
              "      <td>3</td>\n",
              "      <td>14</td>\n",
              "      <td>RESULTS</td>\n",
              "      <td>METHODS</td>\n",
              "      <td>0.995823</td>\n",
              "      <td>False</td>\n",
              "    </tr>\n",
              "    <tr>\n",
              "      <th>20004</th>\n",
              "      <td>No treatment-related serious AE occurred .</td>\n",
              "      <td>10</td>\n",
              "      <td>12</td>\n",
              "      <td>CONCLUSIONS</td>\n",
              "      <td>RESULTS</td>\n",
              "      <td>0.995799</td>\n",
              "      <td>False</td>\n",
              "    </tr>\n",
              "    <tr>\n",
              "      <th>5394</th>\n",
              "      <td>A randomized , double-blind , crossover study ...</td>\n",
              "      <td>3</td>\n",
              "      <td>13</td>\n",
              "      <td>RESULTS</td>\n",
              "      <td>METHODS</td>\n",
              "      <td>0.995653</td>\n",
              "      <td>False</td>\n",
              "    </tr>\n",
              "    <tr>\n",
              "      <th>19311</th>\n",
              "      <td>The increased dosage of propofol and rocuroniu...</td>\n",
              "      <td>15</td>\n",
              "      <td>20</td>\n",
              "      <td>METHODS</td>\n",
              "      <td>RESULTS</td>\n",
              "      <td>0.995615</td>\n",
              "      <td>False</td>\n",
              "    </tr>\n",
              "    <tr>\n",
              "      <th>19048</th>\n",
              "      <td>A total of eighty migraineurs without aura wer...</td>\n",
              "      <td>3</td>\n",
              "      <td>11</td>\n",
              "      <td>RESULTS</td>\n",
              "      <td>METHODS</td>\n",
              "      <td>0.995495</td>\n",
              "      <td>False</td>\n",
              "    </tr>\n",
              "    <tr>\n",
              "      <th>14002</th>\n",
              "      <td>RESULST : Graybiel ' s score and grading of se...</td>\n",
              "      <td>6</td>\n",
              "      <td>9</td>\n",
              "      <td>METHODS</td>\n",
              "      <td>RESULTS</td>\n",
              "      <td>0.995058</td>\n",
              "      <td>False</td>\n",
              "    </tr>\n",
              "    <tr>\n",
              "      <th>12159</th>\n",
              "      <td>No pain was reported in the saffron group , wh...</td>\n",
              "      <td>10</td>\n",
              "      <td>13</td>\n",
              "      <td>METHODS</td>\n",
              "      <td>RESULTS</td>\n",
              "      <td>0.994914</td>\n",
              "      <td>False</td>\n",
              "    </tr>\n",
              "    <tr>\n",
              "      <th>24249</th>\n",
              "      <td>Participants were examined six-monthly for two...</td>\n",
              "      <td>5</td>\n",
              "      <td>14</td>\n",
              "      <td>RESULTS</td>\n",
              "      <td>METHODS</td>\n",
              "      <td>0.994822</td>\n",
              "      <td>False</td>\n",
              "    </tr>\n",
              "    <tr>\n",
              "      <th>23075</th>\n",
              "      <td>Receiver-operating characteristic analysis sho...</td>\n",
              "      <td>5</td>\n",
              "      <td>12</td>\n",
              "      <td>METHODS</td>\n",
              "      <td>RESULTS</td>\n",
              "      <td>0.994714</td>\n",
              "      <td>False</td>\n",
              "    </tr>\n",
              "    <tr>\n",
              "      <th>9663</th>\n",
              "      <td>Primary ethics approval was received from the ...</td>\n",
              "      <td>14</td>\n",
              "      <td>17</td>\n",
              "      <td>BACKGROUND</td>\n",
              "      <td>METHODS</td>\n",
              "      <td>0.994495</td>\n",
              "      <td>False</td>\n",
              "    </tr>\n",
              "    <tr>\n",
              "      <th>9468</th>\n",
              "      <td>PDT was associated with a significant decrease...</td>\n",
              "      <td>7</td>\n",
              "      <td>10</td>\n",
              "      <td>CONCLUSIONS</td>\n",
              "      <td>RESULTS</td>\n",
              "      <td>0.994303</td>\n",
              "      <td>False</td>\n",
              "    </tr>\n",
              "    <tr>\n",
              "      <th>303</th>\n",
              "      <td>Projected life expectancy was estimated using ...</td>\n",
              "      <td>3</td>\n",
              "      <td>11</td>\n",
              "      <td>RESULTS</td>\n",
              "      <td>METHODS</td>\n",
              "      <td>0.994287</td>\n",
              "      <td>False</td>\n",
              "    </tr>\n",
              "    <tr>\n",
              "      <th>19427</th>\n",
              "      <td>Quality-adjusted lifeyears were calculated by ...</td>\n",
              "      <td>5</td>\n",
              "      <td>13</td>\n",
              "      <td>RESULTS</td>\n",
              "      <td>METHODS</td>\n",
              "      <td>0.993942</td>\n",
              "      <td>False</td>\n",
              "    </tr>\n",
              "    <tr>\n",
              "      <th>15674</th>\n",
              "      <td>Both intervention groups included a face-to-fa...</td>\n",
              "      <td>3</td>\n",
              "      <td>11</td>\n",
              "      <td>RESULTS</td>\n",
              "      <td>METHODS</td>\n",
              "      <td>0.993554</td>\n",
              "      <td>False</td>\n",
              "    </tr>\n",
              "    <tr>\n",
              "      <th>591</th>\n",
              "      <td>During each treatment period , blood samples w...</td>\n",
              "      <td>12</td>\n",
              "      <td>20</td>\n",
              "      <td>RESULTS</td>\n",
              "      <td>METHODS</td>\n",
              "      <td>0.993347</td>\n",
              "      <td>False</td>\n",
              "    </tr>\n",
              "    <tr>\n",
              "      <th>15709</th>\n",
              "      <td>In a prospective , double-blind , placebo-cont...</td>\n",
              "      <td>3</td>\n",
              "      <td>10</td>\n",
              "      <td>RESULTS</td>\n",
              "      <td>METHODS</td>\n",
              "      <td>0.993255</td>\n",
              "      <td>False</td>\n",
              "    </tr>\n",
              "    <tr>\n",
              "      <th>29006</th>\n",
              "      <td>Intervention group patients received an assess...</td>\n",
              "      <td>4</td>\n",
              "      <td>15</td>\n",
              "      <td>RESULTS</td>\n",
              "      <td>METHODS</td>\n",
              "      <td>0.993052</td>\n",
              "      <td>False</td>\n",
              "    </tr>\n",
              "    <tr>\n",
              "      <th>29322</th>\n",
              "      <td>After the procedure , patients in the general ...</td>\n",
              "      <td>7</td>\n",
              "      <td>14</td>\n",
              "      <td>RESULTS</td>\n",
              "      <td>METHODS</td>\n",
              "      <td>0.992866</td>\n",
              "      <td>False</td>\n",
              "    </tr>\n",
              "    <tr>\n",
              "      <th>6365</th>\n",
              "      <td>Adverse events up to the third postoperative d...</td>\n",
              "      <td>7</td>\n",
              "      <td>9</td>\n",
              "      <td>CONCLUSIONS</td>\n",
              "      <td>RESULTS</td>\n",
              "      <td>0.992724</td>\n",
              "      <td>False</td>\n",
              "    </tr>\n",
              "    <tr>\n",
              "      <th>16188</th>\n",
              "      <td>Three analyses of covariance were conducted fo...</td>\n",
              "      <td>8</td>\n",
              "      <td>14</td>\n",
              "      <td>RESULTS</td>\n",
              "      <td>METHODS</td>\n",
              "      <td>0.992624</td>\n",
              "      <td>False</td>\n",
              "    </tr>\n",
              "    <tr>\n",
              "      <th>24202</th>\n",
              "      <td>Patients were unblinded at M@ if there was no ...</td>\n",
              "      <td>4</td>\n",
              "      <td>15</td>\n",
              "      <td>METHODS</td>\n",
              "      <td>RESULTS</td>\n",
              "      <td>0.992525</td>\n",
              "      <td>False</td>\n",
              "    </tr>\n",
              "    <tr>\n",
              "      <th>29323</th>\n",
              "      <td>The group receiving moderate parenterally seda...</td>\n",
              "      <td>8</td>\n",
              "      <td>14</td>\n",
              "      <td>RESULTS</td>\n",
              "      <td>METHODS</td>\n",
              "      <td>0.992487</td>\n",
              "      <td>False</td>\n",
              "    </tr>\n",
              "    <tr>\n",
              "      <th>29098</th>\n",
              "      <td>An active control arm received salmeterol ( SA...</td>\n",
              "      <td>5</td>\n",
              "      <td>16</td>\n",
              "      <td>BACKGROUND</td>\n",
              "      <td>METHODS</td>\n",
              "      <td>0.992172</td>\n",
              "      <td>False</td>\n",
              "    </tr>\n",
              "    <tr>\n",
              "      <th>29692</th>\n",
              "      <td>Repeated measures analysis of variance ( ANOVA...</td>\n",
              "      <td>3</td>\n",
              "      <td>7</td>\n",
              "      <td>RESULTS</td>\n",
              "      <td>METHODS</td>\n",
              "      <td>0.991830</td>\n",
              "      <td>False</td>\n",
              "    </tr>\n",
              "    <tr>\n",
              "      <th>22647</th>\n",
              "      <td>No serious adverse events were reported .</td>\n",
              "      <td>16</td>\n",
              "      <td>19</td>\n",
              "      <td>CONCLUSIONS</td>\n",
              "      <td>RESULTS</td>\n",
              "      <td>0.991613</td>\n",
              "      <td>False</td>\n",
              "    </tr>\n",
              "    <tr>\n",
              "      <th>895</th>\n",
              "      <td>In this all-comer prospective multicenter rand...</td>\n",
              "      <td>1</td>\n",
              "      <td>11</td>\n",
              "      <td>RESULTS</td>\n",
              "      <td>METHODS</td>\n",
              "      <td>0.991571</td>\n",
              "      <td>False</td>\n",
              "    </tr>\n",
              "    <tr>\n",
              "      <th>29097</th>\n",
              "      <td>The primary endpoint was change from baseline ...</td>\n",
              "      <td>4</td>\n",
              "      <td>16</td>\n",
              "      <td>BACKGROUND</td>\n",
              "      <td>METHODS</td>\n",
              "      <td>0.991535</td>\n",
              "      <td>False</td>\n",
              "    </tr>\n",
              "    <tr>\n",
              "      <th>20752</th>\n",
              "      <td>The experiment lasted @weeks , and samples wer...</td>\n",
              "      <td>2</td>\n",
              "      <td>10</td>\n",
              "      <td>BACKGROUND</td>\n",
              "      <td>METHODS</td>\n",
              "      <td>0.991494</td>\n",
              "      <td>False</td>\n",
              "    </tr>\n",
              "    <tr>\n",
              "      <th>2523</th>\n",
              "      <td>A total of @ people ( @ % ) were diagnosed to ...</td>\n",
              "      <td>11</td>\n",
              "      <td>15</td>\n",
              "      <td>OBJECTIVE</td>\n",
              "      <td>RESULTS</td>\n",
              "      <td>0.991066</td>\n",
              "      <td>False</td>\n",
              "    </tr>\n",
              "    <tr>\n",
              "      <th>14628</th>\n",
              "      <td>In this randomized , double-blind , placebo-co...</td>\n",
              "      <td>2</td>\n",
              "      <td>8</td>\n",
              "      <td>RESULTS</td>\n",
              "      <td>METHODS</td>\n",
              "      <td>0.990899</td>\n",
              "      <td>False</td>\n",
              "    </tr>\n",
              "  </tbody>\n",
              "</table>\n",
              "</div>\n",
              "    <div class=\"colab-df-buttons\">\n",
              "\n",
              "  <div class=\"colab-df-container\">\n",
              "    <button class=\"colab-df-convert\" onclick=\"convertToInteractive('df-7cc937a1-50d2-4cd5-ad7e-acae5270682d')\"\n",
              "            title=\"Convert this dataframe to an interactive table.\"\n",
              "            style=\"display:none;\">\n",
              "\n",
              "  <svg xmlns=\"http://www.w3.org/2000/svg\" height=\"24px\" viewBox=\"0 -960 960 960\">\n",
              "    <path d=\"M120-120v-720h720v720H120Zm60-500h600v-160H180v160Zm220 220h160v-160H400v160Zm0 220h160v-160H400v160ZM180-400h160v-160H180v160Zm440 0h160v-160H620v160ZM180-180h160v-160H180v160Zm440 0h160v-160H620v160Z\"/>\n",
              "  </svg>\n",
              "    </button>\n",
              "\n",
              "  <style>\n",
              "    .colab-df-container {\n",
              "      display:flex;\n",
              "      gap: 12px;\n",
              "    }\n",
              "\n",
              "    .colab-df-convert {\n",
              "      background-color: #E8F0FE;\n",
              "      border: none;\n",
              "      border-radius: 50%;\n",
              "      cursor: pointer;\n",
              "      display: none;\n",
              "      fill: #1967D2;\n",
              "      height: 32px;\n",
              "      padding: 0 0 0 0;\n",
              "      width: 32px;\n",
              "    }\n",
              "\n",
              "    .colab-df-convert:hover {\n",
              "      background-color: #E2EBFA;\n",
              "      box-shadow: 0px 1px 2px rgba(60, 64, 67, 0.3), 0px 1px 3px 1px rgba(60, 64, 67, 0.15);\n",
              "      fill: #174EA6;\n",
              "    }\n",
              "\n",
              "    .colab-df-buttons div {\n",
              "      margin-bottom: 4px;\n",
              "    }\n",
              "\n",
              "    [theme=dark] .colab-df-convert {\n",
              "      background-color: #3B4455;\n",
              "      fill: #D2E3FC;\n",
              "    }\n",
              "\n",
              "    [theme=dark] .colab-df-convert:hover {\n",
              "      background-color: #434B5C;\n",
              "      box-shadow: 0px 1px 3px 1px rgba(0, 0, 0, 0.15);\n",
              "      filter: drop-shadow(0px 1px 2px rgba(0, 0, 0, 0.3));\n",
              "      fill: #FFFFFF;\n",
              "    }\n",
              "  </style>\n",
              "\n",
              "    <script>\n",
              "      const buttonEl =\n",
              "        document.querySelector('#df-7cc937a1-50d2-4cd5-ad7e-acae5270682d button.colab-df-convert');\n",
              "      buttonEl.style.display =\n",
              "        google.colab.kernel.accessAllowed ? 'block' : 'none';\n",
              "\n",
              "      async function convertToInteractive(key) {\n",
              "        const element = document.querySelector('#df-7cc937a1-50d2-4cd5-ad7e-acae5270682d');\n",
              "        const dataTable =\n",
              "          await google.colab.kernel.invokeFunction('convertToInteractive',\n",
              "                                                    [key], {});\n",
              "        if (!dataTable) return;\n",
              "\n",
              "        const docLinkHtml = 'Like what you see? Visit the ' +\n",
              "          '<a target=\"_blank\" href=https://colab.research.google.com/notebooks/data_table.ipynb>data table notebook</a>'\n",
              "          + ' to learn more about interactive tables.';\n",
              "        element.innerHTML = '';\n",
              "        dataTable['output_type'] = 'display_data';\n",
              "        await google.colab.output.renderOutput(dataTable, element);\n",
              "        const docLink = document.createElement('div');\n",
              "        docLink.innerHTML = docLinkHtml;\n",
              "        element.appendChild(docLink);\n",
              "      }\n",
              "    </script>\n",
              "  </div>\n",
              "\n",
              "\n",
              "<div id=\"df-a8539d7e-0e0a-4f8d-8bba-63b5bad9de3c\">\n",
              "  <button class=\"colab-df-quickchart\" onclick=\"quickchart('df-a8539d7e-0e0a-4f8d-8bba-63b5bad9de3c')\"\n",
              "            title=\"Suggest charts\"\n",
              "            style=\"display:none;\">\n",
              "\n",
              "<svg xmlns=\"http://www.w3.org/2000/svg\" height=\"24px\"viewBox=\"0 0 24 24\"\n",
              "     width=\"24px\">\n",
              "    <g>\n",
              "        <path d=\"M19 3H5c-1.1 0-2 .9-2 2v14c0 1.1.9 2 2 2h14c1.1 0 2-.9 2-2V5c0-1.1-.9-2-2-2zM9 17H7v-7h2v7zm4 0h-2V7h2v10zm4 0h-2v-4h2v4z\"/>\n",
              "    </g>\n",
              "</svg>\n",
              "  </button>\n",
              "\n",
              "<style>\n",
              "  .colab-df-quickchart {\n",
              "      --bg-color: #E8F0FE;\n",
              "      --fill-color: #1967D2;\n",
              "      --hover-bg-color: #E2EBFA;\n",
              "      --hover-fill-color: #174EA6;\n",
              "      --disabled-fill-color: #AAA;\n",
              "      --disabled-bg-color: #DDD;\n",
              "  }\n",
              "\n",
              "  [theme=dark] .colab-df-quickchart {\n",
              "      --bg-color: #3B4455;\n",
              "      --fill-color: #D2E3FC;\n",
              "      --hover-bg-color: #434B5C;\n",
              "      --hover-fill-color: #FFFFFF;\n",
              "      --disabled-bg-color: #3B4455;\n",
              "      --disabled-fill-color: #666;\n",
              "  }\n",
              "\n",
              "  .colab-df-quickchart {\n",
              "    background-color: var(--bg-color);\n",
              "    border: none;\n",
              "    border-radius: 50%;\n",
              "    cursor: pointer;\n",
              "    display: none;\n",
              "    fill: var(--fill-color);\n",
              "    height: 32px;\n",
              "    padding: 0;\n",
              "    width: 32px;\n",
              "  }\n",
              "\n",
              "  .colab-df-quickchart:hover {\n",
              "    background-color: var(--hover-bg-color);\n",
              "    box-shadow: 0 1px 2px rgba(60, 64, 67, 0.3), 0 1px 3px 1px rgba(60, 64, 67, 0.15);\n",
              "    fill: var(--button-hover-fill-color);\n",
              "  }\n",
              "\n",
              "  .colab-df-quickchart-complete:disabled,\n",
              "  .colab-df-quickchart-complete:disabled:hover {\n",
              "    background-color: var(--disabled-bg-color);\n",
              "    fill: var(--disabled-fill-color);\n",
              "    box-shadow: none;\n",
              "  }\n",
              "\n",
              "  .colab-df-spinner {\n",
              "    border: 2px solid var(--fill-color);\n",
              "    border-color: transparent;\n",
              "    border-bottom-color: var(--fill-color);\n",
              "    animation:\n",
              "      spin 1s steps(1) infinite;\n",
              "  }\n",
              "\n",
              "  @keyframes spin {\n",
              "    0% {\n",
              "      border-color: transparent;\n",
              "      border-bottom-color: var(--fill-color);\n",
              "      border-left-color: var(--fill-color);\n",
              "    }\n",
              "    20% {\n",
              "      border-color: transparent;\n",
              "      border-left-color: var(--fill-color);\n",
              "      border-top-color: var(--fill-color);\n",
              "    }\n",
              "    30% {\n",
              "      border-color: transparent;\n",
              "      border-left-color: var(--fill-color);\n",
              "      border-top-color: var(--fill-color);\n",
              "      border-right-color: var(--fill-color);\n",
              "    }\n",
              "    40% {\n",
              "      border-color: transparent;\n",
              "      border-right-color: var(--fill-color);\n",
              "      border-top-color: var(--fill-color);\n",
              "    }\n",
              "    60% {\n",
              "      border-color: transparent;\n",
              "      border-right-color: var(--fill-color);\n",
              "    }\n",
              "    80% {\n",
              "      border-color: transparent;\n",
              "      border-right-color: var(--fill-color);\n",
              "      border-bottom-color: var(--fill-color);\n",
              "    }\n",
              "    90% {\n",
              "      border-color: transparent;\n",
              "      border-bottom-color: var(--fill-color);\n",
              "    }\n",
              "  }\n",
              "</style>\n",
              "\n",
              "  <script>\n",
              "    async function quickchart(key) {\n",
              "      const quickchartButtonEl =\n",
              "        document.querySelector('#' + key + ' button');\n",
              "      quickchartButtonEl.disabled = true;  // To prevent multiple clicks.\n",
              "      quickchartButtonEl.classList.add('colab-df-spinner');\n",
              "      try {\n",
              "        const charts = await google.colab.kernel.invokeFunction(\n",
              "            'suggestCharts', [key], {});\n",
              "      } catch (error) {\n",
              "        console.error('Error during call to suggestCharts:', error);\n",
              "      }\n",
              "      quickchartButtonEl.classList.remove('colab-df-spinner');\n",
              "      quickchartButtonEl.classList.add('colab-df-quickchart-complete');\n",
              "    }\n",
              "    (() => {\n",
              "      let quickchartButtonEl =\n",
              "        document.querySelector('#df-a8539d7e-0e0a-4f8d-8bba-63b5bad9de3c button');\n",
              "      quickchartButtonEl.style.display =\n",
              "        google.colab.kernel.accessAllowed ? 'block' : 'none';\n",
              "    })();\n",
              "  </script>\n",
              "</div>\n",
              "    </div>\n",
              "  </div>\n"
            ]
          },
          "metadata": {},
          "execution_count": 98
        }
      ]
    },
    {
      "cell_type": "code",
      "metadata": {
        "id": "2Z0VT8c3Z_uM"
      },
      "source": [],
      "execution_count": null,
      "outputs": []
    }
  ]
}